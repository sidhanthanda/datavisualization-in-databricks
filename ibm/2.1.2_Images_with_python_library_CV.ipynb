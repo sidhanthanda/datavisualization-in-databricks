{
 "cells": [
  {
   "cell_type": "markdown",
   "metadata": {
    "application/vnd.databricks.v1+cell": {
     "cellMetadata": {},
     "inputWidgets": {},
     "nuid": "ac768441-33d3-4ace-8ab9-92c9bbef11e6",
     "showTitle": false,
     "title": ""
    }
   },
   "source": [
    "<p>\n",
    "    <a href=\"https://skills.network\" target=\"_blank\">\n",
    "    <img src=\"https://cf-courses-data.s3.us.cloud-object-storage.appdomain.cloud/assets/logos/SN_web_lightmode.png\" width=\"200\" alt=\"Skills Network Logo\">\n",
    "    </a>\n",
    "</p>\n"
   ]
  },
  {
   "cell_type": "markdown",
   "metadata": {
    "application/vnd.databricks.v1+cell": {
     "cellMetadata": {},
     "inputWidgets": {},
     "nuid": "bbadee4b-48d9-4dde-bd4b-a243fd5ad169",
     "showTitle": false,
     "title": ""
    }
   },
   "source": [
    "# OpenCV Library\n"
   ]
  },
  {
   "cell_type": "markdown",
   "metadata": {
    "application/vnd.databricks.v1+cell": {
     "cellMetadata": {},
     "inputWidgets": {},
     "nuid": "5592424c-ba75-43ab-8aa8-647dfc3f3842",
     "showTitle": false,
     "title": ""
    }
   },
   "source": [
    "Estimated time needed: **60** minutes\n"
   ]
  },
  {
   "cell_type": "markdown",
   "metadata": {
    "application/vnd.databricks.v1+cell": {
     "cellMetadata": {},
     "inputWidgets": {},
     "nuid": "076875a0-29d0-4301-b9d2-d40fb9efb055",
     "showTitle": false,
     "title": ""
    }
   },
   "source": [
    "<h2>Objectives</h2>\n"
   ]
  },
  {
   "cell_type": "markdown",
   "metadata": {
    "application/vnd.databricks.v1+cell": {
     "cellMetadata": {},
     "inputWidgets": {},
     "nuid": "35bdf5f3-d392-497a-ae7d-78f3e54d6955",
     "showTitle": false,
     "title": ""
    }
   },
   "source": [
    "Image processing and computer vision tasks include displaying, cropping, flipping, rotating,  image segmentation, classification, image restoration,  image recognition, image generation.  Also, working with images via the cloud requires storing and transmitting, and gathering images through the internet. \n",
    "Python is an excellent choice as it has many image processing tools, computer vision, and artificial intelligence libraries. Finally, it has many libraries for working with files in the cloud and the internet.\n",
    "A digital image is simply a file on your computer. In this lab, you will gain an understanding  of these files and learn to work with these files with some popular libraries\n"
   ]
  },
  {
   "cell_type": "markdown",
   "metadata": {
    "application/vnd.databricks.v1+cell": {
     "cellMetadata": {},
     "inputWidgets": {},
     "nuid": "c0201b75-5537-4680-9679-0ce0e5e5e051",
     "showTitle": false,
     "title": ""
    }
   },
   "source": [
    "<ul>\n",
    "    <li><a href='#PIL'>Open CV </a>\n",
    "        <ul>\n",
    "            <li>Image Files and Paths  </li>\n",
    "            <li>Load in Image in Python</li>\n",
    "            <li>Plotting an Image </li>\n",
    "            <li>Gray Scale Images, Quantization and Color Channels  </li>\n",
    "            <li>Gray Scale Images, Quantization and Color Channels  </li>\n",
    "        </ul>\n",
    "    </li>\n",
    "    \n",
    "</ul>\n"
   ]
  },
  {
   "cell_type": "markdown",
   "metadata": {
    "application/vnd.databricks.v1+cell": {
     "cellMetadata": {},
     "inputWidgets": {},
     "nuid": "4b1616a1-a010-46ed-84e6-23fccc1ba311",
     "showTitle": false,
     "title": ""
    }
   },
   "source": [
    "----\n"
   ]
  },
  {
   "cell_type": "markdown",
   "metadata": {
    "application/vnd.databricks.v1+cell": {
     "cellMetadata": {},
     "inputWidgets": {},
     "nuid": "ad27767f-af2e-4a6a-a203-0840a55232b1",
     "showTitle": false,
     "title": ""
    }
   },
   "source": [
    "Download the image for the lab:\n"
   ]
  },
  {
   "cell_type": "code",
   "execution_count": 0,
   "metadata": {
    "application/vnd.databricks.v1+cell": {
     "cellMetadata": {
      "byteLimit": 2048000,
      "rowLimit": 10000
     },
     "inputWidgets": {},
     "nuid": "bd3eeeb8-86a3-4b05-b9db-206ed93908ce",
     "showTitle": false,
     "title": ""
    }
   },
   "outputs": [],
   "source": [
    "!wget https://cf-courses-data.s3.us.cloud-object-storage.appdomain.cloud/IBMDeveloperSkillsNetwork-CV0101EN-SkillsNetwork/images%20/images_part_1/lenna.png -O lenna.png\n",
    "!wget https://cf-courses-data.s3.us.cloud-object-storage.appdomain.cloud/IBMDeveloperSkillsNetwork-CV0101EN-SkillsNetwork/images%20/images_part_1/baboon.png -O baboon.png\n",
    "!wget https://cf-courses-data.s3.us.cloud-object-storage.appdomain.cloud/IBMDeveloperSkillsNetwork-CV0101EN-SkillsNetwork/images%20/images_part_1/barbara.png -O barbara.png  "
   ]
  },
  {
   "cell_type": "markdown",
   "metadata": {
    "application/vnd.databricks.v1+cell": {
     "cellMetadata": {},
     "inputWidgets": {},
     "nuid": "0531d61c-cfd9-483d-a969-bfec5b3a2501",
     "showTitle": false,
     "title": ""
    }
   },
   "source": [
    "First, let's define a helper function to concatenate two images side-by-side. You will need to understand this code this moment, but this function will be used repeatedly in this tutorial to showcase the results.\n"
   ]
  },
  {
   "cell_type": "code",
   "execution_count": 0,
   "metadata": {
    "application/vnd.databricks.v1+cell": {
     "cellMetadata": {},
     "inputWidgets": {},
     "nuid": "efb7577d-5eb9-4d4f-b3c8-53360b5f3bb9",
     "showTitle": false,
     "title": ""
    }
   },
   "outputs": [],
   "source": [
    "def get_concat_h(im1, im2):\n",
    "    #https://note.nkmk.me/en/python-pillow-concat-images/\n",
    "    dst = Image.new('RGB', (im1.width + im2.width, im1.height))\n",
    "    dst.paste(im1, (0, 0))\n",
    "    dst.paste(im2, (im1.width, 0))\n",
    "    return dst"
   ]
  },
  {
   "cell_type": "markdown",
   "metadata": {
    "application/vnd.databricks.v1+cell": {
     "cellMetadata": {},
     "inputWidgets": {},
     "nuid": "3e8b8055-dd42-4d6d-b032-4808d62f02f4",
     "showTitle": false,
     "title": ""
    }
   },
   "source": [
    "## Image Files and Paths  \n"
   ]
  },
  {
   "cell_type": "markdown",
   "metadata": {
    "application/vnd.databricks.v1+cell": {
     "cellMetadata": {},
     "inputWidgets": {},
     "nuid": "7196c404-cdc1-43d0-9caa-a941672cf928",
     "showTitle": false,
     "title": ""
    }
   },
   "source": [
    "An image is stored as a file on your computer. Below, we define `my_image` as the filename of a file in this directory.\n"
   ]
  },
  {
   "cell_type": "code",
   "execution_count": 0,
   "metadata": {
    "application/vnd.databricks.v1+cell": {
     "cellMetadata": {},
     "inputWidgets": {},
     "nuid": "41fcf753-f844-4d5b-80c5-9f0e3ff436f4",
     "showTitle": false,
     "title": ""
    }
   },
   "outputs": [],
   "source": [
    "my_image = \"lenna.png\""
   ]
  },
  {
   "cell_type": "markdown",
   "metadata": {
    "application/vnd.databricks.v1+cell": {
     "cellMetadata": {},
     "inputWidgets": {},
     "nuid": "32d66fe3-c1a4-4299-8391-b566b83beeb7",
     "showTitle": false,
     "title": ""
    }
   },
   "source": [
    "Filename consists of two parts, the name of the file and the extension, separated by a full stop (`.`). The extension specifies the format of the image. There are two popular image formats -- Joint Photographic Expert Group image (or `.jpg`, `.jpeg`) and Portable Network Graphics (or `.png`). These file types make it simpler to work with images. For example, it compresses the image using sine/cosine approximations, taking less spaces on your drive to store the image.\n"
   ]
  },
  {
   "cell_type": "markdown",
   "metadata": {
    "application/vnd.databricks.v1+cell": {
     "cellMetadata": {},
     "inputWidgets": {},
     "nuid": "480fca98-f304-4e02-966d-9c1be3f8b1d9",
     "showTitle": false,
     "title": ""
    }
   },
   "source": [
    "Image files are stored in the file system of your computer. The location of it is specified using a \"path\", which is often unique. You can find the path of your current working directory with Python's `os` module. The `os` module provides functions to interact with the file system, e.g. creating or removing a directory (folder), listing its contents, changing and identifying the current working directory. \n"
   ]
  },
  {
   "cell_type": "code",
   "execution_count": 0,
   "metadata": {
    "application/vnd.databricks.v1+cell": {
     "cellMetadata": {},
     "inputWidgets": {},
     "nuid": "e0395748-4dea-4538-8b2a-67c7c6b55bce",
     "showTitle": false,
     "title": ""
    }
   },
   "outputs": [],
   "source": [
    "import os\n",
    "cwd = os.getcwd()\n",
    "cwd "
   ]
  },
  {
   "cell_type": "markdown",
   "metadata": {
    "application/vnd.databricks.v1+cell": {
     "cellMetadata": {},
     "inputWidgets": {},
     "nuid": "c4290e0a-07a4-41b2-ab84-796c1c5654e6",
     "showTitle": false,
     "title": ""
    }
   },
   "source": [
    "The \"path\" to an image can be found using the following line of code.\n"
   ]
  },
  {
   "cell_type": "code",
   "execution_count": 0,
   "metadata": {
    "application/vnd.databricks.v1+cell": {
     "cellMetadata": {},
     "inputWidgets": {},
     "nuid": "cf5f0eb8-1566-4aa8-aa6d-48e4c057a8ca",
     "showTitle": false,
     "title": ""
    }
   },
   "outputs": [],
   "source": [
    "image_path = os.path.join(cwd, my_image)\n",
    "image_path"
   ]
  },
  {
   "cell_type": "markdown",
   "metadata": {
    "application/vnd.databricks.v1+cell": {
     "cellMetadata": {},
     "inputWidgets": {},
     "nuid": "cc576c87-9ed7-4ba7-ba45-beb83efd9f78",
     "showTitle": false,
     "title": ""
    }
   },
   "source": [
    "## Load in Image in Python\n"
   ]
  },
  {
   "cell_type": "markdown",
   "metadata": {
    "application/vnd.databricks.v1+cell": {
     "cellMetadata": {},
     "inputWidgets": {},
     "nuid": "88865e15-d681-4a55-a25d-741125f3877a",
     "showTitle": false,
     "title": ""
    }
   },
   "source": [
    "OpenCV is a library used for computer vision. It has more functionality than the `PIL` library but is more difficult to use. We can import `OpenCV` as follows:\n"
   ]
  },
  {
   "cell_type": "code",
   "execution_count": 0,
   "metadata": {
    "application/vnd.databricks.v1+cell": {
     "cellMetadata": {},
     "inputWidgets": {},
     "nuid": "acfd7017-22be-40fc-a928-d47c07ed58fd",
     "showTitle": false,
     "title": ""
    }
   },
   "outputs": [],
   "source": [
    "import cv2"
   ]
  },
  {
   "cell_type": "markdown",
   "metadata": {
    "application/vnd.databricks.v1+cell": {
     "cellMetadata": {},
     "inputWidgets": {},
     "nuid": "e7ef509a-9535-48c7-9d12-74bc291aba6b",
     "showTitle": false,
     "title": ""
    }
   },
   "source": [
    "The <code>imread()</code> method loads an image from the specified file, the input is the <code>path</code> of the image to be read (just like PIL), the <code>flag</code> paramter specifies how the image should be read, and the default value is <code>cv2.IMREAD_COLOR</code>.\n"
   ]
  },
  {
   "cell_type": "code",
   "execution_count": 0,
   "metadata": {
    "application/vnd.databricks.v1+cell": {
     "cellMetadata": {},
     "inputWidgets": {},
     "nuid": "22c44a08-c67a-4bf0-9dc9-c83c65ff39b7",
     "showTitle": false,
     "title": ""
    }
   },
   "outputs": [],
   "source": [
    "image = cv2.imread(my_image)"
   ]
  },
  {
   "cell_type": "markdown",
   "metadata": {
    "application/vnd.databricks.v1+cell": {
     "cellMetadata": {},
     "inputWidgets": {},
     "nuid": "a361ce46-9b47-4b05-92c1-a0368bc088b6",
     "showTitle": false,
     "title": ""
    }
   },
   "source": [
    "The result is a numpy array with intensity values as 8-bit unsigned integers. \n"
   ]
  },
  {
   "cell_type": "code",
   "execution_count": 0,
   "metadata": {
    "application/vnd.databricks.v1+cell": {
     "cellMetadata": {},
     "inputWidgets": {},
     "nuid": "2bb3e87a-4431-49be-8625-cc551b03f4a2",
     "showTitle": false,
     "title": ""
    }
   },
   "outputs": [],
   "source": [
    "type(image)"
   ]
  },
  {
   "cell_type": "markdown",
   "metadata": {
    "application/vnd.databricks.v1+cell": {
     "cellMetadata": {},
     "inputWidgets": {},
     "nuid": "680214e7-ac94-4558-81bc-43f7f7b13e2a",
     "showTitle": false,
     "title": ""
    }
   },
   "source": [
    "We can get the shape of the array from the `shape` attribute.\n"
   ]
  },
  {
   "cell_type": "code",
   "execution_count": 0,
   "metadata": {
    "application/vnd.databricks.v1+cell": {
     "cellMetadata": {},
     "inputWidgets": {},
     "nuid": "aa7a7564-bdb5-4962-b666-4d9aee2d57a3",
     "showTitle": false,
     "title": ""
    }
   },
   "outputs": [],
   "source": [
    "image.shape"
   ]
  },
  {
   "cell_type": "markdown",
   "metadata": {
    "application/vnd.databricks.v1+cell": {
     "cellMetadata": {},
     "inputWidgets": {},
     "nuid": "56076126-264e-45ee-8684-5cd44368554d",
     "showTitle": false,
     "title": ""
    }
   },
   "source": [
    "The shape is the same as the PIL array, but there are several differences; for example, PIL returns in (R, G, B) format whereas OpenCV returns in (B, G, R) format.\n"
   ]
  },
  {
   "cell_type": "markdown",
   "metadata": {
    "application/vnd.databricks.v1+cell": {
     "cellMetadata": {},
     "inputWidgets": {},
     "nuid": "77098918-3038-4cb5-9d28-f7d1b88d7854",
     "showTitle": false,
     "title": ""
    }
   },
   "source": [
    "Each pixel could take on 256 possible values as intensity, ranging from 0 to 255, with 0 being the lowest intensity and 255 being the highest. The maximum and minimum intensity values of an image can be obtained, respectively, by calling:\n"
   ]
  },
  {
   "cell_type": "code",
   "execution_count": 0,
   "metadata": {
    "application/vnd.databricks.v1+cell": {
     "cellMetadata": {},
     "inputWidgets": {},
     "nuid": "d2c9c49b-19bd-4ec9-a105-73074de1bac5",
     "showTitle": false,
     "title": ""
    }
   },
   "outputs": [],
   "source": [
    "image.max()"
   ]
  },
  {
   "cell_type": "markdown",
   "metadata": {
    "application/vnd.databricks.v1+cell": {
     "cellMetadata": {},
     "inputWidgets": {},
     "nuid": "7d6a066a-90cd-4b3b-8609-0c88cb2b5ff3",
     "showTitle": false,
     "title": ""
    }
   },
   "source": [
    "and\n"
   ]
  },
  {
   "cell_type": "code",
   "execution_count": 0,
   "metadata": {
    "application/vnd.databricks.v1+cell": {
     "cellMetadata": {},
     "inputWidgets": {},
     "nuid": "92132179-a0bc-4d1e-abf2-4d5023549025",
     "showTitle": false,
     "title": ""
    }
   },
   "outputs": [],
   "source": [
    "image.min()"
   ]
  },
  {
   "cell_type": "markdown",
   "metadata": {
    "application/vnd.databricks.v1+cell": {
     "cellMetadata": {},
     "inputWidgets": {},
     "nuid": "1276ac76-0fb5-4ccd-a845-725d7d0e44df",
     "showTitle": false,
     "title": ""
    }
   },
   "source": [
    "##  Plotting an Image \n"
   ]
  },
  {
   "cell_type": "markdown",
   "metadata": {
    "application/vnd.databricks.v1+cell": {
     "cellMetadata": {},
     "inputWidgets": {},
     "nuid": "fae404b6-c11b-479b-bfbc-2fa048bf371c",
     "showTitle": false,
     "title": ""
    }
   },
   "source": [
    "You can use OpenCV's `imshow` function to open the image in a new window, but this may give you some issues in Jupyter:\n"
   ]
  },
  {
   "cell_type": "code",
   "execution_count": 0,
   "metadata": {
    "application/vnd.databricks.v1+cell": {
     "cellMetadata": {},
     "inputWidgets": {},
     "nuid": "3591a7c1-abf4-4ac0-b019-3b1f0b2c78dc",
     "showTitle": false,
     "title": ""
    }
   },
   "outputs": [],
   "source": [
    "#cv2.imshow('image', imgage)\n",
    "#cv2.waitKey(0)\n",
    "#cv2.destroyAllWindows()"
   ]
  },
  {
   "cell_type": "markdown",
   "metadata": {
    "application/vnd.databricks.v1+cell": {
     "cellMetadata": {},
     "inputWidgets": {},
     "nuid": "1bca332d-97d8-46fd-a447-01c36dce97d5",
     "showTitle": false,
     "title": ""
    }
   },
   "source": [
    "You can also use the `imshow` function from the `matplotlib` library:\n"
   ]
  },
  {
   "cell_type": "code",
   "execution_count": 0,
   "metadata": {
    "application/vnd.databricks.v1+cell": {
     "cellMetadata": {},
     "inputWidgets": {},
     "nuid": "792e6a11-2789-4fa1-9643-55dd7d105e2f",
     "showTitle": false,
     "title": ""
    }
   },
   "outputs": [],
   "source": [
    "import matplotlib.pyplot as plt"
   ]
  },
  {
   "cell_type": "code",
   "execution_count": 0,
   "metadata": {
    "application/vnd.databricks.v1+cell": {
     "cellMetadata": {},
     "inputWidgets": {},
     "nuid": "90203d74-8d08-4ee0-9c6c-4d9f0dafdbc1",
     "showTitle": false,
     "title": ""
    }
   },
   "outputs": [],
   "source": [
    "plt.figure(figsize=(10,10))\n",
    "plt.imshow(image)\n",
    "plt.show()"
   ]
  },
  {
   "cell_type": "markdown",
   "metadata": {
    "application/vnd.databricks.v1+cell": {
     "cellMetadata": {},
     "inputWidgets": {},
     "nuid": "a8bb65ed-fea2-4ff5-8800-0977b7ea628a",
     "showTitle": false,
     "title": ""
    }
   },
   "source": [
    "The image output doesn't look natural. This is because the order of RGB Channels are different. We can change the color space with conversion code and the function `cvtColor` from the `cv2` library:\n"
   ]
  },
  {
   "cell_type": "code",
   "execution_count": 0,
   "metadata": {
    "application/vnd.databricks.v1+cell": {
     "cellMetadata": {},
     "inputWidgets": {},
     "nuid": "29b6cd52-88a7-48b7-aa15-75a552719edf",
     "showTitle": false,
     "title": ""
    }
   },
   "outputs": [],
   "source": [
    "new_image=cv2.cvtColor(image, cv2.COLOR_BGR2RGB)"
   ]
  },
  {
   "cell_type": "code",
   "execution_count": 0,
   "metadata": {
    "application/vnd.databricks.v1+cell": {
     "cellMetadata": {},
     "inputWidgets": {},
     "nuid": "c7211a92-1887-4078-a589-2e9a1fccc9ef",
     "showTitle": false,
     "title": ""
    }
   },
   "outputs": [],
   "source": [
    "plt.figure(figsize=(10,10))\n",
    "plt.imshow(new_image)\n",
    "plt.show()"
   ]
  },
  {
   "cell_type": "markdown",
   "metadata": {
    "application/vnd.databricks.v1+cell": {
     "cellMetadata": {},
     "inputWidgets": {},
     "nuid": "f69ff070-923c-4e81-93f6-48db4a275350",
     "showTitle": false,
     "title": ""
    }
   },
   "source": [
    "You can also load the image using its path, this comes in handy if the image is not in your working directory:\n"
   ]
  },
  {
   "cell_type": "code",
   "execution_count": 0,
   "metadata": {
    "application/vnd.databricks.v1+cell": {
     "cellMetadata": {},
     "inputWidgets": {},
     "nuid": "673d5999-a547-4cbf-a167-93139c4679db",
     "showTitle": false,
     "title": ""
    }
   },
   "outputs": [],
   "source": [
    "image = cv2.imread(image_path)\n",
    "image.shape"
   ]
  },
  {
   "cell_type": "markdown",
   "metadata": {
    "application/vnd.databricks.v1+cell": {
     "cellMetadata": {},
     "inputWidgets": {},
     "nuid": "7523e308-6e4e-4385-b3ac-85d21cea43e5",
     "showTitle": false,
     "title": ""
    }
   },
   "source": [
    "You can save the image as in `jpg` format.\n"
   ]
  },
  {
   "cell_type": "code",
   "execution_count": 0,
   "metadata": {
    "application/vnd.databricks.v1+cell": {
     "cellMetadata": {},
     "inputWidgets": {},
     "nuid": "00483aa0-9f0c-40ca-8544-60fb70819687",
     "showTitle": false,
     "title": ""
    }
   },
   "outputs": [],
   "source": [
    "cv2.imwrite(\"lenna.jpg\", image)"
   ]
  },
  {
   "cell_type": "markdown",
   "metadata": {
    "application/vnd.databricks.v1+cell": {
     "cellMetadata": {},
     "inputWidgets": {},
     "nuid": "1b887c33-f99b-4b90-bb6f-4cd0af5b91a5",
     "showTitle": false,
     "title": ""
    }
   },
   "source": [
    "### Grayscale Images\n"
   ]
  },
  {
   "cell_type": "markdown",
   "metadata": {
    "application/vnd.databricks.v1+cell": {
     "cellMetadata": {},
     "inputWidgets": {},
     "nuid": "43924425-b4db-4478-a67b-e5e94a433c66",
     "showTitle": false,
     "title": ""
    }
   },
   "source": [
    "Grayscale images have pixel values representing the amount of light or intensity. Light shades of gray have a high-intensity darker shades have a lower intensity. White has the highest intensity, and black the lowest. We can convert an image to Gray Scale using a color conversion code and the function <code>cvtColor</code>.\n"
   ]
  },
  {
   "cell_type": "markdown",
   "metadata": {
    "application/vnd.databricks.v1+cell": {
     "cellMetadata": {},
     "inputWidgets": {},
     "nuid": "0ad1be50-d937-4f7d-8f4c-58f1a0f047b2",
     "showTitle": false,
     "title": ""
    }
   },
   "source": [
    "The code for RGB to gray is <code>cv2.COLOR_BGR2GRAY</code>, we apply the function:\n"
   ]
  },
  {
   "cell_type": "code",
   "execution_count": 0,
   "metadata": {
    "application/vnd.databricks.v1+cell": {
     "cellMetadata": {},
     "inputWidgets": {},
     "nuid": "9fed19cf-1ded-4371-b780-510e7db1ab22",
     "showTitle": false,
     "title": ""
    }
   },
   "outputs": [],
   "source": [
    "image_gray = cv2.cvtColor(image, cv2.COLOR_BGR2GRAY)"
   ]
  },
  {
   "cell_type": "markdown",
   "metadata": {
    "application/vnd.databricks.v1+cell": {
     "cellMetadata": {},
     "inputWidgets": {},
     "nuid": "8dc37520-2e22-4da2-af53-d47bee342a91",
     "showTitle": false,
     "title": ""
    }
   },
   "source": [
    "The image array has only two dimensions, i.e. only one color channel:\n"
   ]
  },
  {
   "cell_type": "code",
   "execution_count": 0,
   "metadata": {
    "application/vnd.databricks.v1+cell": {
     "cellMetadata": {},
     "inputWidgets": {},
     "nuid": "9a92d54c-ebac-4a25-af59-dc09d1fb9355",
     "showTitle": false,
     "title": ""
    }
   },
   "outputs": [],
   "source": [
    "image_gray.shape"
   ]
  },
  {
   "cell_type": "markdown",
   "metadata": {
    "application/vnd.databricks.v1+cell": {
     "cellMetadata": {},
     "inputWidgets": {},
     "nuid": "dcb57511-ddc0-4b2b-aa0b-4a24375e9c62",
     "showTitle": false,
     "title": ""
    }
   },
   "source": [
    "We can plot the image using `imshow` but we have to specify the color map is gray:\n"
   ]
  },
  {
   "cell_type": "code",
   "execution_count": 0,
   "metadata": {
    "application/vnd.databricks.v1+cell": {
     "cellMetadata": {},
     "inputWidgets": {},
     "nuid": "574699a8-f88b-4060-93d4-2b573c092708",
     "showTitle": false,
     "title": ""
    }
   },
   "outputs": [],
   "source": [
    "plt.figure(figsize=(10, 10))\n",
    "plt.imshow(image_gray, cmap='gray')\n",
    "plt.show()"
   ]
  },
  {
   "cell_type": "markdown",
   "metadata": {
    "application/vnd.databricks.v1+cell": {
     "cellMetadata": {},
     "inputWidgets": {},
     "nuid": "ebdc281e-c7a7-4a01-9405-4af917b639aa",
     "showTitle": false,
     "title": ""
    }
   },
   "source": [
    "We can save the image as a grayscale image, let's save it as a `jpg` as well, in the working directory.\n"
   ]
  },
  {
   "cell_type": "code",
   "execution_count": 0,
   "metadata": {
    "application/vnd.databricks.v1+cell": {
     "cellMetadata": {},
     "inputWidgets": {},
     "nuid": "d3ce0eb5-dcac-482f-ad3b-bf5614a6a896",
     "showTitle": false,
     "title": ""
    }
   },
   "outputs": [],
   "source": [
    "cv2.imwrite('lena_gray_cv.jpg', image_gray)"
   ]
  },
  {
   "cell_type": "markdown",
   "metadata": {
    "application/vnd.databricks.v1+cell": {
     "cellMetadata": {},
     "inputWidgets": {},
     "nuid": "c441ce7e-91cd-4bc3-82bb-6ff40f6b6cf3",
     "showTitle": false,
     "title": ""
    }
   },
   "source": [
    "You can also load in a grayscale image we have to set <code>flag</code> parameter to gray color conversation code: <code>cv2.COLOR_BGR2GRAY</code>:\n"
   ]
  },
  {
   "cell_type": "code",
   "execution_count": 0,
   "metadata": {
    "application/vnd.databricks.v1+cell": {
     "cellMetadata": {},
     "inputWidgets": {},
     "nuid": "72a3ca4f-6b0c-4363-8650-a21073e7156d",
     "showTitle": false,
     "title": ""
    }
   },
   "outputs": [],
   "source": [
    "im_gray = cv2.imread('barbara.png', cv2.IMREAD_GRAYSCALE)"
   ]
  },
  {
   "cell_type": "markdown",
   "metadata": {
    "application/vnd.databricks.v1+cell": {
     "cellMetadata": {},
     "inputWidgets": {},
     "nuid": "0d0ac8a6-2ee8-47cb-a02e-eb834ec0382a",
     "showTitle": false,
     "title": ""
    }
   },
   "source": [
    "We can plot the image:\n"
   ]
  },
  {
   "cell_type": "code",
   "execution_count": 0,
   "metadata": {
    "application/vnd.databricks.v1+cell": {
     "cellMetadata": {},
     "inputWidgets": {},
     "nuid": "a18379ce-01b5-47b7-8590-2190dc0d2b91",
     "showTitle": false,
     "title": ""
    }
   },
   "outputs": [],
   "source": [
    "plt.figure(figsize=(10,10))\n",
    "plt.imshow(im_gray,cmap='gray')\n",
    "plt.show()"
   ]
  },
  {
   "cell_type": "markdown",
   "metadata": {
    "application/vnd.databricks.v1+cell": {
     "cellMetadata": {},
     "inputWidgets": {},
     "nuid": "b5082ebb-33b4-449c-bac5-9efa652a9236",
     "showTitle": false,
     "title": ""
    }
   },
   "source": [
    "### Color Channels  \n"
   ]
  },
  {
   "cell_type": "markdown",
   "metadata": {
    "application/vnd.databricks.v1+cell": {
     "cellMetadata": {},
     "inputWidgets": {},
     "nuid": "22a29823-f5ab-4238-981f-99208f481c28",
     "showTitle": false,
     "title": ""
    }
   },
   "source": [
    "We can also work with the different color channels. Consider the following image:\n"
   ]
  },
  {
   "cell_type": "code",
   "execution_count": 0,
   "metadata": {
    "application/vnd.databricks.v1+cell": {
     "cellMetadata": {},
     "inputWidgets": {},
     "nuid": "754a69ff-558f-4913-b612-6a38af238816",
     "showTitle": false,
     "title": ""
    }
   },
   "outputs": [],
   "source": [
    "baboon=cv2.imread('baboon.png')\n",
    "plt.figure(figsize=(10,10))\n",
    "plt.imshow(cv2.cvtColor(baboon, cv2.COLOR_BGR2RGB))\n",
    "plt.show()"
   ]
  },
  {
   "cell_type": "markdown",
   "metadata": {
    "application/vnd.databricks.v1+cell": {
     "cellMetadata": {},
     "inputWidgets": {},
     "nuid": "01b24df7-3180-4006-8b8c-c29437a062c6",
     "showTitle": false,
     "title": ""
    }
   },
   "source": [
    "We can obtain the different RGB colors and assign them to the variables <code>blue</code>, <code>green</code>, and <code>red</code>, in (B, G, R) format.\n"
   ]
  },
  {
   "cell_type": "code",
   "execution_count": 0,
   "metadata": {
    "application/vnd.databricks.v1+cell": {
     "cellMetadata": {},
     "inputWidgets": {},
     "nuid": "f89274ad-c9b0-4a6b-ab24-69619f87bd0a",
     "showTitle": false,
     "title": ""
    }
   },
   "outputs": [],
   "source": [
    "blue, green, red = baboon[:, :, 0], baboon[:, :, 1], baboon[:, :, 2]"
   ]
  },
  {
   "cell_type": "markdown",
   "metadata": {
    "application/vnd.databricks.v1+cell": {
     "cellMetadata": {},
     "inputWidgets": {},
     "nuid": "ecc13abb-14fe-4785-9858-fb8319b47e09",
     "showTitle": false,
     "title": ""
    }
   },
   "source": [
    "We can concatenate each image channel the images using the function <code>vconcat</code>.\n"
   ]
  },
  {
   "cell_type": "code",
   "execution_count": 0,
   "metadata": {
    "application/vnd.databricks.v1+cell": {
     "cellMetadata": {},
     "inputWidgets": {},
     "nuid": "0efa2629-742b-4aac-ba99-82a18a7eaa04",
     "showTitle": false,
     "title": ""
    }
   },
   "outputs": [],
   "source": [
    "im_bgr = cv2.vconcat([blue, green, red])"
   ]
  },
  {
   "cell_type": "markdown",
   "metadata": {
    "application/vnd.databricks.v1+cell": {
     "cellMetadata": {},
     "inputWidgets": {},
     "nuid": "7040d848-e86d-420f-ae6a-5e2dc3b84a50",
     "showTitle": false,
     "title": ""
    }
   },
   "source": [
    "Plotting the color image next to the red channel in grayscale, we see that regions with red have higher intensity values.\n"
   ]
  },
  {
   "cell_type": "code",
   "execution_count": 0,
   "metadata": {
    "application/vnd.databricks.v1+cell": {
     "cellMetadata": {},
     "inputWidgets": {},
     "nuid": "9f12e0d2-9406-436e-bede-e30cb44edd24",
     "showTitle": false,
     "title": ""
    }
   },
   "outputs": [],
   "source": [
    "plt.figure(figsize=(10,10))\n",
    "plt.subplot(121)\n",
    "plt.imshow(cv2.cvtColor(baboon, cv2.COLOR_BGR2RGB))\n",
    "plt.title(\"RGB image\")\n",
    "plt.subplot(122)\n",
    "plt.imshow(im_bgr,cmap='gray')\n",
    "plt.title(\"Different color channels  blue (top), green (middle), red (bottom)  \")\n",
    "plt.show()"
   ]
  },
  {
   "cell_type": "markdown",
   "metadata": {
    "application/vnd.databricks.v1+cell": {
     "cellMetadata": {},
     "inputWidgets": {},
     "nuid": "a508e094-4aba-42ee-a17b-2e6719f84697",
     "showTitle": false,
     "title": ""
    }
   },
   "source": [
    "### Indexing  \n"
   ]
  },
  {
   "cell_type": "markdown",
   "metadata": {
    "application/vnd.databricks.v1+cell": {
     "cellMetadata": {},
     "inputWidgets": {},
     "nuid": "bc8ec386-01f1-4d67-b9d5-f45fc99dfe38",
     "showTitle": false,
     "title": ""
    }
   },
   "source": [
    "We can use numpy slicing. For example, we can return the first 256 rows corresponding to the top half of the image:\n"
   ]
  },
  {
   "cell_type": "code",
   "execution_count": 0,
   "metadata": {
    "application/vnd.databricks.v1+cell": {
     "cellMetadata": {},
     "inputWidgets": {},
     "nuid": "27fe4c9d-88e6-4af5-919e-5e5187c78d4e",
     "showTitle": false,
     "title": ""
    }
   },
   "outputs": [],
   "source": [
    "rows = 256"
   ]
  },
  {
   "cell_type": "code",
   "execution_count": 0,
   "metadata": {
    "application/vnd.databricks.v1+cell": {
     "cellMetadata": {},
     "inputWidgets": {},
     "nuid": "ac1c57ec-1840-4ec0-ac75-c24987e43d42",
     "showTitle": false,
     "title": ""
    }
   },
   "outputs": [],
   "source": [
    "plt.figure(figsize=(10,10))\n",
    "plt.imshow(new_image[0:rows,:,:])\n",
    "plt.show()"
   ]
  },
  {
   "cell_type": "markdown",
   "metadata": {
    "application/vnd.databricks.v1+cell": {
     "cellMetadata": {},
     "inputWidgets": {},
     "nuid": "fd61f01e-7665-445b-b516-b84e86439377",
     "showTitle": false,
     "title": ""
    }
   },
   "source": [
    "We can also return the first 256 columns corresponding to the first half of the image:\n"
   ]
  },
  {
   "cell_type": "code",
   "execution_count": 0,
   "metadata": {
    "application/vnd.databricks.v1+cell": {
     "cellMetadata": {},
     "inputWidgets": {},
     "nuid": "dd73fcba-702c-4245-8c49-af1d365b2d3a",
     "showTitle": false,
     "title": ""
    }
   },
   "outputs": [],
   "source": [
    "columns = 256"
   ]
  },
  {
   "cell_type": "code",
   "execution_count": 0,
   "metadata": {
    "application/vnd.databricks.v1+cell": {
     "cellMetadata": {},
     "inputWidgets": {},
     "nuid": "082b97ab-61cf-4e44-b96a-5a90448a257f",
     "showTitle": false,
     "title": ""
    }
   },
   "outputs": [],
   "source": [
    "plt.figure(figsize=(10,10))\n",
    "plt.imshow(new_image[:,0:columns,:])\n",
    "plt.show()"
   ]
  },
  {
   "cell_type": "markdown",
   "metadata": {
    "application/vnd.databricks.v1+cell": {
     "cellMetadata": {},
     "inputWidgets": {},
     "nuid": "3255b027-15a2-4e8c-9325-5f86fb8934dd",
     "showTitle": false,
     "title": ""
    }
   },
   "source": [
    "If you want to reassign an array to another variable, you should use the `copy` method (we will cover this in the next section).\n"
   ]
  },
  {
   "cell_type": "code",
   "execution_count": 0,
   "metadata": {
    "application/vnd.databricks.v1+cell": {
     "cellMetadata": {},
     "inputWidgets": {},
     "nuid": "c7f74124-0cc9-49d0-830d-549272f95d5c",
     "showTitle": false,
     "title": ""
    }
   },
   "outputs": [],
   "source": [
    "A = new_image.copy()\n",
    "plt.imshow(A)\n",
    "plt.show()"
   ]
  },
  {
   "cell_type": "markdown",
   "metadata": {
    "application/vnd.databricks.v1+cell": {
     "cellMetadata": {},
     "inputWidgets": {},
     "nuid": "57a4a848-acae-4b64-b9d0-5cb0b8838b27",
     "showTitle": false,
     "title": ""
    }
   },
   "source": [
    "If we do not apply the method `copy()`, the variable will point to the same location in memory. Consider the variable `B` below, if we set all values of array `A` to zero, since `A` and `B` points to the same object in the memory, `B` will also have all-zero elements:\n"
   ]
  },
  {
   "cell_type": "code",
   "execution_count": 0,
   "metadata": {
    "application/vnd.databricks.v1+cell": {
     "cellMetadata": {},
     "inputWidgets": {},
     "nuid": "200baf8b-af10-4880-b901-510b8b7ee81c",
     "showTitle": false,
     "title": ""
    }
   },
   "outputs": [],
   "source": [
    "B = A\n",
    "A[:,:,:] = 0\n",
    "plt.imshow(B)\n",
    "plt.show()"
   ]
  },
  {
   "cell_type": "markdown",
   "metadata": {
    "application/vnd.databricks.v1+cell": {
     "cellMetadata": {},
     "inputWidgets": {},
     "nuid": "91829d04-e282-489e-b058-30fc74e145b3",
     "showTitle": false,
     "title": ""
    }
   },
   "source": [
    "We can also manipulate elements using indexing. In the following piece of code, we create a new array `baboon_red` and set all but the red color channels to zero. Therefore, when we display the image, it appears red:\n"
   ]
  },
  {
   "cell_type": "code",
   "execution_count": 0,
   "metadata": {
    "application/vnd.databricks.v1+cell": {
     "cellMetadata": {},
     "inputWidgets": {},
     "nuid": "f5bc58b9-7920-459c-b7e5-46fa3f20c186",
     "showTitle": false,
     "title": ""
    }
   },
   "outputs": [],
   "source": [
    "baboon_red = baboon.copy()\n",
    "baboon_red[:, :, 0] = 0\n",
    "baboon_red[:, :, 1] = 0\n",
    "plt.figure(figsize=(10, 10))\n",
    "plt.imshow(cv2.cvtColor(baboon_red, cv2.COLOR_BGR2RGB))\n",
    "plt.show()"
   ]
  },
  {
   "cell_type": "markdown",
   "metadata": {
    "application/vnd.databricks.v1+cell": {
     "cellMetadata": {},
     "inputWidgets": {},
     "nuid": "c8a9f5b1-6125-4ea6-98b7-762b0e69eab4",
     "showTitle": false,
     "title": ""
    }
   },
   "source": [
    "We can do the same for blue:  \n"
   ]
  },
  {
   "cell_type": "code",
   "execution_count": 0,
   "metadata": {
    "application/vnd.databricks.v1+cell": {
     "cellMetadata": {},
     "inputWidgets": {},
     "nuid": "ce750693-b82a-4976-bf48-48484cf283bd",
     "showTitle": false,
     "title": ""
    }
   },
   "outputs": [],
   "source": [
    "baboon_blue = baboon.copy()\n",
    "baboon_blue[:, :, 1] = 0\n",
    "baboon_blue[:, :, 2] = 0\n",
    "plt.figure(figsize=(10, 10))\n",
    "plt.imshow(cv2.cvtColor(baboon_blue, cv2.COLOR_BGR2RGB))\n",
    "plt.show()"
   ]
  },
  {
   "cell_type": "markdown",
   "metadata": {
    "application/vnd.databricks.v1+cell": {
     "cellMetadata": {},
     "inputWidgets": {},
     "nuid": "1fc09b82-1b25-4dbb-9f95-550f15b5ac09",
     "showTitle": false,
     "title": ""
    }
   },
   "source": [
    "We can do the same for green:\n"
   ]
  },
  {
   "cell_type": "code",
   "execution_count": 0,
   "metadata": {
    "application/vnd.databricks.v1+cell": {
     "cellMetadata": {},
     "inputWidgets": {},
     "nuid": "48a20353-acbf-48a7-8154-a71769ab0288",
     "showTitle": false,
     "title": ""
    }
   },
   "outputs": [],
   "source": [
    "baboon_green = baboon.copy()\n",
    "baboon_green[:, :, 0] = 0\n",
    "baboon_green[:, :, 2] = 0\n",
    "plt.figure(figsize=(10,10))\n",
    "plt.imshow(cv2.cvtColor(baboon_green, cv2.COLOR_BGR2RGB))\n",
    "plt.show()"
   ]
  },
  {
   "cell_type": "code",
   "execution_count": 0,
   "metadata": {
    "application/vnd.databricks.v1+cell": {
     "cellMetadata": {},
     "inputWidgets": {},
     "nuid": "8bd0c413-46bf-4388-a4b3-4bb8260fed6d",
     "showTitle": false,
     "title": ""
    }
   },
   "outputs": [],
   "source": [
    "image=cv2.imread('baboon.png')"
   ]
  },
  {
   "cell_type": "code",
   "execution_count": 0,
   "metadata": {
    "application/vnd.databricks.v1+cell": {
     "cellMetadata": {},
     "inputWidgets": {},
     "nuid": "bc63d122-e686-40c7-b193-6e1379b50d62",
     "showTitle": false,
     "title": ""
    }
   },
   "outputs": [],
   "source": [
    "plt.figure(figsize=(10,10))\n",
    "plt.imshow(cv2.cvtColor(image, cv2.COLOR_BGR2RGB))\n",
    "plt.show()"
   ]
  },
  {
   "cell_type": "code",
   "execution_count": 0,
   "metadata": {
    "application/vnd.databricks.v1+cell": {
     "cellMetadata": {},
     "inputWidgets": {},
     "nuid": "7df28b81-f5c9-4abe-a6e2-e736e2a37d3d",
     "showTitle": false,
     "title": ""
    }
   },
   "outputs": [],
   "source": [
    "image=cv2.imread('baboon.png') # replace and add you image here name \n",
    "baboon_blue=image.copy()\n",
    "baboon_blue[:,:,1] = 0\n",
    "baboon_blue[:,:,2] = 0\n",
    "plt.figure(figsize=(10,10))\n",
    "plt.imshow(cv2.cvtColor(baboon_blue, cv2.COLOR_BGR2RGB))\n",
    "plt.show()"
   ]
  },
  {
   "cell_type": "markdown",
   "metadata": {
    "application/vnd.databricks.v1+cell": {
     "cellMetadata": {},
     "inputWidgets": {},
     "nuid": "149b2dcd-7ed6-42a7-8914-6110dda9ba36",
     "showTitle": false,
     "title": ""
    }
   },
   "source": [
    "### Question 1: \n",
    "Use the image `baboon.png` from this lab or take any image you like.\n",
    "\n",
    "Open the image and create a OpenCV Image object called `baboon_blue`, convert the image from BGR format to RGB format, get the blue channel out of it, and finally plot the image\n"
   ]
  },
  {
   "cell_type": "code",
   "execution_count": 0,
   "metadata": {
    "application/vnd.databricks.v1+cell": {
     "cellMetadata": {},
     "inputWidgets": {},
     "nuid": "2b4e5861-3285-449c-aa65-d7b9ef5ab7cb",
     "showTitle": false,
     "title": ""
    }
   },
   "outputs": [],
   "source": [
    "# write your script here\n"
   ]
  },
  {
   "cell_type": "markdown",
   "metadata": {
    "application/vnd.databricks.v1+cell": {
     "cellMetadata": {},
     "inputWidgets": {},
     "nuid": "6e10839b-aa8e-4664-a094-7e31b101ddc6",
     "showTitle": false,
     "title": ""
    }
   },
   "source": [
    "Double-click **here** for a hint.\n",
    "\n",
    "<!-- The hint is below:\n",
    "\n",
    "baboon_blue[:,:,2] = 0\n",
    "\n",
    "-->\n"
   ]
  },
  {
   "cell_type": "markdown",
   "metadata": {
    "application/vnd.databricks.v1+cell": {
     "cellMetadata": {},
     "inputWidgets": {},
     "nuid": "aa2c0cb8-47f4-4373-a90d-14d784d2b828",
     "showTitle": false,
     "title": ""
    }
   },
   "source": [
    "Double-click **here** for the solution.\n",
    "\n",
    "<!-- The answer is below:\n",
    "\n",
    "baboon_blue=cv2.imread('baboon.png')\n",
    "baboon_blue=cv2.cvtColor(baboon_blue, cv2.COLOR_BGR2RGB)\n",
    "baboon_blue[:,:,2] = 0\n",
    "plt.figure(figsize=(10,10))\n",
    "plt.imshow(baboon_blue)\n",
    "plt.show()\n",
    "\n",
    "-->\n"
   ]
  },
  {
   "cell_type": "markdown",
   "metadata": {
    "application/vnd.databricks.v1+cell": {
     "cellMetadata": {},
     "inputWidgets": {},
     "nuid": "232b9cfe-0fe9-4182-92ac-569f597189cb",
     "showTitle": false,
     "title": ""
    }
   },
   "source": [
    "<h2>Authors</h2>\n"
   ]
  },
  {
   "cell_type": "markdown",
   "metadata": {
    "application/vnd.databricks.v1+cell": {
     "cellMetadata": {},
     "inputWidgets": {},
     "nuid": "12dc13b2-55ad-4c91-8af5-29e5602a0b47",
     "showTitle": false,
     "title": ""
    }
   },
   "source": [
    " [Joseph Santarcangelo]( https://www.linkedin.com/in/joseph-s-50398b136/) has a PhD in Electrical Engineering, his research focused on using machine learning, signal processing, and computer vision to determine how videos impact human cognition. Joseph has been working for IBM since he completed his PhD.\n"
   ]
  },
  {
   "cell_type": "markdown",
   "metadata": {
    "application/vnd.databricks.v1+cell": {
     "cellMetadata": {},
     "inputWidgets": {},
     "nuid": "7078b09d-25ba-4468-a2c6-e48f25a7a7d2",
     "showTitle": false,
     "title": ""
    }
   },
   "source": [
    " [Nayef Abou Tayoun](https://www.linkedin.com/in/nayefaboutayoun/) has a master of management in artificial intelligence degree, focusing on using machine learning and computer vision.   \n"
   ]
  },
  {
   "cell_type": "markdown",
   "metadata": {
    "application/vnd.databricks.v1+cell": {
     "cellMetadata": {},
     "inputWidgets": {},
     "nuid": "ef3d4c63-a006-46e0-b1e7-744dc1f779ae",
     "showTitle": false,
     "title": ""
    }
   },
   "source": [
    "# References \n"
   ]
  },
  {
   "cell_type": "markdown",
   "metadata": {
    "application/vnd.databricks.v1+cell": {
     "cellMetadata": {},
     "inputWidgets": {},
     "nuid": "d564514c-6295-4e93-a143-f535007ab568",
     "showTitle": false,
     "title": ""
    }
   },
   "source": [
    "[1]  Images were taken from: https://homepages.cae.wisc.edu/~ece533/images/\n",
    "    \n",
    "[2]  <a href='https://pillow.readthedocs.io/en/stable/index.html'>Pillow Docs</a>\n",
    "\n",
    "[3]  <a href='https://opencv.org/'>Open CV</a>\n",
    "\n",
    "[4] Gonzalez, Rafael C., and Richard E. Woods. \"Digital image processing.\" (2017).\n"
   ]
  },
  {
   "cell_type": "markdown",
   "metadata": {
    "application/vnd.databricks.v1+cell": {
     "cellMetadata": {},
     "inputWidgets": {},
     "nuid": "e86b1699-53dd-4b10-8148-0b95ae2baa24",
     "showTitle": false,
     "title": ""
    }
   },
   "source": [
    "<!--<h2>Change Log</h2>-->\n"
   ]
  },
  {
   "cell_type": "markdown",
   "metadata": {
    "application/vnd.databricks.v1+cell": {
     "cellMetadata": {},
     "inputWidgets": {},
     "nuid": "1eb8d7e2-3a43-4315-933b-948aa1ac8cd1",
     "showTitle": false,
     "title": ""
    }
   },
   "source": [
    "<!--\n",
    "<table>\n",
    "    <tr>\n",
    "        <th>Date (YYYY-MM-DD)</th>\n",
    "        <th>Version</th>\n",
    "        <th>Changed By</th>\n",
    "        <th>Change Description</th>\n",
    "    </tr>\n",
    "    <tr>\n",
    "        <td>2020-07-20</td>\n",
    "        <td>0.2</td>\n",
    "        <td>Azim</td>\n",
    "        <td>Modified Multiple Areas</td>\n",
    "    </tr>\n",
    "    <tr>\n",
    "        <td>2020-07-17</td>\n",
    "        <td>0.1</td>\n",
    "        <td>Azim</td>\n",
    "        <td>Created Lab Template</td>\n",
    "    </tr>\n",
    "    <tr>\n",
    "        <td>2021-03-06</td>\n",
    "        <td>0.3</td>\n",
    "        <td>Nayef</td>\n",
    "        <td>Modified some codes</td>\n",
    "    </tr>\n",
    "</table>\n",
    "-->\n"
   ]
  },
  {
   "cell_type": "markdown",
   "metadata": {
    "application/vnd.databricks.v1+cell": {
     "cellMetadata": {},
     "inputWidgets": {},
     "nuid": "174c8bd4-ca13-49dd-bf4c-f39478f82bc1",
     "showTitle": false,
     "title": ""
    }
   },
   "source": [
    "<h3 align=\"center\"> &#169; IBM Corporation. All rights reserved. <h3/>\n"
   ]
  }
 ],
 "metadata": {
  "application/vnd.databricks.v1+notebook": {
   "dashboards": [],
   "environmentMetadata": null,
   "language": "python",
   "notebookMetadata": {
    "pythonIndentUnit": 4
   },
   "notebookName": "2.1.2_Images_with_python_library_CV",
   "widgets": {}
  },
  "kernelspec": {
   "display_name": "Python",
   "language": "python",
   "name": "conda-env-python-py"
  },
  "language_info": {
   "codemirror_mode": {
    "name": "ipython",
    "version": 3
   },
   "file_extension": ".py",
   "mimetype": "text/x-python",
   "name": "python",
   "nbconvert_exporter": "python",
   "pygments_lexer": "ipython3",
   "version": "3.7.12"
  },
  "prev_pub_hash": "91d5559200847c55b7d64280c67a707ba71a4a95c1bedd1accf229de1a66c9c0"
 },
 "nbformat": 4,
 "nbformat_minor": 0
}
