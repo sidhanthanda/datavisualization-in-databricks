{
 "cells": [
  {
   "cell_type": "markdown",
   "metadata": {
    "application/vnd.databricks.v1+cell": {
     "cellMetadata": {},
     "inputWidgets": {},
     "nuid": "6cdd23bc-d895-48d3-b813-6afd2eee4317",
     "showTitle": false,
     "title": ""
    }
   },
   "source": [
    "<p>\n",
    "    <a href=\"https://skills.network\" target=\"_blank\">\n",
    "    <img src=\"https://cf-courses-data.s3.us.cloud-object-storage.appdomain.cloud/assets/logos/SN_web_lightmode.png\" width=\"200\" alt=\"Skills Network Logo\">\n",
    "    </a>\n",
    "</p>\n"
   ]
  },
  {
   "cell_type": "markdown",
   "metadata": {
    "application/vnd.databricks.v1+cell": {
     "cellMetadata": {},
     "inputWidgets": {},
     "nuid": "5f1b1cd6-7848-443f-aa17-152def32a768",
     "showTitle": false,
     "title": ""
    }
   },
   "source": [
    "**<h1> Pillow Library (PIL)</h1>**\n"
   ]
  },
  {
   "cell_type": "markdown",
   "metadata": {
    "application/vnd.databricks.v1+cell": {
     "cellMetadata": {},
     "inputWidgets": {},
     "nuid": "2efd7d06-fd57-4cfd-a627-5f7c550e7181",
     "showTitle": false,
     "title": ""
    }
   },
   "source": [
    "Estimated time needed: **60** minutes\n"
   ]
  },
  {
   "cell_type": "markdown",
   "metadata": {
    "application/vnd.databricks.v1+cell": {
     "cellMetadata": {},
     "inputWidgets": {},
     "nuid": "05dbff94-3d49-4117-8ad3-ba658f08f7b7",
     "showTitle": false,
     "title": ""
    }
   },
   "source": [
    "<h2>Objectives</h2>\n"
   ]
  },
  {
   "cell_type": "markdown",
   "metadata": {
    "application/vnd.databricks.v1+cell": {
     "cellMetadata": {},
     "inputWidgets": {},
     "nuid": "9a57106f-0483-4985-8754-745c4b073698",
     "showTitle": false,
     "title": ""
    }
   },
   "source": [
    "Image processing and computer vision tasks include displaying, cropping, flipping, rotating,  image segmentation, classification, image restoration,  image recognition, image generation.  Also, working with images via the cloud requires storing, transmitting, and gathering images through the internet. \n",
    "\n",
    "Python is an excellent choice as it has many image processing tools, computer vision and artificial intelligence libraries. Finally, it has many libraries for working with files in the cloud and on the internet.\n",
    "\n",
    "A digital image is simply a file in your computer. In this lab, you will gain an understanding of these files and learn to work with these files with the Pillow Library (PIL).\n"
   ]
  },
  {
   "cell_type": "markdown",
   "metadata": {
    "application/vnd.databricks.v1+cell": {
     "cellMetadata": {},
     "inputWidgets": {},
     "nuid": "7aaf7e41-cb46-422d-9411-8accab566126",
     "showTitle": false,
     "title": ""
    }
   },
   "source": [
    "<ul>\n",
    "    <li><a href='#PIL'>Python Image Libraries </a>\n",
    "        <ul>\n",
    "            <li>Image Files and Paths  </li>\n",
    "            <li>Load in Image in Python</li>\n",
    "            <li>Plotting an Image </li>\n",
    "            <li>Gray Scale Images, Quantization and Color Channels  </li>\n",
    "            <li> PIL Images into NumPy Arrays  </li>\n",
    "        </ul>\n",
    "    </li>\n",
    "    \n",
    "</ul>\n"
   ]
  },
  {
   "cell_type": "markdown",
   "metadata": {
    "application/vnd.databricks.v1+cell": {
     "cellMetadata": {},
     "inputWidgets": {},
     "nuid": "7bf5b8b4-32f7-4939-a676-be14ac4d66e4",
     "showTitle": false,
     "title": ""
    }
   },
   "source": [
    "----\n"
   ]
  },
  {
   "cell_type": "markdown",
   "metadata": {
    "application/vnd.databricks.v1+cell": {
     "cellMetadata": {},
     "inputWidgets": {},
     "nuid": "4d2c945f-62d6-4b57-bf9d-a2e81e36958a",
     "showTitle": false,
     "title": ""
    }
   },
   "source": [
    "Download the images for the lab:\n"
   ]
  },
  {
   "cell_type": "code",
   "execution_count": 0,
   "metadata": {
    "application/vnd.databricks.v1+cell": {
     "cellMetadata": {
      "byteLimit": 2048000,
      "rowLimit": 10000
     },
     "inputWidgets": {},
     "nuid": "42a4bcfd-8332-4876-8727-cb2884dc7029",
     "showTitle": false,
     "title": ""
    }
   },
   "outputs": [],
   "source": [
    "!wget https://cf-courses-data.s3.us.cloud-object-storage.appdomain.cloud/IBMDeveloperSkillsNetwork-CV0101EN-SkillsNetwork/images%20/images_part_1/lenna.png -O lenna.png\n",
    "!wget https://cf-courses-data.s3.us.cloud-object-storage.appdomain.cloud/IBMDeveloperSkillsNetwork-CV0101EN-SkillsNetwork/images%20/images_part_1/baboon.png -O baboon.png\n",
    "!wget https://cf-courses-data.s3.us.cloud-object-storage.appdomain.cloud/IBMDeveloperSkillsNetwork-CV0101EN-SkillsNetwork/images%20/images_part_1/barbara.png -O barbara.png  "
   ]
  },
  {
   "cell_type": "markdown",
   "metadata": {
    "application/vnd.databricks.v1+cell": {
     "cellMetadata": {},
     "inputWidgets": {},
     "nuid": "1baf15bf-ea86-46d4-baf1-bcd50f87e615",
     "showTitle": false,
     "title": ""
    }
   },
   "source": [
    "First, let's define a helper function to concatenate two images side-by-side. You will not need to understand the code below at this moment, but this function will be used repeatedly in this tutorial to showcase the results.\n"
   ]
  },
  {
   "cell_type": "code",
   "execution_count": 0,
   "metadata": {
    "application/vnd.databricks.v1+cell": {
     "cellMetadata": {
      "byteLimit": 2048000,
      "rowLimit": 10000
     },
     "inputWidgets": {},
     "nuid": "a815decf-0d52-4b71-afa0-a12d820769c2",
     "showTitle": false,
     "title": ""
    }
   },
   "outputs": [],
   "source": [
    "def get_concat_h(im1, im2):\n",
    "    #https://note.nkmk.me/en/python-pillow-concat-images/\n",
    "    dst = Image.new('RGB', (im1.width + im2.width, im1.height))\n",
    "    dst.paste(im1, (0, 0))\n",
    "    dst.paste(im2, (im1.width, 0))\n",
    "    return dst"
   ]
  },
  {
   "cell_type": "markdown",
   "metadata": {
    "application/vnd.databricks.v1+cell": {
     "cellMetadata": {},
     "inputWidgets": {},
     "nuid": "6f61fea2-cc23-4c72-8545-99409e77c4c1",
     "showTitle": false,
     "title": ""
    }
   },
   "source": [
    "## Image Files and Paths  \n"
   ]
  },
  {
   "cell_type": "markdown",
   "metadata": {
    "application/vnd.databricks.v1+cell": {
     "cellMetadata": {},
     "inputWidgets": {},
     "nuid": "3582baac-0d76-4229-955a-bb29188415da",
     "showTitle": false,
     "title": ""
    }
   },
   "source": [
    "An image is stored as a file on your computer. Below, we define `my_image` as the filename of a file in this directory.\n"
   ]
  },
  {
   "cell_type": "code",
   "execution_count": 0,
   "metadata": {
    "application/vnd.databricks.v1+cell": {
     "cellMetadata": {
      "byteLimit": 2048000,
      "rowLimit": 10000
     },
     "inputWidgets": {},
     "nuid": "49ec42b8-9758-42b6-bb61-accea76099e2",
     "showTitle": false,
     "title": ""
    }
   },
   "outputs": [],
   "source": [
    "my_image = \"lenna.png\""
   ]
  },
  {
   "cell_type": "markdown",
   "metadata": {
    "application/vnd.databricks.v1+cell": {
     "cellMetadata": {},
     "inputWidgets": {},
     "nuid": "842decb5-a458-4e13-bf9a-ed509da660ad",
     "showTitle": false,
     "title": ""
    }
   },
   "source": [
    "A filename consists of two parts: the name of the file and the extension, separated by a full stop (`.`). The extension specifies the format of the Image. There are two popular image formats: Joint Photographic Expert Group image (or `.jpg`, `.jpeg`) and Portable Network Graphics (or `.png`). These file types make it simpler to work with images. For example, it compresses the image, taking less spaces on your drive to store the image.\n"
   ]
  },
  {
   "cell_type": "markdown",
   "metadata": {
    "application/vnd.databricks.v1+cell": {
     "cellMetadata": {},
     "inputWidgets": {},
     "nuid": "328e864d-6469-49de-a063-7ffe41374b78",
     "showTitle": false,
     "title": ""
    }
   },
   "source": [
    "Image files are stored in the file system of your computer. The location of it is specified using a \"path\", which is often unique. You can find the path of your current working directory with Python's `os` module. The `os` module provides functions to interact with the file system, e.g. creating or removing a directory (folder), listing its contents, changing and identifying the current working directory. \n"
   ]
  },
  {
   "cell_type": "code",
   "execution_count": 0,
   "metadata": {
    "application/vnd.databricks.v1+cell": {
     "cellMetadata": {
      "byteLimit": 2048000,
      "rowLimit": 10000
     },
     "inputWidgets": {},
     "nuid": "220feaaa-4f0a-4dba-984b-927a7c2df810",
     "showTitle": false,
     "title": ""
    }
   },
   "outputs": [],
   "source": [
    "import os\n",
    "cwd = os.getcwd()\n",
    "cwd "
   ]
  },
  {
   "cell_type": "markdown",
   "metadata": {
    "application/vnd.databricks.v1+cell": {
     "cellMetadata": {},
     "inputWidgets": {},
     "nuid": "0367d573-efeb-490c-bda8-f1a769f36394",
     "showTitle": false,
     "title": ""
    }
   },
   "source": [
    "The \"path\" to an image can be found using the following line of code.\n"
   ]
  },
  {
   "cell_type": "code",
   "execution_count": 0,
   "metadata": {
    "application/vnd.databricks.v1+cell": {
     "cellMetadata": {
      "byteLimit": 2048000,
      "rowLimit": 10000
     },
     "inputWidgets": {},
     "nuid": "91bc2bb2-1a6b-46da-a535-fc68572d35e4",
     "showTitle": false,
     "title": ""
    }
   },
   "outputs": [],
   "source": [
    "image_path = os.path.join(cwd, my_image)\n",
    "image_path"
   ]
  },
  {
   "cell_type": "markdown",
   "metadata": {
    "application/vnd.databricks.v1+cell": {
     "cellMetadata": {},
     "inputWidgets": {},
     "nuid": "40afd41d-094a-4497-bea7-279f6fb296c6",
     "showTitle": false,
     "title": ""
    }
   },
   "source": [
    "## Load Images in Python\n"
   ]
  },
  {
   "cell_type": "markdown",
   "metadata": {
    "application/vnd.databricks.v1+cell": {
     "cellMetadata": {},
     "inputWidgets": {},
     "nuid": "9936613d-bc17-441b-bc4a-bc479bb72926",
     "showTitle": false,
     "title": ""
    }
   },
   "source": [
    "Pillow (PIL) library is a popular library for loading images in Python. In addition, many other libraries such as \"Keras\" and \"PyTorch\" use this library to work with images. The `Image` module provides functions to load images from and saving images to the file system. Let's import it from `PIL`.\n"
   ]
  },
  {
   "cell_type": "code",
   "execution_count": 0,
   "metadata": {
    "application/vnd.databricks.v1+cell": {
     "cellMetadata": {
      "byteLimit": 2048000,
      "rowLimit": 10000
     },
     "inputWidgets": {},
     "nuid": "798781d5-c4ab-4fd9-b0e1-634849889ae4",
     "showTitle": false,
     "title": ""
    }
   },
   "outputs": [],
   "source": [
    "from PIL import Image"
   ]
  },
  {
   "cell_type": "markdown",
   "metadata": {
    "application/vnd.databricks.v1+cell": {
     "cellMetadata": {},
     "inputWidgets": {},
     "nuid": "398d7189-0363-491b-9701-c6d1e9986ebc",
     "showTitle": false,
     "title": ""
    }
   },
   "source": [
    "If the image is in the current working directory, you can load the image as follows using the image's filename and create a PIL Image object:\n"
   ]
  },
  {
   "cell_type": "code",
   "execution_count": 0,
   "metadata": {
    "application/vnd.databricks.v1+cell": {
     "cellMetadata": {
      "byteLimit": 2048000,
      "rowLimit": 10000
     },
     "inputWidgets": {},
     "nuid": "c953a78b-cc28-46ce-b5a5-bc357aae9c9d",
     "showTitle": false,
     "title": ""
    }
   },
   "outputs": [],
   "source": [
    "image = Image.open(my_image)\n",
    "type(image)"
   ]
  },
  {
   "cell_type": "markdown",
   "metadata": {
    "application/vnd.databricks.v1+cell": {
     "cellMetadata": {},
     "inputWidgets": {},
     "nuid": "2488b88b-febe-41ec-bcb8-9f2a2a27cb52",
     "showTitle": false,
     "title": ""
    }
   },
   "source": [
    "If you are working in a Jupyter environment, you can view the image by calling the variable itself.  \n"
   ]
  },
  {
   "cell_type": "code",
   "execution_count": 0,
   "metadata": {
    "application/vnd.databricks.v1+cell": {
     "cellMetadata": {
      "byteLimit": 2048000,
      "rowLimit": 10000
     },
     "inputWidgets": {},
     "nuid": "0b72f79e-6484-42f1-b9db-499763c826db",
     "showTitle": false,
     "title": ""
    }
   },
   "outputs": [],
   "source": [
    "image"
   ]
  },
  {
   "cell_type": "markdown",
   "metadata": {
    "application/vnd.databricks.v1+cell": {
     "cellMetadata": {},
     "inputWidgets": {},
     "nuid": "5f028116-b0f4-4469-824e-308ca4f2efa0",
     "showTitle": false,
     "title": ""
    }
   },
   "source": [
    "##  Plotting an Image \n"
   ]
  },
  {
   "cell_type": "markdown",
   "metadata": {
    "application/vnd.databricks.v1+cell": {
     "cellMetadata": {},
     "inputWidgets": {},
     "nuid": "d712bce6-0f3a-46ca-b6bc-e02835db5305",
     "showTitle": false,
     "title": ""
    }
   },
   "source": [
    "We can also use the method `show` of PIL objects to display the image. Please note this method may or may not work depending on your setup.\n"
   ]
  },
  {
   "cell_type": "code",
   "execution_count": 0,
   "metadata": {
    "application/vnd.databricks.v1+cell": {
     "cellMetadata": {
      "byteLimit": 2048000,
      "rowLimit": 10000
     },
     "inputWidgets": {},
     "nuid": "6a0e421e-ac60-4bd8-80bd-76dc6c942388",
     "showTitle": false,
     "title": ""
    }
   },
   "outputs": [],
   "source": [
    "image.show()"
   ]
  },
  {
   "cell_type": "markdown",
   "metadata": {
    "application/vnd.databricks.v1+cell": {
     "cellMetadata": {},
     "inputWidgets": {},
     "nuid": "1124df26-9ab7-4710-91c8-85a4ae71850e",
     "showTitle": false,
     "title": ""
    }
   },
   "source": [
    "You can also use <code>imshow</code> method from the <code>matplotlib</code> library to display the image.\n"
   ]
  },
  {
   "cell_type": "code",
   "execution_count": 0,
   "metadata": {
    "application/vnd.databricks.v1+cell": {
     "cellMetadata": {
      "byteLimit": 2048000,
      "rowLimit": 10000
     },
     "inputWidgets": {},
     "nuid": "0060554b-84c5-420f-aede-d1715eb6ac84",
     "showTitle": false,
     "title": ""
    }
   },
   "outputs": [],
   "source": [
    "import matplotlib.pyplot as plt"
   ]
  },
  {
   "cell_type": "code",
   "execution_count": 0,
   "metadata": {
    "application/vnd.databricks.v1+cell": {
     "cellMetadata": {
      "byteLimit": 2048000,
      "rowLimit": 10000
     },
     "inputWidgets": {},
     "nuid": "219a7004-8d9f-4f8a-8e89-c76ef3999d66",
     "showTitle": false,
     "title": ""
    }
   },
   "outputs": [],
   "source": [
    "plt.figure(figsize=(10,10))\n",
    "plt.imshow(image)\n",
    "plt.show()"
   ]
  },
  {
   "cell_type": "markdown",
   "metadata": {
    "application/vnd.databricks.v1+cell": {
     "cellMetadata": {},
     "inputWidgets": {},
     "nuid": "4af75d62-6fe1-4d8a-91d4-3bce30289ed0",
     "showTitle": false,
     "title": ""
    }
   },
   "source": [
    "You can also load the image using its full path. This comes in handy if the image is not in your working directory.\n"
   ]
  },
  {
   "cell_type": "code",
   "execution_count": 0,
   "metadata": {
    "application/vnd.databricks.v1+cell": {
     "cellMetadata": {},
     "inputWidgets": {},
     "nuid": "3f12574b-c1c5-465f-b3cb-929483dd04fe",
     "showTitle": false,
     "title": ""
    }
   },
   "outputs": [],
   "source": [
    "image = Image.open(image_path)"
   ]
  },
  {
   "cell_type": "markdown",
   "metadata": {
    "application/vnd.databricks.v1+cell": {
     "cellMetadata": {},
     "inputWidgets": {},
     "nuid": "1e200b28-1f7c-4126-80c6-40d8278e1108",
     "showTitle": false,
     "title": ""
    }
   },
   "source": [
    "We can use the attributes of the image object to get information. The attribute format is the extension or format of the image.\n"
   ]
  },
  {
   "cell_type": "markdown",
   "metadata": {
    "application/vnd.databricks.v1+cell": {
     "cellMetadata": {},
     "inputWidgets": {},
     "nuid": "b65ba54f-d590-44d5-9f6f-d8ec0a7568e6",
     "showTitle": false,
     "title": ""
    }
   },
   "source": [
    "The attribute `size` returns a tuple, the first element is the number of pixels that comprise the width and the second element is the number of pixels that make up the height of the image.   \n"
   ]
  },
  {
   "cell_type": "code",
   "execution_count": 0,
   "metadata": {
    "application/vnd.databricks.v1+cell": {
     "cellMetadata": {
      "byteLimit": 2048000,
      "rowLimit": 10000
     },
     "inputWidgets": {},
     "nuid": "af668a1b-9c66-4197-8404-c0d76a6a5ae1",
     "showTitle": false,
     "title": ""
    }
   },
   "outputs": [],
   "source": [
    "print(image.size)"
   ]
  },
  {
   "cell_type": "markdown",
   "metadata": {
    "application/vnd.databricks.v1+cell": {
     "cellMetadata": {},
     "inputWidgets": {},
     "nuid": "297395b9-22d9-416d-b103-fe7523d6d0cd",
     "showTitle": false,
     "title": ""
    }
   },
   "source": [
    "This is a string specifying the pixel format used. In this case, it's “RGB”. RGB is a color space where red, green, and blue are added together to produce other colors.\n",
    "\n"
   ]
  },
  {
   "cell_type": "code",
   "execution_count": 0,
   "metadata": {
    "application/vnd.databricks.v1+cell": {
     "cellMetadata": {
      "byteLimit": 2048000,
      "rowLimit": 10000
     },
     "inputWidgets": {},
     "nuid": "e951433e-e8ec-4e9a-a7a5-fc660ae9a031",
     "showTitle": false,
     "title": ""
    }
   },
   "outputs": [],
   "source": [
    "print(image.mode)"
   ]
  },
  {
   "cell_type": "markdown",
   "metadata": {
    "application/vnd.databricks.v1+cell": {
     "cellMetadata": {},
     "inputWidgets": {},
     "nuid": "61a58386-0924-4834-b489-5d0a2c4780e9",
     "showTitle": false,
     "title": ""
    }
   },
   "source": [
    "The `Image.open` method does not load image data into the computer memory. The `load` method of `PIL` object reads the file content, decodes it, and expands the image into memory.\n"
   ]
  },
  {
   "cell_type": "code",
   "execution_count": 0,
   "metadata": {
    "application/vnd.databricks.v1+cell": {
     "cellMetadata": {
      "byteLimit": 2048000,
      "rowLimit": 10000
     },
     "inputWidgets": {},
     "nuid": "af0bd00c-61b1-4a72-9488-649d328d3e59",
     "showTitle": false,
     "title": ""
    }
   },
   "outputs": [],
   "source": [
    "im = image.load() "
   ]
  },
  {
   "cell_type": "markdown",
   "metadata": {
    "application/vnd.databricks.v1+cell": {
     "cellMetadata": {},
     "inputWidgets": {},
     "nuid": "7d166a03-7922-46c6-a37d-3067dda60091",
     "showTitle": false,
     "title": ""
    }
   },
   "source": [
    "We can then check the intensity of the image at the $x$-th column and $y$-th row:\n"
   ]
  },
  {
   "cell_type": "code",
   "execution_count": 0,
   "metadata": {
    "application/vnd.databricks.v1+cell": {
     "cellMetadata": {
      "byteLimit": 2048000,
      "rowLimit": 10000
     },
     "inputWidgets": {},
     "nuid": "411ff84b-799d-449b-a40e-d957018362da",
     "showTitle": false,
     "title": ""
    }
   },
   "outputs": [],
   "source": [
    "x = 0\n",
    "y = 1\n",
    "im[y,x]"
   ]
  },
  {
   "cell_type": "markdown",
   "metadata": {
    "application/vnd.databricks.v1+cell": {
     "cellMetadata": {},
     "inputWidgets": {},
     "nuid": "02d4aca1-af77-4344-9117-4b28ef406678",
     "showTitle": false,
     "title": ""
    }
   },
   "source": [
    "We will use the array form to access the elements; it is slightly different.\n"
   ]
  },
  {
   "cell_type": "markdown",
   "metadata": {
    "application/vnd.databricks.v1+cell": {
     "cellMetadata": {},
     "inputWidgets": {},
     "nuid": "a92edf6d-215a-4978-b0ba-529c2e204ba7",
     "showTitle": false,
     "title": ""
    }
   },
   "source": [
    "You can save the image in `jpg` format using the following command.\n"
   ]
  },
  {
   "cell_type": "code",
   "execution_count": 0,
   "metadata": {
    "application/vnd.databricks.v1+cell": {
     "cellMetadata": {
      "byteLimit": 2048000,
      "rowLimit": 10000
     },
     "inputWidgets": {},
     "nuid": "89104d69-d4e8-4baa-8613-1f9e9b050691",
     "showTitle": false,
     "title": ""
    }
   },
   "outputs": [],
   "source": [
    "image.save(\"lenna.jpg\")"
   ]
  },
  {
   "cell_type": "markdown",
   "metadata": {
    "application/vnd.databricks.v1+cell": {
     "cellMetadata": {},
     "inputWidgets": {},
     "nuid": "0e51e782-876e-4baa-aba0-e0bcdc1e7917",
     "showTitle": false,
     "title": ""
    }
   },
   "source": [
    "## Grayscale Images, Quantization and Color Channels  \n"
   ]
  },
  {
   "cell_type": "markdown",
   "metadata": {
    "application/vnd.databricks.v1+cell": {
     "cellMetadata": {},
     "inputWidgets": {},
     "nuid": "ad4a6716-04da-4015-b8fd-137439945604",
     "showTitle": false,
     "title": ""
    }
   },
   "source": [
    "### Grayscale Images\n"
   ]
  },
  {
   "cell_type": "markdown",
   "metadata": {
    "application/vnd.databricks.v1+cell": {
     "cellMetadata": {},
     "inputWidgets": {},
     "nuid": "44788ed1-acdb-4af7-b7b5-9b30127cd475",
     "showTitle": false,
     "title": ""
    }
   },
   "source": [
    "The `ImageOps` module contains several ‘ready-made’ image processing operations. This module is somewhat experimental, and most operators only work with grayscale and/or RGB images.\n"
   ]
  },
  {
   "cell_type": "code",
   "execution_count": 0,
   "metadata": {
    "application/vnd.databricks.v1+cell": {
     "cellMetadata": {
      "byteLimit": 2048000,
      "rowLimit": 10000
     },
     "inputWidgets": {},
     "nuid": "cbf08afd-029e-4e6c-9f2b-817e74b94354",
     "showTitle": false,
     "title": ""
    }
   },
   "outputs": [],
   "source": [
    "from PIL import ImageOps "
   ]
  },
  {
   "cell_type": "markdown",
   "metadata": {
    "application/vnd.databricks.v1+cell": {
     "cellMetadata": {},
     "inputWidgets": {},
     "nuid": "843a833d-7f51-4b57-8741-904651e81617",
     "showTitle": false,
     "title": ""
    }
   },
   "source": [
    "Grayscale images have pixel values representing the amount of light or intensity of that pixel. Light shades of gray have a high-intensity while darker shades have a lower intensity, i.e, white has the highest intensity and black the lowest.\n"
   ]
  },
  {
   "cell_type": "code",
   "execution_count": 0,
   "metadata": {
    "application/vnd.databricks.v1+cell": {
     "cellMetadata": {
      "byteLimit": 2048000,
      "rowLimit": 10000
     },
     "inputWidgets": {},
     "nuid": "6effd7eb-1f6e-46dc-8f5b-ab9babd3f3ad",
     "showTitle": false,
     "title": ""
    }
   },
   "outputs": [],
   "source": [
    "image_gray = ImageOps.grayscale(image) \n",
    "image_gray "
   ]
  },
  {
   "cell_type": "markdown",
   "metadata": {
    "application/vnd.databricks.v1+cell": {
     "cellMetadata": {},
     "inputWidgets": {},
     "nuid": "678798f6-eaf9-4ed9-a998-1030387ec26f",
     "showTitle": false,
     "title": ""
    }
   },
   "source": [
    "The mode is `L` for grayscale.\n"
   ]
  },
  {
   "cell_type": "code",
   "execution_count": 0,
   "metadata": {
    "application/vnd.databricks.v1+cell": {
     "cellMetadata": {
      "byteLimit": 2048000,
      "rowLimit": 10000
     },
     "inputWidgets": {},
     "nuid": "b56b16a7-0b43-4382-beb4-a2d00e34173c",
     "showTitle": false,
     "title": ""
    }
   },
   "outputs": [],
   "source": [
    "image_gray.mode"
   ]
  },
  {
   "cell_type": "markdown",
   "metadata": {
    "application/vnd.databricks.v1+cell": {
     "cellMetadata": {},
     "inputWidgets": {},
     "nuid": "549c29bd-5d08-451b-beb3-f08c64d41ed9",
     "showTitle": false,
     "title": ""
    }
   },
   "source": [
    "### Quantization\n"
   ]
  },
  {
   "cell_type": "markdown",
   "metadata": {
    "application/vnd.databricks.v1+cell": {
     "cellMetadata": {},
     "inputWidgets": {},
     "nuid": "4a5acd2f-9581-4e59-af07-9300f1421e84",
     "showTitle": false,
     "title": ""
    }
   },
   "source": [
    "The Quantization of an image is the number of unique intensity values any given pixel of the image can take. For a grayscale image, this means the number of different shades of gray. Most images have 256 different levels. You can decrease the levels using the method `quantize`. Let's repeatably cut the number of levels in half and observe what happens:\n"
   ]
  },
  {
   "cell_type": "markdown",
   "metadata": {
    "application/vnd.databricks.v1+cell": {
     "cellMetadata": {},
     "inputWidgets": {},
     "nuid": "f93fcaac-4ad5-4e66-b212-e670c3b6a05d",
     "showTitle": false,
     "title": ""
    }
   },
   "source": [
    "Half the levels do not make a noticable difference.\n"
   ]
  },
  {
   "cell_type": "code",
   "execution_count": 0,
   "metadata": {
    "application/vnd.databricks.v1+cell": {
     "cellMetadata": {
      "byteLimit": 2048000,
      "rowLimit": 10000
     },
     "inputWidgets": {},
     "nuid": "1b2093e4-1b2b-47af-aff9-bb4aba7e13fb",
     "showTitle": false,
     "title": ""
    }
   },
   "outputs": [],
   "source": [
    "image_gray.quantize(256 // 2)\n",
    "image_gray.show()"
   ]
  },
  {
   "cell_type": "markdown",
   "metadata": {
    "application/vnd.databricks.v1+cell": {
     "cellMetadata": {},
     "inputWidgets": {},
     "nuid": "26aa0889-9ae6-4701-93d8-9da74bb70616",
     "showTitle": false,
     "title": ""
    }
   },
   "source": [
    "Let’s continue dividing the number of values by two and compare it to the original image.\n"
   ]
  },
  {
   "cell_type": "code",
   "execution_count": 0,
   "metadata": {
    "application/vnd.databricks.v1+cell": {
     "cellMetadata": {
      "byteLimit": 2048000,
      "rowLimit": 10000
     },
     "inputWidgets": {},
     "nuid": "9e11a486-dd49-47f6-b063-d0c25858558b",
     "showTitle": false,
     "title": ""
    }
   },
   "outputs": [],
   "source": [
    "#get_concat_h(image_gray,  image_gray.quantize(256//2)).show(title=\"Lena\") \n",
    "for n in range(3,8):\n",
    "    plt.figure(figsize=(10,10))\n",
    "\n",
    "    plt.imshow(get_concat_h(image_gray,  image_gray.quantize(256//2**n))) \n",
    "    plt.title(\"256 Quantization Levels  left vs {}  Quantization Levels right\".format(256//2**n))\n",
    "    plt.show()"
   ]
  },
  {
   "cell_type": "markdown",
   "metadata": {
    "application/vnd.databricks.v1+cell": {
     "cellMetadata": {},
     "inputWidgets": {},
     "nuid": "d4b2a6f6-9993-4102-836c-1c24bf5b105d",
     "showTitle": false,
     "title": ""
    }
   },
   "source": [
    "### Color Channels  \n"
   ]
  },
  {
   "cell_type": "markdown",
   "metadata": {
    "application/vnd.databricks.v1+cell": {
     "cellMetadata": {},
     "inputWidgets": {},
     "nuid": "f51b5a4d-b635-4217-80df-f492ba204e57",
     "showTitle": false,
     "title": ""
    }
   },
   "source": [
    "We can also work with the different color channels. Consider the following image:\n"
   ]
  },
  {
   "cell_type": "code",
   "execution_count": 0,
   "metadata": {
    "application/vnd.databricks.v1+cell": {
     "cellMetadata": {
      "byteLimit": 2048000,
      "rowLimit": 10000
     },
     "inputWidgets": {},
     "nuid": "92edd7fa-2e32-49a6-a209-72292788ca6e",
     "showTitle": false,
     "title": ""
    }
   },
   "outputs": [],
   "source": [
    "baboon = Image.open('baboon.png')\n",
    "baboon"
   ]
  },
  {
   "cell_type": "markdown",
   "metadata": {
    "application/vnd.databricks.v1+cell": {
     "cellMetadata": {},
     "inputWidgets": {},
     "nuid": "67406432-f947-4040-866e-b5ed854bff76",
     "showTitle": false,
     "title": ""
    }
   },
   "source": [
    "We can obtain the different RGB color channels and assign them to the variables <code>red</code>, <code>green</code>, and <code>blue</code>:\n"
   ]
  },
  {
   "cell_type": "code",
   "execution_count": 0,
   "metadata": {
    "application/vnd.databricks.v1+cell": {
     "cellMetadata": {
      "byteLimit": 2048000,
      "rowLimit": 10000
     },
     "inputWidgets": {},
     "nuid": "eeab523f-5c55-4c72-b8be-e46b453a58f5",
     "showTitle": false,
     "title": ""
    }
   },
   "outputs": [],
   "source": [
    "red, green, blue = baboon.split()"
   ]
  },
  {
   "cell_type": "markdown",
   "metadata": {
    "application/vnd.databricks.v1+cell": {
     "cellMetadata": {},
     "inputWidgets": {},
     "nuid": "25374632-8902-4f81-8d3a-4724717df788",
     "showTitle": false,
     "title": ""
    }
   },
   "source": [
    "Plotting the color image next to the red channel as a grayscale, we see that regions with red have higher intensity values.\n"
   ]
  },
  {
   "cell_type": "code",
   "execution_count": 0,
   "metadata": {
    "application/vnd.databricks.v1+cell": {
     "cellMetadata": {
      "byteLimit": 2048000,
      "rowLimit": 10000
     },
     "inputWidgets": {},
     "nuid": "b20cc743-1afc-4a97-ab86-bd4792d584f3",
     "showTitle": false,
     "title": ""
    }
   },
   "outputs": [],
   "source": [
    "get_concat_h(baboon, red)"
   ]
  },
  {
   "cell_type": "markdown",
   "metadata": {
    "application/vnd.databricks.v1+cell": {
     "cellMetadata": {},
     "inputWidgets": {},
     "nuid": "27b9b929-1ead-46b0-b5ad-70f9c1fdb6c3",
     "showTitle": false,
     "title": ""
    }
   },
   "source": [
    "We can do the same for the blue and green channels:\n"
   ]
  },
  {
   "cell_type": "code",
   "execution_count": 0,
   "metadata": {
    "application/vnd.databricks.v1+cell": {
     "cellMetadata": {
      "byteLimit": 2048000,
      "rowLimit": 10000
     },
     "inputWidgets": {},
     "nuid": "1cb4f797-cf72-4100-8d59-be5f0d26cff8",
     "showTitle": false,
     "title": ""
    }
   },
   "outputs": [],
   "source": [
    "get_concat_h(baboon, blue)"
   ]
  },
  {
   "cell_type": "code",
   "execution_count": 0,
   "metadata": {
    "application/vnd.databricks.v1+cell": {
     "cellMetadata": {
      "byteLimit": 2048000,
      "rowLimit": 10000
     },
     "inputWidgets": {},
     "nuid": "1954288d-9a52-431d-9a63-73d75d3180a9",
     "showTitle": false,
     "title": ""
    }
   },
   "outputs": [],
   "source": [
    "get_concat_h(baboon, green)"
   ]
  },
  {
   "cell_type": "markdown",
   "metadata": {
    "application/vnd.databricks.v1+cell": {
     "cellMetadata": {},
     "inputWidgets": {},
     "nuid": "0abfbea9-392e-4f2f-9123-9e2cbbae4a7f",
     "showTitle": false,
     "title": ""
    }
   },
   "source": [
    "## PIL Images into NumPy Arrays\n"
   ]
  },
  {
   "cell_type": "markdown",
   "metadata": {
    "application/vnd.databricks.v1+cell": {
     "cellMetadata": {},
     "inputWidgets": {},
     "nuid": "adf989fc-aca1-4197-971a-187db4124188",
     "showTitle": false,
     "title": ""
    }
   },
   "source": [
    "NumPy is a library for Python, allowing you to work with multi-dimensional arrays and matrices. We can convert a PIL image to a NumPy array. We use <code>asarray()</code> or <code>array</code> function from NumPy to convert PIL images into NumPy arrays. \n",
    "\n",
    "First, let's import the numpy module:\n"
   ]
  },
  {
   "cell_type": "code",
   "execution_count": 0,
   "metadata": {
    "application/vnd.databricks.v1+cell": {
     "cellMetadata": {
      "byteLimit": 2048000,
      "rowLimit": 10000
     },
     "inputWidgets": {},
     "nuid": "f734fee5-6dc2-43db-9bd6-4137989cdde3",
     "showTitle": false,
     "title": ""
    }
   },
   "outputs": [],
   "source": [
    "import numpy as np"
   ]
  },
  {
   "cell_type": "markdown",
   "metadata": {
    "application/vnd.databricks.v1+cell": {
     "cellMetadata": {},
     "inputWidgets": {},
     "nuid": "9f9523ef-2ba6-432f-8316-dbd5066e4072",
     "showTitle": false,
     "title": ""
    }
   },
   "source": [
    "We apply it to the <code>PIL</code> image we get a numpy array:\n"
   ]
  },
  {
   "cell_type": "code",
   "execution_count": 0,
   "metadata": {
    "application/vnd.databricks.v1+cell": {
     "cellMetadata": {
      "byteLimit": 2048000,
      "rowLimit": 10000
     },
     "inputWidgets": {},
     "nuid": "be30d726-05bc-49f4-b791-4598c6440906",
     "showTitle": false,
     "title": ""
    }
   },
   "outputs": [],
   "source": [
    "array= np.asarray(image)\n",
    "print(type(array))"
   ]
  },
  {
   "cell_type": "markdown",
   "metadata": {
    "application/vnd.databricks.v1+cell": {
     "cellMetadata": {},
     "inputWidgets": {},
     "nuid": "cabd7987-4745-4659-a84a-d64183f81442",
     "showTitle": false,
     "title": ""
    }
   },
   "source": [
    "`np.asarray` turns the original image into a numpy array. Often, we don't want to manipulate the image directly, but instead, create a copy of the image to manipulate. The `np.array` method creates a new copy of the image, such that the original one will remain unmodified.\n"
   ]
  },
  {
   "cell_type": "code",
   "execution_count": 0,
   "metadata": {
    "application/vnd.databricks.v1+cell": {
     "cellMetadata": {
      "byteLimit": 2048000,
      "rowLimit": 10000
     },
     "inputWidgets": {},
     "nuid": "181907c4-d69c-4bcd-832c-4cbb5e7ecb91",
     "showTitle": false,
     "title": ""
    }
   },
   "outputs": [],
   "source": [
    "array = np.array(image)"
   ]
  },
  {
   "cell_type": "markdown",
   "metadata": {
    "application/vnd.databricks.v1+cell": {
     "cellMetadata": {},
     "inputWidgets": {},
     "nuid": "881f6927-5577-42f5-8663-df2e8e26d4db",
     "showTitle": false,
     "title": ""
    }
   },
   "source": [
    "The attribute  <code>shape</code> of a `numpy.array` object returns a tuple corresponding to the dimensions of it, the first element gives the number of rows or height of the image,  the second is element is the number of columns or width of the image. The final element is the number of colour channels.\n"
   ]
  },
  {
   "cell_type": "code",
   "execution_count": 0,
   "metadata": {
    "application/vnd.databricks.v1+cell": {
     "cellMetadata": {
      "byteLimit": 2048000,
      "rowLimit": 10000
     },
     "inputWidgets": {},
     "nuid": "9bf0be2c-9ec5-47ab-9d4e-3be6790c3b72",
     "showTitle": false,
     "title": ""
    }
   },
   "outputs": [],
   "source": [
    "# summarize shape\n",
    "print(array.shape)"
   ]
  },
  {
   "cell_type": "markdown",
   "metadata": {
    "application/vnd.databricks.v1+cell": {
     "cellMetadata": {},
     "inputWidgets": {},
     "nuid": "5607b722-e12e-47b6-8824-443fcd3d0fb9",
     "showTitle": false,
     "title": ""
    }
   },
   "source": [
    "or <code>(rows, columns, colors)</code>. Each element in the color axis  corresponds to the following value  <code>(R, G, B)</code> format.\n"
   ]
  },
  {
   "cell_type": "markdown",
   "metadata": {
    "application/vnd.databricks.v1+cell": {
     "cellMetadata": {},
     "inputWidgets": {},
     "nuid": "8202ea95-b112-473b-92f3-17f34b5b7da4",
     "showTitle": false,
     "title": ""
    }
   },
   "source": [
    "We can view the intensity values by printing out the array, they range from 0 to 255 or $2^{8}$ (8-bit).\n"
   ]
  },
  {
   "cell_type": "code",
   "execution_count": 0,
   "metadata": {
    "application/vnd.databricks.v1+cell": {
     "cellMetadata": {
      "byteLimit": 2048000,
      "rowLimit": 10000
     },
     "inputWidgets": {},
     "nuid": "417e2292-ee77-4884-b766-8906daf6b730",
     "showTitle": false,
     "title": ""
    }
   },
   "outputs": [],
   "source": [
    "print(array)"
   ]
  },
  {
   "cell_type": "markdown",
   "metadata": {
    "application/vnd.databricks.v1+cell": {
     "cellMetadata": {},
     "inputWidgets": {},
     "nuid": "826dca3b-548b-43b6-a5f4-a2560a24476e",
     "showTitle": false,
     "title": ""
    }
   },
   "source": [
    "The Intensity values are  8-bit unsigned datatype.\n"
   ]
  },
  {
   "cell_type": "code",
   "execution_count": 0,
   "metadata": {
    "application/vnd.databricks.v1+cell": {
     "cellMetadata": {
      "byteLimit": 2048000,
      "rowLimit": 10000
     },
     "inputWidgets": {},
     "nuid": "0682d0e2-a9b0-4543-858b-36db1495254f",
     "showTitle": false,
     "title": ""
    }
   },
   "outputs": [],
   "source": [
    "array[0, 0]"
   ]
  },
  {
   "cell_type": "markdown",
   "metadata": {
    "application/vnd.databricks.v1+cell": {
     "cellMetadata": {},
     "inputWidgets": {},
     "nuid": "9c83931d-6361-4922-85f6-425ea9d03c36",
     "showTitle": false,
     "title": ""
    }
   },
   "source": [
    "We can find the maximum and minimum intensity value of the array:      \n"
   ]
  },
  {
   "cell_type": "code",
   "execution_count": 0,
   "metadata": {
    "application/vnd.databricks.v1+cell": {
     "cellMetadata": {
      "byteLimit": 2048000,
      "rowLimit": 10000
     },
     "inputWidgets": {},
     "nuid": "b721d776-4003-474c-86f1-361893c3da3d",
     "showTitle": false,
     "title": ""
    }
   },
   "outputs": [],
   "source": [
    "array.min()"
   ]
  },
  {
   "cell_type": "code",
   "execution_count": 0,
   "metadata": {
    "application/vnd.databricks.v1+cell": {
     "cellMetadata": {
      "byteLimit": 2048000,
      "rowLimit": 10000
     },
     "inputWidgets": {},
     "nuid": "0a1b83f7-e7e1-467a-be72-32579b245fe0",
     "showTitle": false,
     "title": ""
    }
   },
   "outputs": [],
   "source": [
    "array.max()"
   ]
  },
  {
   "cell_type": "markdown",
   "metadata": {
    "application/vnd.databricks.v1+cell": {
     "cellMetadata": {},
     "inputWidgets": {},
     "nuid": "ef7bbdd6-4a5a-4adf-b819-ceecb0b2fb13",
     "showTitle": false,
     "title": ""
    }
   },
   "source": [
    "### Indexing  \n"
   ]
  },
  {
   "cell_type": "markdown",
   "metadata": {
    "application/vnd.databricks.v1+cell": {
     "cellMetadata": {},
     "inputWidgets": {},
     "nuid": "39bb3def-c321-42e5-86f6-25b01be35752",
     "showTitle": false,
     "title": ""
    }
   },
   "source": [
    "You can plot the array as an image:\n"
   ]
  },
  {
   "cell_type": "code",
   "execution_count": 0,
   "metadata": {
    "application/vnd.databricks.v1+cell": {
     "cellMetadata": {},
     "inputWidgets": {},
     "nuid": "affb08f5-761e-4b38-b845-d21409edaad0",
     "showTitle": false,
     "title": ""
    }
   },
   "outputs": [],
   "source": [
    "plt.figure(figsize=(10,10))\n",
    "plt.imshow(array)\n",
    "plt.show()"
   ]
  },
  {
   "cell_type": "markdown",
   "metadata": {
    "application/vnd.databricks.v1+cell": {
     "cellMetadata": {},
     "inputWidgets": {},
     "nuid": "49ba136a-23fe-40d0-bbed-e3b6170013e7",
     "showTitle": false,
     "title": ""
    }
   },
   "source": [
    "We can use numpy slicing, for example, we can return the first 256 rows corresponding to the top half of the image:\n"
   ]
  },
  {
   "cell_type": "code",
   "execution_count": 0,
   "metadata": {
    "application/vnd.databricks.v1+cell": {
     "cellMetadata": {},
     "inputWidgets": {},
     "nuid": "484f3282-de78-44b4-b5f6-42f02cf9e7f3",
     "showTitle": false,
     "title": ""
    }
   },
   "outputs": [],
   "source": [
    "rows = 256"
   ]
  },
  {
   "cell_type": "code",
   "execution_count": 0,
   "metadata": {
    "application/vnd.databricks.v1+cell": {
     "cellMetadata": {},
     "inputWidgets": {},
     "nuid": "41afd028-ec8d-4e01-99f1-b476a7ce3ac5",
     "showTitle": false,
     "title": ""
    }
   },
   "outputs": [],
   "source": [
    "plt.figure(figsize=(10,10))\n",
    "plt.imshow(array[0:rows,:,:])\n",
    "plt.show()"
   ]
  },
  {
   "cell_type": "markdown",
   "metadata": {
    "application/vnd.databricks.v1+cell": {
     "cellMetadata": {},
     "inputWidgets": {},
     "nuid": "b12170c6-b26c-484c-b90e-0b0c4cad0754",
     "showTitle": false,
     "title": ""
    }
   },
   "source": [
    "We can also return the first 256 columns corresponding to the first half of the image.\n"
   ]
  },
  {
   "cell_type": "code",
   "execution_count": 0,
   "metadata": {
    "application/vnd.databricks.v1+cell": {
     "cellMetadata": {},
     "inputWidgets": {},
     "nuid": "4323c6a3-b98a-4274-8e1d-40cc5ad33c76",
     "showTitle": false,
     "title": ""
    }
   },
   "outputs": [],
   "source": [
    "columns = 256"
   ]
  },
  {
   "cell_type": "code",
   "execution_count": 0,
   "metadata": {
    "application/vnd.databricks.v1+cell": {
     "cellMetadata": {},
     "inputWidgets": {},
     "nuid": "b9675413-b95d-4e65-b339-759839b689aa",
     "showTitle": false,
     "title": ""
    }
   },
   "outputs": [],
   "source": [
    "plt.figure(figsize=(10,10))\n",
    "plt.imshow(array[:,0:columns,:])\n",
    "plt.show()"
   ]
  },
  {
   "cell_type": "markdown",
   "metadata": {
    "application/vnd.databricks.v1+cell": {
     "cellMetadata": {},
     "inputWidgets": {},
     "nuid": "3e37c5ef-160d-4386-8693-12b032198130",
     "showTitle": false,
     "title": ""
    }
   },
   "source": [
    "If you want to reassign an array to another variable, you should use the `copy` method (we will cover this in the next section).\n"
   ]
  },
  {
   "cell_type": "code",
   "execution_count": 0,
   "metadata": {
    "application/vnd.databricks.v1+cell": {
     "cellMetadata": {},
     "inputWidgets": {},
     "nuid": "f499747e-e166-44de-b290-0d759c7e828a",
     "showTitle": false,
     "title": ""
    }
   },
   "outputs": [],
   "source": [
    "A = array.copy()\n",
    "plt.imshow(A)\n",
    "plt.show()"
   ]
  },
  {
   "cell_type": "markdown",
   "metadata": {
    "application/vnd.databricks.v1+cell": {
     "cellMetadata": {},
     "inputWidgets": {},
     "nuid": "08512ba1-2b72-436f-b413-88200fb74e97",
     "showTitle": false,
     "title": ""
    }
   },
   "source": [
    "If we do not apply the method copy(), the variable will point to the same location in memory. Consider the array B. If we set all values of array A to zero, as B points to A, the values of B will be zero too:\n"
   ]
  },
  {
   "cell_type": "code",
   "execution_count": 0,
   "metadata": {
    "application/vnd.databricks.v1+cell": {
     "cellMetadata": {},
     "inputWidgets": {},
     "nuid": "16997220-1e35-4e92-af39-b7115f972b6b",
     "showTitle": false,
     "title": ""
    }
   },
   "outputs": [],
   "source": [
    "B = A\n",
    "A[:,:,:] = 0\n",
    "plt.imshow(B)\n",
    "plt.show()"
   ]
  },
  {
   "cell_type": "markdown",
   "metadata": {
    "application/vnd.databricks.v1+cell": {
     "cellMetadata": {},
     "inputWidgets": {},
     "nuid": "852e04a8-da1e-40df-ad7f-e52e1a61656c",
     "showTitle": false,
     "title": ""
    }
   },
   "source": [
    "We can also work with the different color channels. Consider the baboon image: \n"
   ]
  },
  {
   "cell_type": "code",
   "execution_count": 0,
   "metadata": {
    "application/vnd.databricks.v1+cell": {
     "cellMetadata": {},
     "inputWidgets": {},
     "nuid": "250a4947-1ebe-4b17-9c76-f2e74518df3d",
     "showTitle": false,
     "title": ""
    }
   },
   "outputs": [],
   "source": [
    "baboon_array = np.array(baboon)\n",
    "plt.figure(figsize=(10,10))\n",
    "plt.imshow(baboon_array)\n",
    "plt.show()"
   ]
  },
  {
   "cell_type": "markdown",
   "metadata": {
    "application/vnd.databricks.v1+cell": {
     "cellMetadata": {},
     "inputWidgets": {},
     "nuid": "a2499e8d-9049-4b6b-bffb-8bc6e9fc5691",
     "showTitle": false,
     "title": ""
    }
   },
   "source": [
    "We can plot the red channel as intensity values of the red channel.\n"
   ]
  },
  {
   "cell_type": "code",
   "execution_count": 0,
   "metadata": {
    "application/vnd.databricks.v1+cell": {
     "cellMetadata": {},
     "inputWidgets": {},
     "nuid": "2dfd1e49-3d97-4cd9-8906-8660fdf63dad",
     "showTitle": false,
     "title": ""
    }
   },
   "outputs": [],
   "source": [
    "baboon_array = np.array(baboon)\n",
    "plt.figure(figsize=(10,10))\n",
    "plt.imshow(baboon_array[:,:,0], cmap='gray')\n",
    "plt.show()"
   ]
  },
  {
   "cell_type": "markdown",
   "metadata": {
    "application/vnd.databricks.v1+cell": {
     "cellMetadata": {},
     "inputWidgets": {},
     "nuid": "8133755e-b669-414c-9764-1f21d16c6e0f",
     "showTitle": false,
     "title": ""
    }
   },
   "source": [
    "Or we can create a new array and set all but the red color channels to zero. Therefore, when we display the image it appears red:\n"
   ]
  },
  {
   "cell_type": "code",
   "execution_count": 0,
   "metadata": {
    "application/vnd.databricks.v1+cell": {
     "cellMetadata": {},
     "inputWidgets": {},
     "nuid": "4b3dc8eb-601e-476c-b679-d73ac6a57629",
     "showTitle": false,
     "title": ""
    }
   },
   "outputs": [],
   "source": [
    "baboon_red=baboon_array.copy()\n",
    "baboon_red[:,:,1] = 0\n",
    "baboon_red[:,:,2] = 0\n",
    "plt.figure(figsize=(10,10))\n",
    "plt.imshow(baboon_red)\n",
    "plt.show()"
   ]
  },
  {
   "cell_type": "markdown",
   "metadata": {
    "application/vnd.databricks.v1+cell": {
     "cellMetadata": {},
     "inputWidgets": {},
     "nuid": "95a218e4-a2d0-4a25-a9a7-b20b2e24512e",
     "showTitle": false,
     "title": ""
    }
   },
   "source": [
    "We can do the same for blue:\n"
   ]
  },
  {
   "cell_type": "code",
   "execution_count": 0,
   "metadata": {
    "application/vnd.databricks.v1+cell": {
     "cellMetadata": {},
     "inputWidgets": {},
     "nuid": "0b37919e-8efc-4e89-9d9b-405f7768e367",
     "showTitle": false,
     "title": ""
    }
   },
   "outputs": [],
   "source": [
    "baboon_blue=baboon_array.copy()\n",
    "baboon_blue[:,:,0] = 0\n",
    "baboon_blue[:,:,1] = 0\n",
    "plt.figure(figsize=(10,10))\n",
    "plt.imshow(baboon_blue)\n",
    "plt.show()"
   ]
  },
  {
   "cell_type": "markdown",
   "metadata": {
    "application/vnd.databricks.v1+cell": {
     "cellMetadata": {},
     "inputWidgets": {},
     "nuid": "7081a71e-b72b-413a-942e-83f8a66811e1",
     "showTitle": false,
     "title": ""
    }
   },
   "source": [
    "### Question 1: \n",
    "Use the image `lenna.png` from this lab or take any image you like.\n",
    "\n",
    "Open the image and create a PIL Image object called `blue_lenna`, convert the image into a numpy array we can manipulate called `blue_array`, get the blue channel out of it, and finally plot the image\n"
   ]
  },
  {
   "cell_type": "code",
   "execution_count": 0,
   "metadata": {
    "application/vnd.databricks.v1+cell": {
     "cellMetadata": {},
     "inputWidgets": {},
     "nuid": "4fca180f-11e8-4c9c-af9e-f62f51f34d30",
     "showTitle": false,
     "title": ""
    }
   },
   "outputs": [],
   "source": [
    "# write your code here\n"
   ]
  },
  {
   "cell_type": "markdown",
   "metadata": {
    "application/vnd.databricks.v1+cell": {
     "cellMetadata": {},
     "inputWidgets": {},
     "nuid": "1f872e54-fffc-4101-b777-8deb0e3e60c1",
     "showTitle": false,
     "title": ""
    }
   },
   "source": [
    "Double-click **here** for a hint.\n",
    "\n",
    "<!-- The hint is below:\n",
    "\n",
    "blue_array[:,:,2] = 0\n",
    "\n",
    "-->\n"
   ]
  },
  {
   "cell_type": "markdown",
   "metadata": {
    "application/vnd.databricks.v1+cell": {
     "cellMetadata": {},
     "inputWidgets": {},
     "nuid": "36a18de1-eddb-40b5-8b3c-a3af29e29b2e",
     "showTitle": false,
     "title": ""
    }
   },
   "source": [
    "Double-click **here** for the solution.\n",
    "\n",
    "<!-- The answer is below:\n",
    "\n",
    "blue_lenna = Image.open('lenna.png')\n",
    "blue_array = np.array(blue_lenna)\n",
    "blue_array[:,:,2] = 0\n",
    "plt.figure(figsize=(10,10))\n",
    "plt.imshow(blue_array)\n",
    "plt.show()\n",
    "\n",
    "-->\n"
   ]
  },
  {
   "cell_type": "markdown",
   "metadata": {
    "application/vnd.databricks.v1+cell": {
     "cellMetadata": {},
     "inputWidgets": {},
     "nuid": "9488df86-f14b-42bf-8413-46e62a916863",
     "showTitle": false,
     "title": ""
    }
   },
   "source": [
    "<h2>Authors</h2>\n"
   ]
  },
  {
   "cell_type": "markdown",
   "metadata": {
    "application/vnd.databricks.v1+cell": {
     "cellMetadata": {},
     "inputWidgets": {},
     "nuid": "ed41e95e-4b78-41b4-9caf-aa425ad2f7b0",
     "showTitle": false,
     "title": ""
    }
   },
   "source": [
    " [Joseph Santarcangelo]( https://www.linkedin.com/in/joseph-s-50398b136/) has a PhD in Electrical Engineering, his research focused on using machine learning, signal processing, and computer vision to determine how videos impact human cognition. Joseph has been working for IBM since he completed his PhD.\n"
   ]
  },
  {
   "cell_type": "markdown",
   "metadata": {
    "application/vnd.databricks.v1+cell": {
     "cellMetadata": {},
     "inputWidgets": {},
     "nuid": "146c9d91-bb9f-4fd2-be14-794f46245221",
     "showTitle": false,
     "title": ""
    }
   },
   "source": [
    " [Nayef Abou Tayoun](https://www.linkedin.com/in/nayefaboutayoun/) has a master of management in artificial intelligence degree, focusing on using machine learning and computer vision. \n"
   ]
  },
  {
   "cell_type": "markdown",
   "metadata": {
    "application/vnd.databricks.v1+cell": {
     "cellMetadata": {},
     "inputWidgets": {},
     "nuid": "9ef57055-f211-4570-89e8-c9fb36e499df",
     "showTitle": false,
     "title": ""
    }
   },
   "source": [
    "# References \n"
   ]
  },
  {
   "cell_type": "markdown",
   "metadata": {
    "application/vnd.databricks.v1+cell": {
     "cellMetadata": {},
     "inputWidgets": {},
     "nuid": "7c54e755-1fe0-429d-b897-56f2e271e847",
     "showTitle": false,
     "title": ""
    }
   },
   "source": [
    "[1]  Images were taken from: https://homepages.cae.wisc.edu/~ece533/images/\n",
    "    \n",
    "[2]  <a href='https://pillow.readthedocs.io/en/stable/index.html'>Pillow Docs</a>\n",
    "\n",
    "[3]  <a href='https://opencv.org/'>Open CV</a>\n",
    "\n",
    "[4] Gonzalez, Rafael C., and Richard E. Woods. \"Digital image processing.\" (2017).\n"
   ]
  },
  {
   "cell_type": "markdown",
   "metadata": {
    "application/vnd.databricks.v1+cell": {
     "cellMetadata": {},
     "inputWidgets": {},
     "nuid": "962b52c7-ff12-4c38-adb4-462a76bfaec3",
     "showTitle": false,
     "title": ""
    }
   },
   "source": [
    "<!--<h2>Change Log</h2>-->\n"
   ]
  },
  {
   "cell_type": "markdown",
   "metadata": {
    "application/vnd.databricks.v1+cell": {
     "cellMetadata": {},
     "inputWidgets": {},
     "nuid": "275d7f36-a7a3-42d6-8e08-dd3f0c1eb7db",
     "showTitle": false,
     "title": ""
    }
   },
   "source": [
    "<!--\n",
    "<table>\n",
    "    <tr>\n",
    "        <th>Date (YYYY-MM-DD)</th>\n",
    "        <th>Version</th>\n",
    "        <th>Changed By</th>\n",
    "        <th>Change Description</th>\n",
    "    </tr>\n",
    "    <tr>\n",
    "        <td>2020-07-20</td>\n",
    "        <td>0.2</td>\n",
    "        <td>Azim</td>\n",
    "        <td>Modified Multiple Areas</td>\n",
    "    </tr>\n",
    "    <tr>\n",
    "        <td>2020-07-17</td>\n",
    "        <td>0.1</td>\n",
    "        <td>Azim</td>\n",
    "        <td>Created Lab Template</td>\n",
    "    </tr>\n",
    "    <tr>\n",
    "        <td>2021-03-06</td>\n",
    "        <td>0.3</td>\n",
    "        <td>Nayef</td>\n",
    "        <td>Modified some codes</td>\n",
    "    </tr>\n",
    "</table>\n",
    "-->\n"
   ]
  },
  {
   "cell_type": "markdown",
   "metadata": {
    "application/vnd.databricks.v1+cell": {
     "cellMetadata": {},
     "inputWidgets": {},
     "nuid": "409ff00a-9d54-4e72-ab8e-c71ddab2c26c",
     "showTitle": false,
     "title": ""
    }
   },
   "source": [
    "\n",
    "<h3 align=\"center\"> &#169; IBM Corporation. All rights reserved. <h3/>\n"
   ]
  }
 ],
 "metadata": {
  "application/vnd.databricks.v1+notebook": {
   "dashboards": [],
   "environmentMetadata": null,
   "language": "python",
   "notebookMetadata": {
    "pythonIndentUnit": 4
   },
   "notebookName": "2.1.1_Images_with_python_library_PIL",
   "widgets": {}
  },
  "kernelspec": {
   "display_name": "Python",
   "language": "python",
   "name": "conda-env-python-py"
  },
  "language_info": {
   "codemirror_mode": {
    "name": "ipython",
    "version": 3
   },
   "file_extension": ".py",
   "mimetype": "text/x-python",
   "name": "python",
   "nbconvert_exporter": "python",
   "pygments_lexer": "ipython3",
   "version": "3.7.12"
  },
  "prev_pub_hash": "9fac4e17958ec9ce3fd71a667dadebb02297b3ce6afad899ae4e62d8ffec73bb"
 },
 "nbformat": 4,
 "nbformat_minor": 0
}
