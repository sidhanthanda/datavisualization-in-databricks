{
 "cells": [
  {
   "cell_type": "markdown",
   "metadata": {
    "application/vnd.databricks.v1+cell": {
     "cellMetadata": {},
     "inputWidgets": {},
     "nuid": "8eb1ceac-b718-4dd7-89f6-64ab426b477a",
     "showTitle": false,
     "title": ""
    }
   },
   "source": [
    "<p>\n",
    "    <a href=\"https://skills.network\" target=\"_blank\">\n",
    "    <img src=\"https://cf-courses-data.s3.us.cloud-object-storage.appdomain.cloud/assets/logos/SN_web_lightmode.png\" width=\"200\" alt=\"Skills Network Logo\">\n",
    "    </a>\n",
    "</p>\n"
   ]
  },
  {
   "cell_type": "markdown",
   "metadata": {
    "application/vnd.databricks.v1+cell": {
     "cellMetadata": {},
     "inputWidgets": {},
     "nuid": "c75e3f02-98be-4199-95c6-c2b27d9203cf",
     "showTitle": false,
     "title": ""
    }
   },
   "source": [
    "**<h1> Manipulating Images </h1>**\n"
   ]
  },
  {
   "cell_type": "markdown",
   "metadata": {
    "application/vnd.databricks.v1+cell": {
     "cellMetadata": {},
     "inputWidgets": {},
     "nuid": "dcc9be82-7463-44e8-b7ea-17a3153da77f",
     "showTitle": false,
     "title": ""
    }
   },
   "source": [
    "Estimated time needed: **60** minutes\n"
   ]
  },
  {
   "cell_type": "markdown",
   "metadata": {
    "application/vnd.databricks.v1+cell": {
     "cellMetadata": {},
     "inputWidgets": {},
     "nuid": "92a09acc-0156-4f56-9355-0e8acdbf18c4",
     "showTitle": false,
     "title": ""
    }
   },
   "source": [
    "<h2>Objectives</h2>\n"
   ]
  },
  {
   "cell_type": "markdown",
   "metadata": {
    "application/vnd.databricks.v1+cell": {
     "cellMetadata": {},
     "inputWidgets": {},
     "nuid": "f13ef0c8-5148-4bb5-bcc4-5fd790854f74",
     "showTitle": false,
     "title": ""
    }
   },
   "source": [
    "In this lab, you will learn how to manipulate images, both as arrays and PIL image objects. You will learn how to copy an image to avoid aliasing. We will cover flipping images and cropping images. You will also learn to change pixel images; this will allow you to draw shapes, write text and superimpose images over other images.\n"
   ]
  },
  {
   "cell_type": "markdown",
   "metadata": {
    "application/vnd.databricks.v1+cell": {
     "cellMetadata": {},
     "inputWidgets": {},
     "nuid": "d646dde8-37b7-4f87-b361-b7158ed03e04",
     "showTitle": false,
     "title": ""
    }
   },
   "source": [
    "<ul>\n",
    "    <li><a href='#MI'>Manipulating Images </a>\n",
    "        <ul>\n",
    "            <li>Copying Images  </li>\n",
    "            <li>Fliping Images </li>\n",
    "            <li>Cropping an Image </li>\n",
    "            <li>Changing Specific Image Pixels </li>\n",
    "     \n",
    "  \n",
    "    \n",
    "</ul>\n"
   ]
  },
  {
   "cell_type": "markdown",
   "metadata": {
    "application/vnd.databricks.v1+cell": {
     "cellMetadata": {},
     "inputWidgets": {},
     "nuid": "9c8e3699-4e2b-4cc0-85dc-bca21434c221",
     "showTitle": false,
     "title": ""
    }
   },
   "source": [
    "----\n"
   ]
  },
  {
   "cell_type": "markdown",
   "metadata": {
    "application/vnd.databricks.v1+cell": {
     "cellMetadata": {},
     "inputWidgets": {},
     "nuid": "b3966120-cb6d-464f-b81e-696e593b3ca6",
     "showTitle": false,
     "title": ""
    }
   },
   "source": [
    "Download the images for the lab:\n"
   ]
  },
  {
   "cell_type": "code",
   "execution_count": 0,
   "metadata": {
    "application/vnd.databricks.v1+cell": {
     "cellMetadata": {
      "byteLimit": 2048000,
      "rowLimit": 10000
     },
     "inputWidgets": {},
     "nuid": "94582c7a-091f-4ba7-98a8-9d9f055f02f4",
     "showTitle": false,
     "title": ""
    }
   },
   "outputs": [],
   "source": [
    "!wget https://cf-courses-data.s3.us.cloud-object-storage.appdomain.cloud/IBMDeveloperSkillsNetwork-CV0101EN-SkillsNetwork/images%20/images_part_1/cat.png -O cat.png\n",
    "!wget https://cf-courses-data.s3.us.cloud-object-storage.appdomain.cloud/IBMDeveloperSkillsNetwork-CV0101EN-SkillsNetwork/images%20/images_part_1/lenna.png -O lenna.png\n",
    "!wget https://cf-courses-data.s3.us.cloud-object-storage.appdomain.cloud/IBMDeveloperSkillsNetwork-CV0101EN-SkillsNetwork/images%20/images_part_1/baboon.png -O baboon.png"
   ]
  },
  {
   "cell_type": "markdown",
   "metadata": {
    "application/vnd.databricks.v1+cell": {
     "cellMetadata": {},
     "inputWidgets": {},
     "nuid": "3c0b7783-4852-4ea6-8c31-faaf70f31928",
     "showTitle": false,
     "title": ""
    }
   },
   "source": [
    "We will be using these imported functions in the lab:\n"
   ]
  },
  {
   "cell_type": "code",
   "execution_count": 0,
   "metadata": {
    "application/vnd.databricks.v1+cell": {
     "cellMetadata": {},
     "inputWidgets": {},
     "nuid": "0f345c6c-7c69-4566-b719-bd2990064cde",
     "showTitle": false,
     "title": ""
    }
   },
   "outputs": [],
   "source": [
    "import matplotlib.pyplot as plt\n",
    "from PIL import Image\n",
    "import numpy as np"
   ]
  },
  {
   "cell_type": "markdown",
   "metadata": {
    "application/vnd.databricks.v1+cell": {
     "cellMetadata": {},
     "inputWidgets": {},
     "nuid": "1058c28e-92eb-485b-aff4-e87f073abe13",
     "showTitle": false,
     "title": ""
    }
   },
   "source": [
    "## Copying Images\n"
   ]
  },
  {
   "cell_type": "markdown",
   "metadata": {
    "application/vnd.databricks.v1+cell": {
     "cellMetadata": {},
     "inputWidgets": {},
     "nuid": "cedfa91d-1569-499b-87be-41cc3ac5b831",
     "showTitle": false,
     "title": ""
    }
   },
   "source": [
    "If you want to reassign an array to another variable, you should use the `copy` method. \n"
   ]
  },
  {
   "cell_type": "code",
   "execution_count": 0,
   "metadata": {
    "application/vnd.databricks.v1+cell": {
     "cellMetadata": {},
     "inputWidgets": {},
     "nuid": "a0576124-3ed7-4669-a80e-c2fe0c640a5e",
     "showTitle": false,
     "title": ""
    }
   },
   "outputs": [],
   "source": [
    "baboon = np.array(Image.open('baboon.png'))\n",
    "plt.figure(figsize=(5,5))\n",
    "plt.imshow(baboon )\n",
    "plt.show()"
   ]
  },
  {
   "cell_type": "markdown",
   "metadata": {
    "application/vnd.databricks.v1+cell": {
     "cellMetadata": {},
     "inputWidgets": {},
     "nuid": "8f28498d-1513-41ca-bce4-f7db04db67d6",
     "showTitle": false,
     "title": ""
    }
   },
   "source": [
    "If we do not apply the method `copy()`, the two variables would point to the same location in memory:\n"
   ]
  },
  {
   "cell_type": "code",
   "execution_count": 0,
   "metadata": {
    "application/vnd.databricks.v1+cell": {
     "cellMetadata": {},
     "inputWidgets": {},
     "nuid": "8d4e6931-8b36-4ee2-a9cb-27d2975be70d",
     "showTitle": false,
     "title": ""
    }
   },
   "outputs": [],
   "source": [
    "A = baboon"
   ]
  },
  {
   "cell_type": "markdown",
   "metadata": {
    "application/vnd.databricks.v1+cell": {
     "cellMetadata": {},
     "inputWidgets": {},
     "nuid": "5faf02f9-ec49-4d1c-a903-05a589bf1214",
     "showTitle": false,
     "title": ""
    }
   },
   "source": [
    "We use the  `id`  function to find a variable's memory address; we see the objects in the memory space which the variables `A` and `baboon` point to are the same.\n"
   ]
  },
  {
   "cell_type": "code",
   "execution_count": 0,
   "metadata": {
    "application/vnd.databricks.v1+cell": {
     "cellMetadata": {},
     "inputWidgets": {},
     "nuid": "9ff46c79-58d2-4fb7-854b-9d529d43c3aa",
     "showTitle": false,
     "title": ""
    }
   },
   "outputs": [],
   "source": [
    "id(A) == id(baboon)"
   ]
  },
  {
   "cell_type": "markdown",
   "metadata": {
    "application/vnd.databricks.v1+cell": {
     "cellMetadata": {},
     "inputWidgets": {},
     "nuid": "d72c57d9-f117-4b7c-8b02-a929fe176a9d",
     "showTitle": false,
     "title": ""
    }
   },
   "source": [
    "However, if we apply method `copy()`, their memory addresses are different.\n"
   ]
  },
  {
   "cell_type": "code",
   "execution_count": 0,
   "metadata": {
    "application/vnd.databricks.v1+cell": {
     "cellMetadata": {},
     "inputWidgets": {},
     "nuid": "485dc523-99bf-4072-b9ea-387b113c6743",
     "showTitle": false,
     "title": ""
    }
   },
   "outputs": [],
   "source": [
    "B = baboon.copy()\n",
    "id(B)==id(baboon)"
   ]
  },
  {
   "cell_type": "markdown",
   "metadata": {
    "application/vnd.databricks.v1+cell": {
     "cellMetadata": {},
     "inputWidgets": {},
     "nuid": "343a9d1e-1302-4086-8b70-e7b9fda72b19",
     "showTitle": false,
     "title": ""
    }
   },
   "source": [
    "There may be unexpected behaviours when two variables point to the same object in memory. Consider the array `baboon`. If we set all its entries to zero, all entires in `A` will become zero as well. However, as `baboon` and `B` points to different objects, the values in `B` will not be affected. \n"
   ]
  },
  {
   "cell_type": "code",
   "execution_count": 0,
   "metadata": {
    "application/vnd.databricks.v1+cell": {
     "cellMetadata": {},
     "inputWidgets": {},
     "nuid": "f10a79ec-8f5b-4bc7-ab81-20d3f70dc6d5",
     "showTitle": false,
     "title": ""
    }
   },
   "outputs": [],
   "source": [
    "baboon[:,:,] = 0"
   ]
  },
  {
   "cell_type": "markdown",
   "metadata": {
    "application/vnd.databricks.v1+cell": {
     "cellMetadata": {},
     "inputWidgets": {},
     "nuid": "78ad7025-978c-40da-8374-82f4008e884f",
     "showTitle": false,
     "title": ""
    }
   },
   "source": [
    "We can compare the variables <code>baboon</code> and array <code>A</code>:\n"
   ]
  },
  {
   "cell_type": "code",
   "execution_count": 0,
   "metadata": {
    "application/vnd.databricks.v1+cell": {
     "cellMetadata": {},
     "inputWidgets": {},
     "nuid": "35258826-6661-4d39-939e-1bedb024f21b",
     "showTitle": false,
     "title": ""
    }
   },
   "outputs": [],
   "source": [
    "plt.figure(figsize=(10,10))\n",
    "plt.subplot(121)\n",
    "plt.imshow(baboon)\n",
    "plt.title(\"baboon\")\n",
    "plt.subplot(122)\n",
    "plt.imshow(A)\n",
    "plt.title(\"array A\")\n",
    "plt.show()"
   ]
  },
  {
   "cell_type": "markdown",
   "metadata": {
    "application/vnd.databricks.v1+cell": {
     "cellMetadata": {},
     "inputWidgets": {},
     "nuid": "15c571c4-81bb-4e52-abe9-026fcc7187f7",
     "showTitle": false,
     "title": ""
    }
   },
   "source": [
    "We see they are the same. This behaviour is called aliasing. Aliasing happens whenever one variable's value is assigned to another variable. Variables are references to values on the memory. \n",
    "\n",
    "We can also compare <code>baboon</code> and array <code>B</code>:\n"
   ]
  },
  {
   "cell_type": "code",
   "execution_count": 0,
   "metadata": {
    "application/vnd.databricks.v1+cell": {
     "cellMetadata": {},
     "inputWidgets": {},
     "nuid": "b136750b-ec2e-402d-8b4c-0baf45da98fb",
     "showTitle": false,
     "title": ""
    }
   },
   "outputs": [],
   "source": [
    "plt.figure(figsize=(10,10))\n",
    "plt.subplot(121)\n",
    "plt.imshow(baboon)\n",
    "plt.title(\"baboon\")\n",
    "plt.subplot(122)\n",
    "plt.imshow(B)\n",
    "plt.title(\"array B\")\n",
    "plt.show()"
   ]
  },
  {
   "cell_type": "markdown",
   "metadata": {
    "application/vnd.databricks.v1+cell": {
     "cellMetadata": {},
     "inputWidgets": {},
     "nuid": "b7db9336-6934-495a-8082-649f4caf5897",
     "showTitle": false,
     "title": ""
    }
   },
   "source": [
    "\n",
    "If a PIL function does not return a new image, the same principle applies. We will go over some examples later on. \n"
   ]
  },
  {
   "cell_type": "markdown",
   "metadata": {
    "application/vnd.databricks.v1+cell": {
     "cellMetadata": {},
     "inputWidgets": {},
     "nuid": "5290745e-7d43-46f4-b16c-4c2dc0fae763",
     "showTitle": false,
     "title": ""
    }
   },
   "source": [
    "## Flipping Images \n"
   ]
  },
  {
   "cell_type": "markdown",
   "metadata": {
    "application/vnd.databricks.v1+cell": {
     "cellMetadata": {},
     "inputWidgets": {},
     "nuid": "c1b6468a-f91b-4844-99e7-522a55880f25",
     "showTitle": false,
     "title": ""
    }
   },
   "source": [
    "Flipping images involves reordering the indices of the pixels such that it changes the orientation of the image. Consider the following image:\n"
   ]
  },
  {
   "cell_type": "code",
   "execution_count": 0,
   "metadata": {
    "application/vnd.databricks.v1+cell": {
     "cellMetadata": {},
     "inputWidgets": {},
     "nuid": "7d5da73c-ba9d-44e9-ad98-3fa228362e90",
     "showTitle": false,
     "title": ""
    }
   },
   "outputs": [],
   "source": [
    "image = Image.open(\"cat.png\")\n",
    "plt.figure(figsize=(10,10))\n",
    "plt.imshow(image)\n",
    "plt.show()"
   ]
  },
  {
   "cell_type": "markdown",
   "metadata": {
    "application/vnd.databricks.v1+cell": {
     "cellMetadata": {},
     "inputWidgets": {},
     "nuid": "e62bb301-10b6-4f1c-91fd-298161dd53d7",
     "showTitle": false,
     "title": ""
    }
   },
   "source": [
    "We can cast it to an array and find its shape:\n"
   ]
  },
  {
   "cell_type": "code",
   "execution_count": 0,
   "metadata": {
    "application/vnd.databricks.v1+cell": {
     "cellMetadata": {},
     "inputWidgets": {},
     "nuid": "e5219f97-b2f9-4a8b-a87b-e166f2488320",
     "showTitle": false,
     "title": ""
    }
   },
   "outputs": [],
   "source": [
    "array = np.array(image)\n",
    "width, height, C = array.shape\n",
    "print('width, height, C', width, height, C)"
   ]
  },
  {
   "cell_type": "markdown",
   "metadata": {
    "application/vnd.databricks.v1+cell": {
     "cellMetadata": {},
     "inputWidgets": {},
     "nuid": "8cacfdd1-85b0-416f-8110-182d6946da9f",
     "showTitle": false,
     "title": ""
    }
   },
   "source": [
    "Let's flip, i.e rotate vertically, the image. Let's try the traditional approach. First, we create an array of the same size with datatype <code>np.uint8</code>.\n"
   ]
  },
  {
   "cell_type": "code",
   "execution_count": 0,
   "metadata": {
    "application/vnd.databricks.v1+cell": {
     "cellMetadata": {},
     "inputWidgets": {},
     "nuid": "3b5d66eb-f26f-4d04-b1e2-015df2bb9a2e",
     "showTitle": false,
     "title": ""
    }
   },
   "outputs": [],
   "source": [
    "array_flip = np.zeros((width, height, C), dtype=np.uint8)"
   ]
  },
  {
   "cell_type": "markdown",
   "metadata": {
    "application/vnd.databricks.v1+cell": {
     "cellMetadata": {},
     "inputWidgets": {},
     "nuid": "0403474b-32a8-4c6a-898c-6c8b5efd6458",
     "showTitle": false,
     "title": ""
    }
   },
   "source": [
    "We assign the first row of pixels of the original array to the new array’s last row. We repeat the process for every row, incrementing the row number from the original array and decreasing the new array’s row index to assign the pixels accordingly. After excecuting the for loop below, `array_flip` will become the flipped image. \n"
   ]
  },
  {
   "cell_type": "code",
   "execution_count": 0,
   "metadata": {
    "application/vnd.databricks.v1+cell": {
     "cellMetadata": {},
     "inputWidgets": {},
     "nuid": "95aa7606-4a0f-4344-b890-74c899e41652",
     "showTitle": false,
     "title": ""
    }
   },
   "outputs": [],
   "source": [
    "for i,row in enumerate(array):\n",
    "    array_flip[width - 1 - i, :, :] = row"
   ]
  },
  {
   "cell_type": "markdown",
   "metadata": {
    "application/vnd.databricks.v1+cell": {
     "cellMetadata": {},
     "inputWidgets": {},
     "nuid": "d9b18742-4acf-4691-8f0d-2cc38eb7060c",
     "showTitle": false,
     "title": ""
    }
   },
   "source": [
    "<code>PIL</code> has several ways to flip an image, for example, we can use the <code>ImageOps</code> module:\n"
   ]
  },
  {
   "cell_type": "code",
   "execution_count": 0,
   "metadata": {
    "application/vnd.databricks.v1+cell": {
     "cellMetadata": {},
     "inputWidgets": {},
     "nuid": "35877439-2510-425a-ab84-7d394c6bff74",
     "showTitle": false,
     "title": ""
    }
   },
   "outputs": [],
   "source": [
    "from PIL import ImageOps"
   ]
  },
  {
   "cell_type": "markdown",
   "metadata": {
    "application/vnd.databricks.v1+cell": {
     "cellMetadata": {},
     "inputWidgets": {},
     "nuid": "770c65f6-53fc-481c-80bf-914fca41ad41",
     "showTitle": false,
     "title": ""
    }
   },
   "source": [
    "The `flip()` method of `ImageOps` module flips the image. The `mirror()` method will mirror  the image:\n"
   ]
  },
  {
   "cell_type": "code",
   "execution_count": 0,
   "metadata": {
    "application/vnd.databricks.v1+cell": {
     "cellMetadata": {},
     "inputWidgets": {},
     "nuid": "1a280da1-dd55-4789-92a7-357e584ef446",
     "showTitle": false,
     "title": ""
    }
   },
   "outputs": [],
   "source": [
    "im_flip = ImageOps.flip(image)\n",
    "plt.figure(figsize=(5,5))\n",
    "plt.imshow(im_flip)\n",
    "plt.show()"
   ]
  },
  {
   "cell_type": "code",
   "execution_count": 0,
   "metadata": {
    "application/vnd.databricks.v1+cell": {
     "cellMetadata": {},
     "inputWidgets": {},
     "nuid": "ac71a85f-6f32-4b64-9a99-b51b81d03ba2",
     "showTitle": false,
     "title": ""
    }
   },
   "outputs": [],
   "source": [
    "im_mirror = ImageOps.mirror(image)\n",
    "plt.figure(figsize=(5,5))\n",
    "plt.imshow(im_mirror)\n",
    "plt.show()"
   ]
  },
  {
   "cell_type": "markdown",
   "metadata": {
    "application/vnd.databricks.v1+cell": {
     "cellMetadata": {},
     "inputWidgets": {},
     "nuid": "2bec3add-b255-4b90-826a-a540ee4926f4",
     "showTitle": false,
     "title": ""
    }
   },
   "source": [
    "We can use  the <code>transpose()</code> method; the parameter is an integer indicating what type of transposition we would like to perform. For example, we can flip the image using a value of `1`.\n"
   ]
  },
  {
   "cell_type": "code",
   "execution_count": 0,
   "metadata": {
    "application/vnd.databricks.v1+cell": {
     "cellMetadata": {},
     "inputWidgets": {},
     "nuid": "29659116-26df-4afa-a980-174af33593bf",
     "showTitle": false,
     "title": ""
    }
   },
   "outputs": [],
   "source": [
    "im_flip = image.transpose(1)\n",
    "plt.imshow(im_flip)\n",
    "plt.show()"
   ]
  },
  {
   "cell_type": "markdown",
   "metadata": {
    "application/vnd.databricks.v1+cell": {
     "cellMetadata": {},
     "inputWidgets": {},
     "nuid": "ef24ce77-af8d-4edb-911c-5c48b8c32c97",
     "showTitle": false,
     "title": ""
    }
   },
   "source": [
    "The Image module has built-in attributes that describe the type of flip. The values are just integers. Several are shown in the following <code>dict</code>:\n"
   ]
  },
  {
   "cell_type": "code",
   "execution_count": 0,
   "metadata": {
    "application/vnd.databricks.v1+cell": {
     "cellMetadata": {},
     "inputWidgets": {},
     "nuid": "ac421d23-e754-4893-bdbd-7e44e2ee711a",
     "showTitle": false,
     "title": ""
    }
   },
   "outputs": [],
   "source": [
    "flip = {\"FLIP_LEFT_RIGHT\": Image.FLIP_LEFT_RIGHT,\n",
    "        \"FLIP_TOP_BOTTOM\": Image.FLIP_TOP_BOTTOM,\n",
    "        \"ROTATE_90\": Image.ROTATE_90,\n",
    "        \"ROTATE_180\": Image.ROTATE_180,\n",
    "        \"ROTATE_270\": Image.ROTATE_270,\n",
    "        \"TRANSPOSE\": Image.TRANSPOSE, \n",
    "        \"TRANSVERSE\": Image.TRANSVERSE}"
   ]
  },
  {
   "cell_type": "markdown",
   "metadata": {
    "application/vnd.databricks.v1+cell": {
     "cellMetadata": {},
     "inputWidgets": {},
     "nuid": "e6bcce31-8913-4135-a87e-510ffa7139a8",
     "showTitle": false,
     "title": ""
    }
   },
   "source": [
    "We see the values are integers.\n"
   ]
  },
  {
   "cell_type": "code",
   "execution_count": 0,
   "metadata": {
    "application/vnd.databricks.v1+cell": {
     "cellMetadata": {},
     "inputWidgets": {},
     "nuid": "03de6ac2-fc10-4a05-9a61-58fd82b32e89",
     "showTitle": false,
     "title": ""
    }
   },
   "outputs": [],
   "source": [
    "flip[\"FLIP_LEFT_RIGHT\"]"
   ]
  },
  {
   "cell_type": "markdown",
   "metadata": {
    "application/vnd.databricks.v1+cell": {
     "cellMetadata": {},
     "inputWidgets": {},
     "nuid": "f99ca96f-0f5d-44e1-858d-43ccf6c95297",
     "showTitle": false,
     "title": ""
    }
   },
   "source": [
    "We can plot each of the outputs using the different  parameter values:\n"
   ]
  },
  {
   "cell_type": "code",
   "execution_count": 0,
   "metadata": {
    "application/vnd.databricks.v1+cell": {
     "cellMetadata": {},
     "inputWidgets": {},
     "nuid": "c210d7e2-f6cb-43f5-9666-31dda93cc4a5",
     "showTitle": false,
     "title": ""
    }
   },
   "outputs": [],
   "source": [
    "for key, values in flip.items():\n",
    "    plt.figure(figsize=(10,10))\n",
    "    plt.subplot(1,2,1)\n",
    "    plt.imshow(image)\n",
    "    plt.title(\"orignal\")\n",
    "    plt.subplot(1,2,2)\n",
    "    plt.imshow(image.transpose(values))\n",
    "    plt.title(key)\n",
    "    plt.show()"
   ]
  },
  {
   "cell_type": "markdown",
   "metadata": {
    "application/vnd.databricks.v1+cell": {
     "cellMetadata": {},
     "inputWidgets": {},
     "nuid": "f0e041e3-e194-4b10-a9b6-9f2f0a22d8cf",
     "showTitle": false,
     "title": ""
    }
   },
   "source": [
    " ## Cropping an Image\n"
   ]
  },
  {
   "cell_type": "markdown",
   "metadata": {
    "application/vnd.databricks.v1+cell": {
     "cellMetadata": {},
     "inputWidgets": {},
     "nuid": "a359f238-e19d-4650-90b7-a0ce895904a8",
     "showTitle": false,
     "title": ""
    }
   },
   "source": [
    "Cropping is the act of \"cutting out\" a part of an image and throwing out the rest. We can perform cropping using array slicing. \n",
    "\n",
    "Let start with a vertical crop: the variable `upper` is the index of the first row that we would like to include in the image, the variable `lower` is the index of the last row we would like to include. We then perform array slicing to obtain the new image. \n"
   ]
  },
  {
   "cell_type": "code",
   "execution_count": 0,
   "metadata": {
    "application/vnd.databricks.v1+cell": {
     "cellMetadata": {},
     "inputWidgets": {},
     "nuid": "6d58902a-37cf-46c5-9205-5413d532f696",
     "showTitle": false,
     "title": ""
    }
   },
   "outputs": [],
   "source": [
    "upper = 150\n",
    "lower = 400\n",
    "crop_top = array[upper: lower,:,:]\n",
    "plt.figure(figsize=(5,5))\n",
    "plt.imshow(crop_top)\n",
    "plt.show()"
   ]
  },
  {
   "cell_type": "markdown",
   "metadata": {
    "application/vnd.databricks.v1+cell": {
     "cellMetadata": {},
     "inputWidgets": {},
     "nuid": "770435aa-5ae6-4fef-a3d3-6f7c8bef0d7c",
     "showTitle": false,
     "title": ""
    }
   },
   "source": [
    "Consider the array `crop_top`: we can also crop horizontally. The variable `right` is the index of the first column that we would like to include in the image and the variable `left` is the index of the last column we would like to include in the image.\n"
   ]
  },
  {
   "cell_type": "code",
   "execution_count": 0,
   "metadata": {
    "application/vnd.databricks.v1+cell": {
     "cellMetadata": {},
     "inputWidgets": {},
     "nuid": "2343828d-2d56-4bb3-8d88-4590dac79f3f",
     "showTitle": false,
     "title": ""
    }
   },
   "outputs": [],
   "source": [
    "left = 150\n",
    "right = 400\n",
    "crop_horizontal = crop_top[: ,left:right,:]\n",
    "plt.figure(figsize=(5,5))\n",
    "plt.imshow(crop_horizontal)\n",
    "plt.show()"
   ]
  },
  {
   "cell_type": "markdown",
   "metadata": {
    "application/vnd.databricks.v1+cell": {
     "cellMetadata": {},
     "inputWidgets": {},
     "nuid": "6587d3b6-d5f8-40c9-9a5b-f56cf4211b7c",
     "showTitle": false,
     "title": ""
    }
   },
   "source": [
    "You can crop the PIL image using the <code>crop()</code> method, using the parameters from above Set the cropping area with <code>box=(left, upper, right, lower)</code>.\n"
   ]
  },
  {
   "cell_type": "code",
   "execution_count": 0,
   "metadata": {
    "application/vnd.databricks.v1+cell": {
     "cellMetadata": {},
     "inputWidgets": {},
     "nuid": "62c7f31c-e471-494e-808a-0db9e0988872",
     "showTitle": false,
     "title": ""
    }
   },
   "outputs": [],
   "source": [
    "image = Image.open(\"cat.png\")\n",
    "crop_image = image.crop((left, upper, right, lower))\n",
    "plt.figure(figsize=(5,5))\n",
    "plt.imshow(crop_image)\n",
    "plt.show()"
   ]
  },
  {
   "cell_type": "markdown",
   "metadata": {
    "application/vnd.databricks.v1+cell": {
     "cellMetadata": {},
     "inputWidgets": {},
     "nuid": "9b090a35-b5e5-4e97-80f8-2437e81d6019",
     "showTitle": false,
     "title": ""
    }
   },
   "source": [
    "We can also flip the new image:\n"
   ]
  },
  {
   "cell_type": "code",
   "execution_count": 0,
   "metadata": {
    "application/vnd.databricks.v1+cell": {
     "cellMetadata": {},
     "inputWidgets": {},
     "nuid": "f3b89d92-56c6-4632-ace7-a5f73f23bf90",
     "showTitle": false,
     "title": ""
    }
   },
   "outputs": [],
   "source": [
    "crop_image = crop_image.transpose(Image.FLIP_LEFT_RIGHT)\n",
    "crop_image"
   ]
  },
  {
   "cell_type": "markdown",
   "metadata": {
    "application/vnd.databricks.v1+cell": {
     "cellMetadata": {},
     "inputWidgets": {},
     "nuid": "04cffa59-0d0c-4a3b-aab8-e5949c65fc45",
     "showTitle": false,
     "title": ""
    }
   },
   "source": [
    "## Changing Specific Image Pixels\n"
   ]
  },
  {
   "cell_type": "markdown",
   "metadata": {
    "application/vnd.databricks.v1+cell": {
     "cellMetadata": {},
     "inputWidgets": {},
     "nuid": "d27c219c-10d8-4d47-85bb-97635451bed7",
     "showTitle": false,
     "title": ""
    }
   },
   "source": [
    "We can change specific image pixels using  array indexing; for example, we can set  all the green and blue channels in the original image we cropped to zero:\n"
   ]
  },
  {
   "cell_type": "code",
   "execution_count": 0,
   "metadata": {
    "application/vnd.databricks.v1+cell": {
     "cellMetadata": {},
     "inputWidgets": {},
     "nuid": "452cb11f-893a-4a7c-ba77-83731a0435b1",
     "showTitle": false,
     "title": ""
    }
   },
   "outputs": [],
   "source": [
    "array_sq = np.copy(array)\n",
    "array_sq[upper:lower, left:right, 1:2] = 0"
   ]
  },
  {
   "cell_type": "markdown",
   "metadata": {
    "application/vnd.databricks.v1+cell": {
     "cellMetadata": {},
     "inputWidgets": {},
     "nuid": "0358a3c8-bdf1-451b-b921-09db94916235",
     "showTitle": false,
     "title": ""
    }
   },
   "source": [
    "We can compare the results with the new image. \n"
   ]
  },
  {
   "cell_type": "code",
   "execution_count": 0,
   "metadata": {
    "application/vnd.databricks.v1+cell": {
     "cellMetadata": {},
     "inputWidgets": {},
     "nuid": "23dc6f5a-e62a-439a-ab47-1289cedc7353",
     "showTitle": false,
     "title": ""
    }
   },
   "outputs": [],
   "source": [
    "plt.figure(figsize=(5,5))\n",
    "plt.subplot(1,2,1)\n",
    "plt.imshow(array)\n",
    "plt.title(\"orignal\")\n",
    "plt.subplot(1,2,2)\n",
    "plt.imshow(array_sq)\n",
    "plt.title(\"Altered Image\")\n",
    "plt.show()"
   ]
  },
  {
   "cell_type": "markdown",
   "metadata": {
    "application/vnd.databricks.v1+cell": {
     "cellMetadata": {},
     "inputWidgets": {},
     "nuid": "48dcb3ec-2a1d-4ed0-bcc7-7d577b7028d6",
     "showTitle": false,
     "title": ""
    }
   },
   "source": [
    "We can also use the `ImageDraw` module from `PIL` library, which provides simple 2D graphics for Image objects \n"
   ]
  },
  {
   "cell_type": "code",
   "execution_count": 0,
   "metadata": {
    "application/vnd.databricks.v1+cell": {
     "cellMetadata": {},
     "inputWidgets": {},
     "nuid": "2dfcd413-71b7-4f14-870e-59dbdc85dccd",
     "showTitle": false,
     "title": ""
    }
   },
   "outputs": [],
   "source": [
    "from PIL import ImageDraw "
   ]
  },
  {
   "cell_type": "markdown",
   "metadata": {
    "application/vnd.databricks.v1+cell": {
     "cellMetadata": {},
     "inputWidgets": {},
     "nuid": "a3ebf7be-90f9-4cdb-9ad3-2870808b230b",
     "showTitle": false,
     "title": ""
    }
   },
   "source": [
    "We will copy the image object:\n"
   ]
  },
  {
   "cell_type": "code",
   "execution_count": 0,
   "metadata": {
    "application/vnd.databricks.v1+cell": {
     "cellMetadata": {},
     "inputWidgets": {},
     "nuid": "4626bb9e-03ac-4563-90ce-de584b0e385f",
     "showTitle": false,
     "title": ""
    }
   },
   "outputs": [],
   "source": [
    "image_draw = image.copy()"
   ]
  },
  {
   "cell_type": "markdown",
   "metadata": {
    "application/vnd.databricks.v1+cell": {
     "cellMetadata": {},
     "inputWidgets": {},
     "nuid": "3ea808f0-69d4-4942-9f30-e2ec3190170e",
     "showTitle": false,
     "title": ""
    }
   },
   "source": [
    "The draw constructor creates an object that can be used to draw in the given image. The input <code>im</code> is the image we would like to draw in.\n",
    "\n"
   ]
  },
  {
   "cell_type": "code",
   "execution_count": 0,
   "metadata": {
    "application/vnd.databricks.v1+cell": {
     "cellMetadata": {},
     "inputWidgets": {},
     "nuid": "9241ba78-f278-45ec-8080-203c55fed180",
     "showTitle": false,
     "title": ""
    }
   },
   "outputs": [],
   "source": [
    "image_fn = ImageDraw.Draw(im=image_draw)"
   ]
  },
  {
   "cell_type": "markdown",
   "metadata": {
    "application/vnd.databricks.v1+cell": {
     "cellMetadata": {},
     "inputWidgets": {},
     "nuid": "e009b479-9e85-4e57-a00d-b0063a2c7323",
     "showTitle": false,
     "title": ""
    }
   },
   "source": [
    "Whatever method we apply to the object <code>image_fn</code>, will change the image object <code>image_draw</code>.\n"
   ]
  },
  {
   "cell_type": "markdown",
   "metadata": {
    "application/vnd.databricks.v1+cell": {
     "cellMetadata": {},
     "inputWidgets": {},
     "nuid": "07862c46-d6dd-4a5b-86c0-0ab4d5d81cdd",
     "showTitle": false,
     "title": ""
    }
   },
   "source": [
    "We can draw a rectangle using the <code>rectangle</code> function, two important parameters include: <code>xy</code> – the coordinates bounding box  and <code>fill</code> – Color of the rectangle.\n"
   ]
  },
  {
   "cell_type": "code",
   "execution_count": 0,
   "metadata": {
    "application/vnd.databricks.v1+cell": {
     "cellMetadata": {},
     "inputWidgets": {},
     "nuid": "1f8b7371-dc7a-4313-9e36-c42a6d9f99be",
     "showTitle": false,
     "title": ""
    }
   },
   "outputs": [],
   "source": [
    "shape = [left, upper, right, lower] \n",
    "image_fn.rectangle(xy=shape,fill=\"red\")"
   ]
  },
  {
   "cell_type": "markdown",
   "metadata": {
    "application/vnd.databricks.v1+cell": {
     "cellMetadata": {},
     "inputWidgets": {},
     "nuid": "a979c5a5-afb1-4c51-a3c3-159886042a22",
     "showTitle": false,
     "title": ""
    }
   },
   "source": [
    "We can plot the image.\n"
   ]
  },
  {
   "cell_type": "code",
   "execution_count": 0,
   "metadata": {
    "application/vnd.databricks.v1+cell": {
     "cellMetadata": {},
     "inputWidgets": {},
     "nuid": "1e61e03e-cb2b-4b47-b50b-82d1ac30ae44",
     "showTitle": false,
     "title": ""
    }
   },
   "outputs": [],
   "source": [
    "plt.figure(figsize=(10,10))\n",
    "plt.imshow(image_draw)\n",
    "plt.show()"
   ]
  },
  {
   "cell_type": "markdown",
   "metadata": {
    "application/vnd.databricks.v1+cell": {
     "cellMetadata": {},
     "inputWidgets": {},
     "nuid": "9b98894e-ae84-4f89-b7a1-65b61f262ed9",
     "showTitle": false,
     "title": ""
    }
   },
   "source": [
    "There are other shapes we can use. For example, we can also overlay text on an image: we use the ImageFont module to obtain  bitmap fonts.\n"
   ]
  },
  {
   "cell_type": "code",
   "execution_count": 0,
   "metadata": {
    "application/vnd.databricks.v1+cell": {
     "cellMetadata": {},
     "inputWidgets": {},
     "nuid": "11cffda5-58a8-4acf-99f7-a03bc9ea2fcc",
     "showTitle": false,
     "title": ""
    }
   },
   "outputs": [],
   "source": [
    "from PIL import ImageFont"
   ]
  },
  {
   "cell_type": "markdown",
   "metadata": {
    "application/vnd.databricks.v1+cell": {
     "cellMetadata": {},
     "inputWidgets": {},
     "nuid": "64eea59b-b0dc-4c0f-95f1-f67a5b4659b7",
     "showTitle": false,
     "title": ""
    }
   },
   "source": [
    "We use the text method to place the text on the image. The parameters include `xy` (the top-left anchor coordinates of the text), the parameter `text` (the text to be drawn), and `fill` (the color to use for the text).\n"
   ]
  },
  {
   "cell_type": "code",
   "execution_count": 0,
   "metadata": {
    "application/vnd.databricks.v1+cell": {
     "cellMetadata": {},
     "inputWidgets": {},
     "nuid": "65632dae-fe52-455d-8dbb-1065bbdd046b",
     "showTitle": false,
     "title": ""
    }
   },
   "outputs": [],
   "source": [
    "image_fn.text(xy=(0,0),text=\"box\",fill=(0,0,0))"
   ]
  },
  {
   "cell_type": "code",
   "execution_count": 0,
   "metadata": {
    "application/vnd.databricks.v1+cell": {
     "cellMetadata": {},
     "inputWidgets": {},
     "nuid": "94700cde-d376-4050-b99c-ef73bca44304",
     "showTitle": false,
     "title": ""
    }
   },
   "outputs": [],
   "source": [
    "plt.figure(figsize=(10,10))\n",
    "plt.imshow(image_draw)\n",
    "plt.show()"
   ]
  },
  {
   "cell_type": "markdown",
   "metadata": {
    "application/vnd.databricks.v1+cell": {
     "cellMetadata": {},
     "inputWidgets": {},
     "nuid": "24ceac2c-b102-4aca-ac47-a17e3fef367f",
     "showTitle": false,
     "title": ""
    }
   },
   "source": [
    "We can overlay or paste one image over another by reassigning the pixel for one array to the next. Consider the following image array:\n"
   ]
  },
  {
   "cell_type": "code",
   "execution_count": 0,
   "metadata": {
    "application/vnd.databricks.v1+cell": {
     "cellMetadata": {},
     "inputWidgets": {},
     "nuid": "aa2d51e8-bed2-4bdc-a12b-8bf16681609f",
     "showTitle": false,
     "title": ""
    }
   },
   "outputs": [],
   "source": [
    "image_lenna = Image.open(\"lenna.png\")\n",
    "array_lenna = np.array(image_lenna)"
   ]
  },
  {
   "cell_type": "markdown",
   "metadata": {
    "application/vnd.databricks.v1+cell": {
     "cellMetadata": {},
     "inputWidgets": {},
     "nuid": "01f9a236-7b75-48af-bdae-9ab6dc564d65",
     "showTitle": false,
     "title": ""
    }
   },
   "source": [
    "We can reassign the pixel values as follows:\n"
   ]
  },
  {
   "cell_type": "code",
   "execution_count": 0,
   "metadata": {
    "application/vnd.databricks.v1+cell": {
     "cellMetadata": {},
     "inputWidgets": {},
     "nuid": "2c2e7540-fa9d-4f20-aab4-1e1125f05794",
     "showTitle": false,
     "title": ""
    }
   },
   "outputs": [],
   "source": [
    "array_lenna[upper:lower,left:right,:]=array[upper:lower,left:right,:]\n",
    "plt.imshow(array_lenna)\n",
    "plt.show()"
   ]
  },
  {
   "cell_type": "markdown",
   "metadata": {
    "application/vnd.databricks.v1+cell": {
     "cellMetadata": {},
     "inputWidgets": {},
     "nuid": "0bf80b7e-37f4-479d-a43d-d469dd1b674b",
     "showTitle": false,
     "title": ""
    }
   },
   "source": [
    "In the same manner, the <code>paste()</code> method allows you to overlay one image over another, with the input being the image you would like to overlay. The parameter box is the left and upper coordinate of the image:\n"
   ]
  },
  {
   "cell_type": "code",
   "execution_count": 0,
   "metadata": {
    "application/vnd.databricks.v1+cell": {
     "cellMetadata": {},
     "inputWidgets": {},
     "nuid": "a27fe32b-2aa0-42dd-a1dd-02c2438dcad9",
     "showTitle": false,
     "title": ""
    }
   },
   "outputs": [],
   "source": [
    "image_lenna.paste(crop_image, box=(left,upper))"
   ]
  },
  {
   "cell_type": "code",
   "execution_count": 0,
   "metadata": {
    "application/vnd.databricks.v1+cell": {
     "cellMetadata": {},
     "inputWidgets": {},
     "nuid": "9ea2c674-b0e4-4e3c-9dde-7ae6e0bd6fb6",
     "showTitle": false,
     "title": ""
    }
   },
   "outputs": [],
   "source": [
    "plt.imshow(image_lenna)\n",
    "plt.show()"
   ]
  },
  {
   "cell_type": "markdown",
   "metadata": {
    "application/vnd.databricks.v1+cell": {
     "cellMetadata": {},
     "inputWidgets": {},
     "nuid": "256833d6-7fcf-4560-83b6-2f78a0cf3074",
     "showTitle": false,
     "title": ""
    }
   },
   "source": [
    "We can see the method `copy()` applies to some <code>PIL</code> objects. We create two image objects, we set `new_image` to the `image`, and we use the method `copy()` for the `copy_image` object.\n"
   ]
  },
  {
   "cell_type": "code",
   "execution_count": 0,
   "metadata": {
    "application/vnd.databricks.v1+cell": {
     "cellMetadata": {},
     "inputWidgets": {},
     "nuid": "f07f0d39-f36f-404f-8783-8ac3eecea6f3",
     "showTitle": false,
     "title": ""
    }
   },
   "outputs": [],
   "source": [
    "image = Image.open(\"cat.png\")\n",
    "new_image=image\n",
    "copy_image=image.copy()"
   ]
  },
  {
   "cell_type": "markdown",
   "metadata": {
    "application/vnd.databricks.v1+cell": {
     "cellMetadata": {},
     "inputWidgets": {},
     "nuid": "0642c958-d0f6-4ce6-9bf6-2545eb940373",
     "showTitle": false,
     "title": ""
    }
   },
   "source": [
    "Like the array, we see that the same memory address relationship exists. For example, if we don't use the method `copy()`, the image object has the same memory address as the original PIL image object. \n"
   ]
  },
  {
   "cell_type": "code",
   "execution_count": 0,
   "metadata": {
    "application/vnd.databricks.v1+cell": {
     "cellMetadata": {},
     "inputWidgets": {},
     "nuid": "0a624ca9-ddb9-4b3e-a2fc-6c54db0fbe34",
     "showTitle": false,
     "title": ""
    }
   },
   "outputs": [],
   "source": [
    "id(image)==id(new_image)"
   ]
  },
  {
   "cell_type": "markdown",
   "metadata": {
    "application/vnd.databricks.v1+cell": {
     "cellMetadata": {},
     "inputWidgets": {},
     "nuid": "e964424f-8257-4295-9c83-23f276411570",
     "showTitle": false,
     "title": ""
    }
   },
   "source": [
    "If we use the method <code>copy()</code>, the address is different:\n"
   ]
  },
  {
   "cell_type": "code",
   "execution_count": 0,
   "metadata": {
    "application/vnd.databricks.v1+cell": {
     "cellMetadata": {},
     "inputWidgets": {},
     "nuid": "b2f247c2-0a63-42d3-9e7d-c8952883c738",
     "showTitle": false,
     "title": ""
    }
   },
   "outputs": [],
   "source": [
    "id(image)==id(copy_image)"
   ]
  },
  {
   "cell_type": "markdown",
   "metadata": {
    "application/vnd.databricks.v1+cell": {
     "cellMetadata": {},
     "inputWidgets": {},
     "nuid": "8e3eaa45-b9e3-486a-a891-22d69c6ad56a",
     "showTitle": false,
     "title": ""
    }
   },
   "source": [
    "If we change the object <code>image</code>, <code>new_image</code> will change, but <code>copy_image</code> will remain the same:\n"
   ]
  },
  {
   "cell_type": "code",
   "execution_count": 0,
   "metadata": {
    "application/vnd.databricks.v1+cell": {
     "cellMetadata": {},
     "inputWidgets": {},
     "nuid": "a064f02f-a30c-4333-b286-a8e0ca5ca39d",
     "showTitle": false,
     "title": ""
    }
   },
   "outputs": [],
   "source": [
    "image_fn= ImageDraw.Draw(im=image)\n",
    "image_fn.text(xy=(0,0),text=\"box\",fill=(0,0,0))\n",
    "image_fn.rectangle(xy=shape,fill=\"red\")"
   ]
  },
  {
   "cell_type": "code",
   "execution_count": 0,
   "metadata": {
    "application/vnd.databricks.v1+cell": {
     "cellMetadata": {},
     "inputWidgets": {},
     "nuid": "71401604-5a90-43cd-9a74-c69c7548d0ae",
     "showTitle": false,
     "title": ""
    }
   },
   "outputs": [],
   "source": [
    "plt.figure(figsize=(10,10))\n",
    "plt.subplot(121)\n",
    "plt.imshow(new_image)\n",
    "plt.subplot(122)\n",
    "plt.imshow(copy_image)\n",
    "plt.show()"
   ]
  },
  {
   "cell_type": "markdown",
   "metadata": {
    "application/vnd.databricks.v1+cell": {
     "cellMetadata": {},
     "inputWidgets": {},
     "nuid": "a7a96724-78d0-4cc5-a314-65d5545ff88a",
     "showTitle": false,
     "title": ""
    }
   },
   "source": [
    "### Question 1:\n",
    "Use the image `baboon.png` from this lab or take any image you like.\n",
    "\n",
    "Open the image and create a PIL Image object called `im`, flip `im` and create an image called `im_flip`. Mirror `im` and create an image called `im_mirror`. Finally, plot both images.\n"
   ]
  },
  {
   "cell_type": "code",
   "execution_count": 0,
   "metadata": {
    "application/vnd.databricks.v1+cell": {
     "cellMetadata": {},
     "inputWidgets": {},
     "nuid": "61b3a64f-3698-4dc4-92a2-1205391fd478",
     "showTitle": false,
     "title": ""
    }
   },
   "outputs": [],
   "source": [
    "# write your script here\n"
   ]
  },
  {
   "cell_type": "markdown",
   "metadata": {
    "application/vnd.databricks.v1+cell": {
     "cellMetadata": {},
     "inputWidgets": {},
     "nuid": "090f801a-5d2a-4fc0-b704-1ae5fbbffae3",
     "showTitle": false,
     "title": ""
    }
   },
   "source": [
    "Double-click **here** for a hint.\n",
    "\n",
    "<!-- The hint is below:\n",
    "\n",
    "im_flip = ImageOps.flip(im)\n",
    "im_mirror = ImageOps.mirror(im)\n",
    "\n",
    "-->\n"
   ]
  },
  {
   "cell_type": "markdown",
   "metadata": {
    "application/vnd.databricks.v1+cell": {
     "cellMetadata": {},
     "inputWidgets": {},
     "nuid": "2569b7d2-a4e2-481a-8b85-3d901b1fd01f",
     "showTitle": false,
     "title": ""
    }
   },
   "source": [
    "Double-click **here** for the solution.\n",
    "\n",
    "<!-- The answer is below:\n",
    "\n",
    "im = Image.open(\"lenna.png\")\n",
    "\n",
    "im_flip = ImageOps.flip(im)\n",
    "plt.figure(figsize=(5,5))\n",
    "plt.imshow(im_flip)\n",
    "plt.show()\n",
    "\n",
    "im_mirror = ImageOps.mirror(im)\n",
    "plt.figure(figsize=(5,5))\n",
    "plt.imshow(im_mirror)\n",
    "plt.show()\n",
    "\n",
    "-->\n"
   ]
  },
  {
   "cell_type": "markdown",
   "metadata": {
    "application/vnd.databricks.v1+cell": {
     "cellMetadata": {},
     "inputWidgets": {},
     "nuid": "68d643e4-ad4e-4f5b-b851-830c41f3a6a7",
     "showTitle": false,
     "title": ""
    }
   },
   "source": [
    "<h2>Authors</h2>\n"
   ]
  },
  {
   "cell_type": "markdown",
   "metadata": {
    "application/vnd.databricks.v1+cell": {
     "cellMetadata": {},
     "inputWidgets": {},
     "nuid": "b5438e96-3dc8-4b1b-af5d-86fbdd0b2c4b",
     "showTitle": false,
     "title": ""
    }
   },
   "source": [
    " [Joseph Santarcangelo]( https://www.linkedin.com/in/joseph-s-50398b136/) has a PhD in Electrical Engineering, his research focused on using machine learning, signal processing, and computer vision to determine how videos impact human cognition. Joseph has been working for IBM since he completed his PhD.\n"
   ]
  },
  {
   "cell_type": "markdown",
   "metadata": {
    "application/vnd.databricks.v1+cell": {
     "cellMetadata": {},
     "inputWidgets": {},
     "nuid": "ec587991-52d6-46fb-a783-afb917dfb711",
     "showTitle": false,
     "title": ""
    }
   },
   "source": [
    " [Nayef Abou Tayoun](https://www.linkedin.com/in/nayefaboutayoun/) has a master of management in artificial intelligence degree, focusing on using machine learning and computer vision.\n"
   ]
  },
  {
   "cell_type": "markdown",
   "metadata": {
    "application/vnd.databricks.v1+cell": {
     "cellMetadata": {},
     "inputWidgets": {},
     "nuid": "b4f6357f-ad3a-41e9-9f29-c68219ff151a",
     "showTitle": false,
     "title": ""
    }
   },
   "source": [
    "# References \n"
   ]
  },
  {
   "cell_type": "markdown",
   "metadata": {
    "application/vnd.databricks.v1+cell": {
     "cellMetadata": {},
     "inputWidgets": {},
     "nuid": "f8a54029-6cb6-4633-b08e-b0ce4e782c85",
     "showTitle": false,
     "title": ""
    }
   },
   "source": [
    "[1]  Images were taken from: https://homepages.cae.wisc.edu/~ece533/images/\n",
    "    \n",
    "[2]  <a href='https://pillow.readthedocs.io/en/stable/index.html'>Pillow Docs</a>\n",
    "\n",
    "[3]  <a href='https://opencv.org/'>Open CV</a>\n",
    "\n",
    "[4] Gonzalez, Rafael C., and Richard E. Woods. \"Digital image processing.\" (2017).\n"
   ]
  },
  {
   "cell_type": "markdown",
   "metadata": {
    "application/vnd.databricks.v1+cell": {
     "cellMetadata": {},
     "inputWidgets": {},
     "nuid": "36b47339-1a7c-4745-94d5-efa41ee021af",
     "showTitle": false,
     "title": ""
    }
   },
   "source": [
    "<!--<h2>Change Log</h2>-->\n"
   ]
  },
  {
   "cell_type": "markdown",
   "metadata": {
    "application/vnd.databricks.v1+cell": {
     "cellMetadata": {},
     "inputWidgets": {},
     "nuid": "3be815f1-593e-47cb-9fa2-a105ae6d8934",
     "showTitle": false,
     "title": ""
    }
   },
   "source": [
    "<!-- \n",
    "<table>\n",
    "    <tr>\n",
    "        <th>Date (YYYY-MM-DD)</th>\n",
    "        <th>Version</th>\n",
    "        <th>Changed By</th>\n",
    "        <th>Change Description</th>\n",
    "    </tr>\n",
    "    <tr>\n",
    "        <td>2020-07-20</td>\n",
    "        <td>0.2</td>\n",
    "        <td>Azim</td>\n",
    "        <td>Modified Multiple Areas</td>\n",
    "    </tr>\n",
    "    <tr>\n",
    "        <td>2020-07-17</td>\n",
    "        <td>0.1</td>\n",
    "        <td>Azim</td>\n",
    "        <td>Created Lab Template</td>\n",
    "    </tr>\n",
    "    <tr>\n",
    "        <td>2021-03-06</td>\n",
    "        <td>0.3</td>\n",
    "        <td>Nayef</td>\n",
    "        <td>Modified some codes</td>\n",
    "    </tr>\n",
    "</table>\n",
    "-->\n"
   ]
  },
  {
   "cell_type": "markdown",
   "metadata": {
    "application/vnd.databricks.v1+cell": {
     "cellMetadata": {},
     "inputWidgets": {},
     "nuid": "e4655fc2-152b-409f-b5da-e656d626fa13",
     "showTitle": false,
     "title": ""
    }
   },
   "source": [
    "<h3 align=\"center\"> &#169; IBM Corporation. All rights reserved. <h3/>\n"
   ]
  }
 ],
 "metadata": {
  "application/vnd.databricks.v1+notebook": {
   "dashboards": [],
   "environmentMetadata": null,
   "language": "python",
   "notebookMetadata": {
    "pythonIndentUnit": 4
   },
   "notebookName": "2.2.1_basic_image_manipulation_PIL",
   "widgets": {}
  },
  "kernelspec": {
   "display_name": "Python",
   "language": "python",
   "name": "conda-env-python-py"
  },
  "language_info": {
   "codemirror_mode": {
    "name": "ipython",
    "version": 3
   },
   "file_extension": ".py",
   "mimetype": "text/x-python",
   "name": "python",
   "nbconvert_exporter": "python",
   "pygments_lexer": "ipython3",
   "version": "3.7.12"
  },
  "prev_pub_hash": "47c215236d10a16d19128f0c65b85183e575517a1d1bc8dd21da361dc9b4b79c"
 },
 "nbformat": 4,
 "nbformat_minor": 0
}
