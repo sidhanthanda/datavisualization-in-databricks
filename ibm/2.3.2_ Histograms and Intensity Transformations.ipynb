{
 "cells": [
  {
   "cell_type": "markdown",
   "metadata": {
    "application/vnd.databricks.v1+cell": {
     "cellMetadata": {},
     "inputWidgets": {},
     "nuid": "3d4c0926-ccd5-45e0-a9a5-447cfd23ea0b",
     "showTitle": false,
     "title": ""
    }
   },
   "source": [
    "<p>\n",
    "    <a href=\"https://skills.network\" target=\"_blank\">\n",
    "    <img src=\"https://cf-courses-data.s3.us.cloud-object-storage.appdomain.cloud/assets/logos/SN_web_lightmode.png\" width=\"200\" alt=\"Skills Network Logo\">\n",
    "    </a>\n",
    "</p>\n"
   ]
  },
  {
   "cell_type": "markdown",
   "metadata": {
    "application/vnd.databricks.v1+cell": {
     "cellMetadata": {},
     "inputWidgets": {},
     "nuid": "e41d80d2-dee9-4270-b11b-8d67cd0e00a8",
     "showTitle": false,
     "title": ""
    }
   },
   "source": [
    "<h1>Histogram and Intensity Transformations</h1>\n"
   ]
  },
  {
   "cell_type": "markdown",
   "metadata": {
    "application/vnd.databricks.v1+cell": {
     "cellMetadata": {},
     "inputWidgets": {},
     "nuid": "edc6fa06-680e-4262-9243-3bef13aa633e",
     "showTitle": false,
     "title": ""
    }
   },
   "source": [
    "Estimated time needed: **40** minutes\n"
   ]
  },
  {
   "cell_type": "markdown",
   "metadata": {
    "application/vnd.databricks.v1+cell": {
     "cellMetadata": {},
     "inputWidgets": {},
     "nuid": "7a092fec-3640-4708-8c56-201c8ef4873d",
     "showTitle": false,
     "title": ""
    }
   },
   "source": [
    "<h2>Objectives</h2>\n"
   ]
  },
  {
   "cell_type": "markdown",
   "metadata": {
    "application/vnd.databricks.v1+cell": {
     "cellMetadata": {},
     "inputWidgets": {},
     "nuid": "08f7b157-b359-4b11-a23d-c3174566eab9",
     "showTitle": false,
     "title": ""
    }
   },
   "source": [
    "Pixel Transforms are operations you perform one pixel at a time. In this lab, you will start by creating histograms. Histograms display the intensity of the image and can be used to optimize image characteristics. You will then apply Intensity Transformations, making objects easier to see by improving image contrast and brightness. In the last portion of the lab, you will use thresholding to segment objects from images.\n"
   ]
  },
  {
   "cell_type": "markdown",
   "metadata": {
    "application/vnd.databricks.v1+cell": {
     "cellMetadata": {},
     "inputWidgets": {},
     "nuid": "41474130-025d-4af9-9b2f-5651a8bdd0ee",
     "showTitle": false,
     "title": ""
    }
   },
   "source": [
    "<ul>\n",
    "    <li><a href='#PT'>Pixel Transforms  </a>\n",
    "        <ul>\n",
    "            <li>Histograms </li>\n",
    "            <li>Intensity Transformations</li>\n",
    "            <li>Thresholding and Simple Segmentation </li>   \n",
    "</ul>\n"
   ]
  },
  {
   "cell_type": "markdown",
   "metadata": {
    "application/vnd.databricks.v1+cell": {
     "cellMetadata": {},
     "inputWidgets": {},
     "nuid": "a2202778-f859-42fb-bf78-ea277c396703",
     "showTitle": false,
     "title": ""
    }
   },
   "source": [
    "----\n"
   ]
  },
  {
   "cell_type": "markdown",
   "metadata": {
    "application/vnd.databricks.v1+cell": {
     "cellMetadata": {},
     "inputWidgets": {},
     "nuid": "30942858-75f8-4ab7-a510-14a4376d5e34",
     "showTitle": false,
     "title": ""
    }
   },
   "source": [
    "Download the image for the lab\n"
   ]
  },
  {
   "cell_type": "code",
   "execution_count": 0,
   "metadata": {
    "application/vnd.databricks.v1+cell": {
     "cellMetadata": {
      "byteLimit": 2048000,
      "rowLimit": 10000
     },
     "inputWidgets": {},
     "nuid": "5b051ee7-dc1a-426d-940b-6d584ca5aca2",
     "showTitle": false,
     "title": ""
    }
   },
   "outputs": [],
   "source": [
    "!wget https://cf-courses-data.s3.us.cloud-object-storage.appdomain.cloud/IBMDeveloperSkillsNetwork-CV0101EN-SkillsNetwork/images%20/images_part_1/lenna.png -O lenna.png\n",
    "!wget https://cf-courses-data.s3.us.cloud-object-storage.appdomain.cloud/IBMDeveloperSkillsNetwork-CV0101EN-SkillsNetwork/images%20/images_part_1/baboon.png -O baboon.png\n",
    "!wget https://cf-courses-data.s3.us.cloud-object-storage.appdomain.cloud/IBMDeveloperSkillsNetwork-CV0101EN-SkillsNetwork/images%20/images_part_1/goldhill.bmp -O goldhill.bmp\n",
    "!wget https://cf-courses-data.s3.us.cloud-object-storage.appdomain.cloud/IBMDeveloperSkillsNetwork-CV0101EN-SkillsNetwork/images%20/images_part_1/cameraman.jpeg -O cameraman.jpeg\n",
    "!wget https://cf-courses-data.s3.us.cloud-object-storage.appdomain.cloud/IBMDeveloperSkillsNetwork-CV0101EN-SkillsNetwork/images%20/images_part_1/zelda.png -O zelda.png\n",
    "!wget https://cf-courses-data.s3.us.cloud-object-storage.appdomain.cloud/IBMDeveloperSkillsNetwork-CV0101EN-SkillsNetwork/images%20/images_part_1/mammogram.png -O mammogram.png"
   ]
  },
  {
   "cell_type": "markdown",
   "metadata": {
    "application/vnd.databricks.v1+cell": {
     "cellMetadata": {},
     "inputWidgets": {},
     "nuid": "aad80f56-6679-449a-8d71-3df19404148c",
     "showTitle": false,
     "title": ""
    }
   },
   "source": [
    "We will be using these imported functions in the lab\n"
   ]
  },
  {
   "cell_type": "code",
   "execution_count": 0,
   "metadata": {
    "application/vnd.databricks.v1+cell": {
     "cellMetadata": {
      "byteLimit": 2048000,
      "rowLimit": 10000
     },
     "inputWidgets": {},
     "nuid": "12e2cc72-c5da-4165-8b8c-2bdb0e2b3026",
     "showTitle": false,
     "title": ""
    }
   },
   "outputs": [],
   "source": [
    "%pip install opencv-python"
   ]
  },
  {
   "cell_type": "code",
   "execution_count": 0,
   "metadata": {
    "application/vnd.databricks.v1+cell": {
     "cellMetadata": {
      "byteLimit": 2048000,
      "rowLimit": 10000
     },
     "inputWidgets": {},
     "nuid": "ccc72d84-608c-4972-862e-aa3f1f06d61c",
     "showTitle": false,
     "title": ""
    }
   },
   "outputs": [],
   "source": [
    "import matplotlib.pyplot as plt\n",
    "import cv2\n",
    "import numpy as np"
   ]
  },
  {
   "cell_type": "markdown",
   "metadata": {
    "application/vnd.databricks.v1+cell": {
     "cellMetadata": {},
     "inputWidgets": {},
     "nuid": "0e7792b9-5ca9-4468-be26-c5b0cc145506",
     "showTitle": false,
     "title": ""
    }
   },
   "source": [
    "First, lets define a helper function to plot two images side-by-side. You will not need to understand this code at this moment, but this function will be used repeatedly in this tutorial to showcase the results. \n"
   ]
  },
  {
   "cell_type": "code",
   "execution_count": 0,
   "metadata": {
    "application/vnd.databricks.v1+cell": {
     "cellMetadata": {
      "byteLimit": 2048000,
      "rowLimit": 10000
     },
     "inputWidgets": {},
     "nuid": "9f6d4ee5-8d97-4405-8e38-a79762f9952a",
     "showTitle": false,
     "title": ""
    }
   },
   "outputs": [],
   "source": [
    "def plot_image(image_1, image_2,title_1=\"Orignal\", title_2=\"New Image\"):\n",
    "    plt.figure(figsize=(10,10))\n",
    "    plt.subplot(1, 2, 1)\n",
    "    plt.imshow(image_1,cmap=\"gray\")\n",
    "    plt.title(title_1)\n",
    "    plt.subplot(1, 2, 2)\n",
    "    plt.imshow(image_2,cmap=\"gray\")\n",
    "    plt.title(title_2)\n",
    "    plt.show()"
   ]
  },
  {
   "cell_type": "markdown",
   "metadata": {
    "application/vnd.databricks.v1+cell": {
     "cellMetadata": {},
     "inputWidgets": {},
     "nuid": "2f752c66-ef0a-4d2e-9feb-e03a878682b0",
     "showTitle": false,
     "title": ""
    }
   },
   "source": [
    "Lets define another helper function. The following one will plot two histograms side-by-side. Again, you do not need to understand the body of this function at this moment.\n"
   ]
  },
  {
   "cell_type": "code",
   "execution_count": 0,
   "metadata": {
    "application/vnd.databricks.v1+cell": {
     "cellMetadata": {
      "byteLimit": 2048000,
      "rowLimit": 10000
     },
     "inputWidgets": {},
     "nuid": "414e0740-17dd-4979-bf97-443a382aaeb4",
     "showTitle": false,
     "title": ""
    }
   },
   "outputs": [],
   "source": [
    "def plot_hist(old_image, new_image,title_old=\"Orignal\", title_new=\"New Image\"):\n",
    "    intensity_values=np.array([x for x in range(256)])\n",
    "    plt.subplot(1, 2, 1)\n",
    "    plt.bar(intensity_values, cv2.calcHist([old_image],[0],None,[256],[0,256])[:,0],width = 5)\n",
    "    plt.title(title_old)\n",
    "    plt.xlabel('intensity')\n",
    "    plt.subplot(1, 2, 2)\n",
    "    plt.bar(intensity_values, cv2.calcHist([new_image],[0],None,[256],[0,256])[:,0],width = 5)\n",
    "    plt.title(title_new)\n",
    "    plt.xlabel('intensity')\n",
    "    plt.show()"
   ]
  },
  {
   "cell_type": "markdown",
   "metadata": {
    "application/vnd.databricks.v1+cell": {
     "cellMetadata": {},
     "inputWidgets": {},
     "nuid": "53fdd223-f6ef-42b2-9fa0-22696823fd59",
     "showTitle": false,
     "title": ""
    }
   },
   "source": [
    "# Histograms  \n"
   ]
  },
  {
   "cell_type": "markdown",
   "metadata": {
    "application/vnd.databricks.v1+cell": {
     "cellMetadata": {},
     "inputWidgets": {},
     "nuid": "b9a444ff-50ff-4d69-a00c-8163cb35ef7c",
     "showTitle": false,
     "title": ""
    }
   },
   "source": [
    "A histogram counts the number of occurrences of the intensity values of pixels, and it's a useful tool for understanding and manipulating images. We use <code>cv.calcHist()</code> to generate the histogram. Here are the parameter values:\n",
    "<p>\n",
    "    <code>cv2.calcHist(CV array:<b>[image]</b> this is the image channel:<b>[0]</b>,for this course it will always be <b>[None]</b>,the number of bins:<b>[L]</b>,the range of index of bins:<b>[0,L-1]</b>) </code>   \n",
    "</p>\n",
    "For real images, <code>L</code> is <code>256</code>.\n"
   ]
  },
  {
   "cell_type": "markdown",
   "metadata": {
    "application/vnd.databricks.v1+cell": {
     "cellMetadata": {},
     "inputWidgets": {},
     "nuid": "bc3f767b-65b1-4714-aa4f-1143a3c58c0c",
     "showTitle": false,
     "title": ""
    }
   },
   "source": [
    "## Toy Example\n"
   ]
  },
  {
   "cell_type": "markdown",
   "metadata": {
    "application/vnd.databricks.v1+cell": {
     "cellMetadata": {},
     "inputWidgets": {},
     "nuid": "48b34d76-3f50-4584-8140-094035b3beac",
     "showTitle": false,
     "title": ""
    }
   },
   "source": [
    "Consider the toy array with intensity values ranging from 0 to 2. We can create a histogram. Its first element is the number of zeros in the image (in this case, 1); its second element is the number of ones in the image (in this case, 5), and so on.\n"
   ]
  },
  {
   "cell_type": "code",
   "execution_count": 0,
   "metadata": {
    "application/vnd.databricks.v1+cell": {
     "cellMetadata": {
      "byteLimit": 2048000,
      "rowLimit": 10000
     },
     "inputWidgets": {},
     "nuid": "b68f1f51-346f-4dfb-9280-57c9aff0fd5f",
     "showTitle": false,
     "title": ""
    }
   },
   "outputs": [],
   "source": [
    "toy_image = np.array([[0,2,2],[1,1,1],[1,1,2]],dtype=np.uint8)\n",
    "plt.imshow(toy_image, cmap=\"gray\")\n",
    "plt.show()\n",
    "print(\"toy_image:\",toy_image)"
   ]
  },
  {
   "cell_type": "markdown",
   "metadata": {
    "application/vnd.databricks.v1+cell": {
     "cellMetadata": {},
     "inputWidgets": {},
     "nuid": "777b0b22-d7e5-4b34-8cdd-e43ef09ef6bb",
     "showTitle": false,
     "title": ""
    }
   },
   "source": [
    "We can use the <code>caclHist</code> function, in this case, we use only three bins as there are only three values, and the index of the bins are from 1 to 3.\n",
    "\n",
    "**TODO:** @Joe \n"
   ]
  },
  {
   "cell_type": "code",
   "execution_count": 0,
   "metadata": {
    "application/vnd.databricks.v1+cell": {
     "cellMetadata": {
      "byteLimit": 2048000,
      "rowLimit": 10000
     },
     "inputWidgets": {},
     "nuid": "352ab949-22c4-44dc-a79b-8706042bd8d0",
     "showTitle": false,
     "title": ""
    }
   },
   "outputs": [],
   "source": [
    "plt.bar([x for x in range(6)],[1,5,2,0,0,0])\n",
    "plt.show()"
   ]
  },
  {
   "cell_type": "code",
   "execution_count": 0,
   "metadata": {
    "application/vnd.databricks.v1+cell": {
     "cellMetadata": {
      "byteLimit": 2048000,
      "rowLimit": 10000
     },
     "inputWidgets": {},
     "nuid": "2b6295e4-ee0e-43da-ad19-ef630e68634e",
     "showTitle": false,
     "title": ""
    }
   },
   "outputs": [],
   "source": [
    "plt.bar([x for x in range(6)],[0,1,0,5,0,2])\n",
    "plt.show()"
   ]
  },
  {
   "cell_type": "markdown",
   "metadata": {
    "application/vnd.databricks.v1+cell": {
     "cellMetadata": {},
     "inputWidgets": {},
     "nuid": "b2bc0998-1bb3-4fcd-a6f6-4d4e7c0c8b1f",
     "showTitle": false,
     "title": ""
    }
   },
   "source": [
    "The histogram is a function where $h[r]$  where   $r \\in {0,1,2} $. In the above example  $h[0]=1$,$h[1]=5$ and $h[2]=3$\n"
   ]
  },
  {
   "cell_type": "markdown",
   "metadata": {
    "application/vnd.databricks.v1+cell": {
     "cellMetadata": {},
     "inputWidgets": {},
     "nuid": "72991105-d3a7-4850-aed1-cf8970b9734b",
     "showTitle": false,
     "title": ""
    }
   },
   "source": [
    "## Gray Scale Histograms \n"
   ]
  },
  {
   "cell_type": "markdown",
   "metadata": {
    "application/vnd.databricks.v1+cell": {
     "cellMetadata": {},
     "inputWidgets": {},
     "nuid": "c74fcac6-f643-4441-a9a2-81449df9ff65",
     "showTitle": false,
     "title": ""
    }
   },
   "source": [
    "\n",
    "\n",
    "Histograms are used in grayscale images.  Grayscale images are used in many applications, including medical and industrial. Color images are split into luminance and chrominance. The luminance is the grayscale portion and is usually processed in many applications. Consider the following \"Gold Hill\" image:\n"
   ]
  },
  {
   "cell_type": "code",
   "execution_count": 0,
   "metadata": {
    "application/vnd.databricks.v1+cell": {
     "cellMetadata": {
      "byteLimit": 2048000,
      "rowLimit": 10000
     },
     "inputWidgets": {},
     "nuid": "6b84a99f-3e62-48ce-90a0-34ed964f1ec6",
     "showTitle": false,
     "title": ""
    }
   },
   "outputs": [],
   "source": [
    "goldhill = cv2.imread(\"goldhill.bmp\",cv2.IMREAD_GRAYSCALE)\n",
    "plt.figure(figsize=(10,10))\n",
    "plt.imshow(goldhill,cmap=\"gray\")\n",
    "plt.show()"
   ]
  },
  {
   "cell_type": "markdown",
   "metadata": {
    "application/vnd.databricks.v1+cell": {
     "cellMetadata": {},
     "inputWidgets": {},
     "nuid": "74626206-0dc7-43d8-a0b5-6f92901a30a7",
     "showTitle": false,
     "title": ""
    }
   },
   "source": [
    "We can calculate the histogram using the `calcHist` function from the `cv2` module as follows, the shape is 256.\n"
   ]
  },
  {
   "cell_type": "code",
   "execution_count": 0,
   "metadata": {
    "application/vnd.databricks.v1+cell": {
     "cellMetadata": {
      "byteLimit": 2048000,
      "rowLimit": 10000
     },
     "inputWidgets": {},
     "nuid": "a5b1c8a9-52b9-4e02-ad60-57155990979e",
     "showTitle": false,
     "title": ""
    }
   },
   "outputs": [],
   "source": [
    "hist = cv2.calcHist([goldhill],[0], None, [256], [0,256])"
   ]
  },
  {
   "cell_type": "markdown",
   "metadata": {
    "application/vnd.databricks.v1+cell": {
     "cellMetadata": {},
     "inputWidgets": {},
     "nuid": "41ec4706-2933-4bcc-906e-bf63e08f95f0",
     "showTitle": false,
     "title": ""
    }
   },
   "source": [
    "We can plot it as a bar graph, the $x$-axis are the pixel intensities and the $y$-axis is the number of times of occurrences that the corresponding pixel intensity value on $x$-axis occurred.\n"
   ]
  },
  {
   "cell_type": "code",
   "execution_count": 0,
   "metadata": {
    "application/vnd.databricks.v1+cell": {
     "cellMetadata": {
      "byteLimit": 2048000,
      "rowLimit": 10000
     },
     "inputWidgets": {},
     "nuid": "7976d266-5735-486b-b8b0-f0a7f56550bc",
     "showTitle": false,
     "title": ""
    }
   },
   "outputs": [],
   "source": [
    "intensity_values = np.array([x for x in range(hist.shape[0])])\n",
    "plt.bar(intensity_values, hist[:,0], width = 5)\n",
    "plt.title(\"Bar histogram\")\n",
    "plt.show()"
   ]
  },
  {
   "cell_type": "markdown",
   "metadata": {
    "application/vnd.databricks.v1+cell": {
     "cellMetadata": {},
     "inputWidgets": {},
     "nuid": "e7044558-d614-4417-a4d1-2b53ca64439e",
     "showTitle": false,
     "title": ""
    }
   },
   "source": [
    "The histogram is a function where $h[r]$  where   $r \\in {0,1,..,255} $.\n"
   ]
  },
  {
   "cell_type": "markdown",
   "metadata": {
    "application/vnd.databricks.v1+cell": {
     "cellMetadata": {},
     "inputWidgets": {},
     "nuid": "13586c99-98e7-42a4-ba9f-9309b6bb6fd7",
     "showTitle": false,
     "title": ""
    }
   },
   "source": [
    "We can convert it to a probability mass function by normalizing it by the number of pixels:\n"
   ]
  },
  {
   "cell_type": "code",
   "execution_count": 0,
   "metadata": {
    "application/vnd.databricks.v1+cell": {
     "cellMetadata": {
      "byteLimit": 2048000,
      "rowLimit": 10000
     },
     "inputWidgets": {},
     "nuid": "3364eb2d-7590-4d67-949a-1a29d72b00e8",
     "showTitle": false,
     "title": ""
    }
   },
   "outputs": [],
   "source": [
    "PMF = hist / (goldhill.shape[0] * goldhill.shape[1])"
   ]
  },
  {
   "cell_type": "markdown",
   "metadata": {
    "application/vnd.databricks.v1+cell": {
     "cellMetadata": {},
     "inputWidgets": {},
     "nuid": "09c01bad-8473-493e-b479-895996c8281c",
     "showTitle": false,
     "title": ""
    }
   },
   "source": [
    "We can plot as a continuous function:\n"
   ]
  },
  {
   "cell_type": "code",
   "execution_count": 0,
   "metadata": {
    "application/vnd.databricks.v1+cell": {
     "cellMetadata": {
      "byteLimit": 2048000,
      "rowLimit": 10000
     },
     "inputWidgets": {},
     "nuid": "29dc3704-d454-4abe-bc06-760396828af4",
     "showTitle": false,
     "title": ""
    }
   },
   "outputs": [],
   "source": [
    "plt.plot(intensity_values,hist)\n",
    "plt.title(\"histogram\")\n",
    "plt.show()"
   ]
  },
  {
   "cell_type": "markdown",
   "metadata": {
    "application/vnd.databricks.v1+cell": {
     "cellMetadata": {},
     "inputWidgets": {},
     "nuid": "334e766a-4d69-4c18-ae6a-b62cba9b594c",
     "showTitle": false,
     "title": ""
    }
   },
   "source": [
    "\n",
    "We can also apply a histogram to each image color channel:\n"
   ]
  },
  {
   "cell_type": "code",
   "execution_count": 0,
   "metadata": {
    "application/vnd.databricks.v1+cell": {
     "cellMetadata": {
      "byteLimit": 2048000,
      "rowLimit": 10000
     },
     "inputWidgets": {},
     "nuid": "6f477d98-d9ff-42fc-82c9-e20cfe3e077b",
     "showTitle": false,
     "title": ""
    }
   },
   "outputs": [],
   "source": [
    "baboon = cv2.imread(\"baboon.png\")\n",
    "plt.imshow(cv2.cvtColor(baboon,cv2.COLOR_BGR2RGB))\n",
    "plt.show()"
   ]
  },
  {
   "cell_type": "markdown",
   "metadata": {
    "application/vnd.databricks.v1+cell": {
     "cellMetadata": {},
     "inputWidgets": {},
     "nuid": "09c2a4c2-1ce6-4d27-a672-9769471c1b2c",
     "showTitle": false,
     "title": ""
    }
   },
   "source": [
    "In the loop, the value for <code>i</code> specifies what color channel <code>calcHist</code> is going to calculate the histogram for.   \n"
   ]
  },
  {
   "cell_type": "code",
   "execution_count": 0,
   "metadata": {
    "application/vnd.databricks.v1+cell": {
     "cellMetadata": {
      "byteLimit": 2048000,
      "rowLimit": 10000
     },
     "inputWidgets": {},
     "nuid": "1643aa0f-4370-45d1-bf1c-ba0c463afb9c",
     "showTitle": false,
     "title": ""
    }
   },
   "outputs": [],
   "source": [
    "color = ('blue','green','red')\n",
    "for i,col in enumerate(color):\n",
    "    histr = cv2.calcHist([baboon],[i],None,[256],[0,256])\n",
    "    plt.plot(intensity_values,histr,color = col,label=col+\" channel\")\n",
    "    \n",
    "    plt.xlim([0,256])\n",
    "plt.legend()\n",
    "plt.title(\"Histogram Channels\")\n",
    "plt.show()"
   ]
  },
  {
   "cell_type": "markdown",
   "metadata": {
    "application/vnd.databricks.v1+cell": {
     "cellMetadata": {},
     "inputWidgets": {},
     "nuid": "a8f262a1-d435-4766-8bb0-9c69925bf34a",
     "showTitle": false,
     "title": ""
    }
   },
   "source": [
    "#  Intensity Transformations\n"
   ]
  },
  {
   "cell_type": "markdown",
   "metadata": {
    "application/vnd.databricks.v1+cell": {
     "cellMetadata": {},
     "inputWidgets": {},
     "nuid": "b7aec8ab-694d-440b-b42e-60478969291b",
     "showTitle": false,
     "title": ""
    }
   },
   "source": [
    "It's helpful to think of an image as a function $f(x,y)$ instead of an array at this point, where `x` is the row index and `y` is the column index. You can apply a transformation $T$ to the image and get a new image: \n",
    "$$\n",
    "g(x,y)=T(f(x,y))\n",
    "$$\n",
    "\n",
    "An Intensity Transformation depends on only one single point $(x,y)$. For example, you can apply a linear transform $g(x,y) = 2f(x,y) + 1$; this will multiply each image pixel by two and add one.\n",
    "\n",
    "As the Intensity transforms only depend on one value; as a result, it is sometimes referred to as a gray-level mapping. The variable if $r$ is the gray level intensity, similar to the histogram values. The new output s is given by:\n",
    "\n",
    "$$\n",
    "s=T(r)\n",
    "$$\n"
   ]
  },
  {
   "cell_type": "markdown",
   "metadata": {
    "application/vnd.databricks.v1+cell": {
     "cellMetadata": {},
     "inputWidgets": {},
     "nuid": "d8bad042-859c-48f3-869e-2e9a5649b22b",
     "showTitle": false,
     "title": ""
    }
   },
   "source": [
    "## Image Negatives\n"
   ]
  },
  {
   "cell_type": "markdown",
   "metadata": {
    "application/vnd.databricks.v1+cell": {
     "cellMetadata": {},
     "inputWidgets": {},
     "nuid": "dde006de-0369-47b7-965e-556b2cf6809c",
     "showTitle": false,
     "title": ""
    }
   },
   "source": [
    "Consider an image with $L$ intensity values ranging from $[0,L-1]$.  We can reverse the intensity levels by applying the following:\n",
    "$$\n",
    "g(x,y)=L-1-f(x,y)\n",
    "$$\n",
    "\n",
    "Using the intensity transformation function notation \n",
    "$$\n",
    "s = L - 1 - r\n",
    "$$\n",
    "\n",
    "This is called the image negative. For $L= 256$ the formulas simplifys to:\n",
    "$$\n",
    "g(x,y)=255-f(x,y) \\qquad \\mbox{and} \\qquad s=255-r\n",
    "$$\n"
   ]
  },
  {
   "cell_type": "markdown",
   "metadata": {
    "application/vnd.databricks.v1+cell": {
     "cellMetadata": {},
     "inputWidgets": {},
     "nuid": "9656b8b9-1f9f-4a2b-8e3d-125ae79555f5",
     "showTitle": false,
     "title": ""
    }
   },
   "source": [
    "We can perform intensity transformation on the toy image where $L = 3$:\n"
   ]
  },
  {
   "cell_type": "code",
   "execution_count": 0,
   "metadata": {
    "application/vnd.databricks.v1+cell": {
     "cellMetadata": {},
     "inputWidgets": {},
     "nuid": "64068720-d56a-496e-8fa1-d8432c465cc8",
     "showTitle": false,
     "title": ""
    }
   },
   "outputs": [],
   "source": [
    "neg_toy_image = -1 * toy_image + 255\n",
    "\n",
    "print(\"toy image\\n\", neg_toy_image)\n",
    "print(\"image negatives\\n\", neg_toy_image)"
   ]
  },
  {
   "cell_type": "markdown",
   "metadata": {
    "application/vnd.databricks.v1+cell": {
     "cellMetadata": {},
     "inputWidgets": {},
     "nuid": "048c5d0e-f9d6-4c7c-a052-cca6530afb8d",
     "showTitle": false,
     "title": ""
    }
   },
   "source": [
    "We see darker intensity’s become brighter and brighter become darker, middle intensity’s remain the same.\n"
   ]
  },
  {
   "cell_type": "code",
   "execution_count": 0,
   "metadata": {
    "application/vnd.databricks.v1+cell": {
     "cellMetadata": {},
     "inputWidgets": {},
     "nuid": "94d41388-798f-43e7-b9bc-35dad074630c",
     "showTitle": false,
     "title": ""
    }
   },
   "outputs": [],
   "source": [
    "plt.figure(figsize=(10,10))\n",
    "plt.subplot(1, 2, 1) \n",
    "plt.imshow(toy_image,cmap=\"gray\")\n",
    "plt.subplot(1, 2, 2)\n",
    "plt.imshow(neg_toy_image,cmap=\"gray\")\n",
    "plt.show()\n",
    "print(\"toy_image:\",toy_image)"
   ]
  },
  {
   "cell_type": "markdown",
   "metadata": {
    "application/vnd.databricks.v1+cell": {
     "cellMetadata": {},
     "inputWidgets": {},
     "nuid": "923b21e2-f876-4cde-9423-93287314a7a5",
     "showTitle": false,
     "title": ""
    }
   },
   "source": [
    "Reversing image intensity has many applications, including making it simpler to analyze medical images. Consider the mammogram with micro-calcifications on the upper quadrant:\n"
   ]
  },
  {
   "cell_type": "code",
   "execution_count": 0,
   "metadata": {
    "application/vnd.databricks.v1+cell": {
     "cellMetadata": {},
     "inputWidgets": {},
     "nuid": "6a07f60a-1730-4484-8cd6-6878d8b14fcf",
     "showTitle": false,
     "title": ""
    }
   },
   "outputs": [],
   "source": [
    "image = cv2.imread(\"mammogram.png\", cv2.IMREAD_GRAYSCALE)\n",
    "cv2.rectangle(image, pt1=(160, 212), pt2=(250, 289), color = (255), thickness=2) \n",
    "\n",
    "plt.figure(figsize = (10,10))\n",
    "plt.imshow(image, cmap=\"gray\")\n",
    "plt.show()"
   ]
  },
  {
   "cell_type": "markdown",
   "metadata": {
    "application/vnd.databricks.v1+cell": {
     "cellMetadata": {},
     "inputWidgets": {},
     "nuid": "f164cb20-ece2-4269-b64d-4399c1c23d55",
     "showTitle": false,
     "title": ""
    }
   },
   "source": [
    "We can apply the intensity transformation:\n"
   ]
  },
  {
   "cell_type": "code",
   "execution_count": 0,
   "metadata": {
    "application/vnd.databricks.v1+cell": {
     "cellMetadata": {},
     "inputWidgets": {},
     "nuid": "275c4231-ab8a-409b-9e17-57fb052b4d71",
     "showTitle": false,
     "title": ""
    }
   },
   "outputs": [],
   "source": [
    "img_neg = -1 * image + 255"
   ]
  },
  {
   "cell_type": "markdown",
   "metadata": {
    "application/vnd.databricks.v1+cell": {
     "cellMetadata": {},
     "inputWidgets": {},
     "nuid": "43285c87-9062-435d-947a-0e74c50d46d8",
     "showTitle": false,
     "title": ""
    }
   },
   "source": [
    "We see the micro-calcifications in the image negatives is easier it is to analyze:\n"
   ]
  },
  {
   "cell_type": "code",
   "execution_count": 0,
   "metadata": {
    "application/vnd.databricks.v1+cell": {
     "cellMetadata": {},
     "inputWidgets": {},
     "nuid": "8fe72e9a-b7a2-45c2-8eb1-8cd6942b443a",
     "showTitle": false,
     "title": ""
    }
   },
   "outputs": [],
   "source": [
    "plt.figure(figsize=(10,10))\n",
    "plt.imshow(img_neg, cmap = \"gray\")\n",
    "plt.show()"
   ]
  },
  {
   "cell_type": "markdown",
   "metadata": {
    "application/vnd.databricks.v1+cell": {
     "cellMetadata": {},
     "inputWidgets": {},
     "nuid": "0d9523ba-14c1-440c-bd03-9f54b31894d0",
     "showTitle": false,
     "title": ""
    }
   },
   "source": [
    "## Brightness and contrast adjustments\n"
   ]
  },
  {
   "cell_type": "markdown",
   "metadata": {
    "application/vnd.databricks.v1+cell": {
     "cellMetadata": {},
     "inputWidgets": {},
     "nuid": "f363c420-4c3e-4f0a-8c31-7f04c1b5c61c",
     "showTitle": false,
     "title": ""
    }
   },
   "source": [
    "We can use multiplication by $\\alpha$ for contrast control and addition by $\\beta$ to improve brightness control. This applies the Intensity Transformation as well. The image is $f(x,y)$ and the transformed image is $g(x,y)$, where $g(x,y) = \\alpha f(x,y) + \\beta$.\n"
   ]
  },
  {
   "cell_type": "markdown",
   "metadata": {
    "application/vnd.databricks.v1+cell": {
     "cellMetadata": {},
     "inputWidgets": {},
     "nuid": "79d4a185-b92e-428c-bc94-ef69793edb3e",
     "showTitle": false,
     "title": ""
    }
   },
   "source": [
    " Rather than implementing via array operations, we use the function  <code>convertScaleAbs</code>. It scales, calculates absolute values, and converts the result to 8-bit so the values fall between $[0,255]$. For brightness control, we can set $\\alpha$ to 1 and $\\beta$ to 100: Remember the Good Hill image, it’s dark and hazy so let's see if we can improve it. \n"
   ]
  },
  {
   "cell_type": "code",
   "execution_count": 0,
   "metadata": {
    "application/vnd.databricks.v1+cell": {
     "cellMetadata": {},
     "inputWidgets": {},
     "nuid": "3ed58cd9-3c17-4194-9cc1-7c7807694715",
     "showTitle": false,
     "title": ""
    }
   },
   "outputs": [],
   "source": [
    "alpha = 1 # Simple contrast control\n",
    "beta = 100   # Simple brightness control   \n",
    "new_image = cv2.convertScaleAbs(goldhill, alpha=alpha, beta=beta)"
   ]
  },
  {
   "cell_type": "markdown",
   "metadata": {
    "application/vnd.databricks.v1+cell": {
     "cellMetadata": {},
     "inputWidgets": {},
     "nuid": "4c279f8e-ed82-483a-9a4e-4932aaf0513d",
     "showTitle": false,
     "title": ""
    }
   },
   "source": [
    "We can plot the brighter image, it's much brighter :\n"
   ]
  },
  {
   "cell_type": "code",
   "execution_count": 0,
   "metadata": {
    "application/vnd.databricks.v1+cell": {
     "cellMetadata": {},
     "inputWidgets": {},
     "nuid": "bad4f1b0-f71d-4c3c-9d32-788bc48679b9",
     "showTitle": false,
     "title": ""
    }
   },
   "outputs": [],
   "source": [
    "plot_image(goldhill, new_image, title_1 = \"Orignal\", title_2 = \"brightness control\")"
   ]
  },
  {
   "cell_type": "markdown",
   "metadata": {
    "application/vnd.databricks.v1+cell": {
     "cellMetadata": {},
     "inputWidgets": {},
     "nuid": "7ac555a1-2944-4fd0-b888-5eb96bc50b9b",
     "showTitle": false,
     "title": ""
    }
   },
   "source": [
    "We see the brighter image's histogram is shifted:     \n"
   ]
  },
  {
   "cell_type": "code",
   "execution_count": 0,
   "metadata": {
    "application/vnd.databricks.v1+cell": {
     "cellMetadata": {},
     "inputWidgets": {},
     "nuid": "5b3b6ba3-5bbe-4d92-aa23-497d80a17440",
     "showTitle": false,
     "title": ""
    }
   },
   "outputs": [],
   "source": [
    "plt.figure(figsize=(10,5))\n",
    "plot_hist(goldhill, new_image, \"Orignal\", \"brightness control\")"
   ]
  },
  {
   "cell_type": "markdown",
   "metadata": {
    "application/vnd.databricks.v1+cell": {
     "cellMetadata": {},
     "inputWidgets": {},
     "nuid": "86b8c9c6-ded8-4ad9-9fd8-dd6374793844",
     "showTitle": false,
     "title": ""
    }
   },
   "source": [
    "We can increase the contrast by increasing $\\alpha$:\n"
   ]
  },
  {
   "cell_type": "code",
   "execution_count": 0,
   "metadata": {
    "application/vnd.databricks.v1+cell": {
     "cellMetadata": {},
     "inputWidgets": {},
     "nuid": "8ec75f2c-0821-4ed0-a7a7-063a160cd4af",
     "showTitle": false,
     "title": ""
    }
   },
   "outputs": [],
   "source": [
    "plt.figure(figsize=(10,5))\n",
    "alpha = 2# Simple contrast control\n",
    "beta = 0 # Simple brightness control   # Simple brightness control\n",
    "new_image = cv2.convertScaleAbs(goldhill, alpha=alpha, beta=beta)"
   ]
  },
  {
   "cell_type": "markdown",
   "metadata": {
    "application/vnd.databricks.v1+cell": {
     "cellMetadata": {},
     "inputWidgets": {},
     "nuid": "e55dbf80-17e0-48cb-9085-edcbad2ebc16",
     "showTitle": false,
     "title": ""
    }
   },
   "source": [
    "We can plot the image and its corresponding histogram:\n"
   ]
  },
  {
   "cell_type": "code",
   "execution_count": 0,
   "metadata": {
    "application/vnd.databricks.v1+cell": {
     "cellMetadata": {},
     "inputWidgets": {},
     "nuid": "c048c9d7-0bd5-42d4-b74b-3bb4a673a683",
     "showTitle": false,
     "title": ""
    }
   },
   "outputs": [],
   "source": [
    "plot_image(goldhill,new_image,\"Orignal\",\"contrast control\")"
   ]
  },
  {
   "cell_type": "code",
   "execution_count": 0,
   "metadata": {
    "application/vnd.databricks.v1+cell": {
     "cellMetadata": {},
     "inputWidgets": {},
     "nuid": "c8ff3a68-df7f-40db-a29e-2c1f71356def",
     "showTitle": false,
     "title": ""
    }
   },
   "outputs": [],
   "source": [
    "plt.figure(figsize=(10,5))\n",
    "plot_hist(goldhill, new_image,\"Orignal\",\"contrast control\")"
   ]
  },
  {
   "cell_type": "markdown",
   "metadata": {
    "application/vnd.databricks.v1+cell": {
     "cellMetadata": {},
     "inputWidgets": {},
     "nuid": "812082d8-0fd6-431d-9948-b0c01ef40055",
     "showTitle": false,
     "title": ""
    }
   },
   "source": [
    "When plotting the image we see it's too bright. We can adapt the brightness by making the image darker and increasing the contrast at the same time. \n"
   ]
  },
  {
   "cell_type": "code",
   "execution_count": 0,
   "metadata": {
    "application/vnd.databricks.v1+cell": {
     "cellMetadata": {},
     "inputWidgets": {},
     "nuid": "7c165228-679d-476b-b213-2dedcc757e2f",
     "showTitle": false,
     "title": ""
    }
   },
   "outputs": [],
   "source": [
    "plt.figure(figsize=(10,5))\n",
    "alpha = 3 # Simple contrast control\n",
    "beta = -200  # Simple brightness control   \n",
    "new_image = cv2.convertScaleAbs(goldhill, alpha=alpha, beta=beta)"
   ]
  },
  {
   "cell_type": "code",
   "execution_count": 0,
   "metadata": {
    "application/vnd.databricks.v1+cell": {
     "cellMetadata": {},
     "inputWidgets": {},
     "nuid": "b543b3d9-b781-4ec6-af95-a8698f4062ee",
     "showTitle": false,
     "title": ""
    }
   },
   "outputs": [],
   "source": [
    "plot_image(goldhill, new_image, \"Orignal\", \"brightness & contrast control\")"
   ]
  },
  {
   "cell_type": "code",
   "execution_count": 0,
   "metadata": {
    "application/vnd.databricks.v1+cell": {
     "cellMetadata": {},
     "inputWidgets": {},
     "nuid": "9ae60a53-b832-4c59-bdf1-afe0b7bc0421",
     "showTitle": false,
     "title": ""
    }
   },
   "outputs": [],
   "source": [
    "plt.figure(figsize=(10,5))\n",
    "plot_hist(goldhill, new_image, \"Orignal\", \"brightness & contrast control\")"
   ]
  },
  {
   "cell_type": "markdown",
   "metadata": {
    "application/vnd.databricks.v1+cell": {
     "cellMetadata": {},
     "inputWidgets": {},
     "nuid": "6064a0e1-9ccf-48b7-8f76-8723cfb124ea",
     "showTitle": false,
     "title": ""
    }
   },
   "source": [
    "There are other nonlinear methods to improve contrast and brightness, these methods have different sets of parameters. In general, it’s difficult to manually adjust the contrast and brightness parameter, but there are algorithms that improve contrast automatically.\n"
   ]
  },
  {
   "cell_type": "markdown",
   "metadata": {
    "application/vnd.databricks.v1+cell": {
     "cellMetadata": {},
     "inputWidgets": {},
     "nuid": "7cca8f83-dc92-4228-9c98-afa4dc774eae",
     "showTitle": false,
     "title": ""
    }
   },
   "source": [
    "## Histogram Equalization\n"
   ]
  },
  {
   "cell_type": "markdown",
   "metadata": {
    "application/vnd.databricks.v1+cell": {
     "cellMetadata": {},
     "inputWidgets": {},
     "nuid": "9e547bc3-c7c0-407b-9414-164768f110f2",
     "showTitle": false,
     "title": ""
    }
   },
   "source": [
    "Histogram Equalization increases the contrast of images, by stretching out the range of the grayscale pixels; It does this by flatting  the histogram. We simply apply the function <code>cv2.equalizeHist</code>.\n"
   ]
  },
  {
   "cell_type": "code",
   "execution_count": 0,
   "metadata": {
    "application/vnd.databricks.v1+cell": {
     "cellMetadata": {},
     "inputWidgets": {},
     "nuid": "ee31f8e6-316b-476c-b96b-2e5e65fd0de0",
     "showTitle": false,
     "title": ""
    }
   },
   "outputs": [],
   "source": [
    "zelda = cv2.imread(\"zelda.png\",cv2.IMREAD_GRAYSCALE)\n",
    "new_image = cv2.equalizeHist(zelda)"
   ]
  },
  {
   "cell_type": "markdown",
   "metadata": {
    "application/vnd.databricks.v1+cell": {
     "cellMetadata": {},
     "inputWidgets": {},
     "nuid": "55d7cefa-ce50-4eb9-82e4-720e8f184dec",
     "showTitle": false,
     "title": ""
    }
   },
   "source": [
    "We can compare the image before and after Histogram Equalization, we see the contrast is improved. We see after the Histogram Equalization is applied, the histogram is stretched out:\n"
   ]
  },
  {
   "cell_type": "code",
   "execution_count": 0,
   "metadata": {
    "application/vnd.databricks.v1+cell": {
     "cellMetadata": {},
     "inputWidgets": {},
     "nuid": "f9398252-8387-4eec-807f-d522d8820197",
     "showTitle": false,
     "title": ""
    }
   },
   "outputs": [],
   "source": [
    "plot_image(zelda,new_image,\"Orignal\",\"Histogram Equalization\")"
   ]
  },
  {
   "cell_type": "code",
   "execution_count": 0,
   "metadata": {
    "application/vnd.databricks.v1+cell": {
     "cellMetadata": {},
     "inputWidgets": {},
     "nuid": "1004d372-b82d-4495-81bc-1872ccddb492",
     "showTitle": false,
     "title": ""
    }
   },
   "outputs": [],
   "source": [
    "plt.figure(figsize=(10,5))\n",
    "plot_hist(zelda, new_image,\"Orignal\",\"Histogram Equalization\")"
   ]
  },
  {
   "cell_type": "markdown",
   "metadata": {
    "application/vnd.databricks.v1+cell": {
     "cellMetadata": {},
     "inputWidgets": {},
     "nuid": "0b00d45c-a83c-4a1f-87d0-683182e4a41b",
     "showTitle": false,
     "title": ""
    }
   },
   "source": [
    "## Thresholding and Simple Segmentation \n"
   ]
  },
  {
   "cell_type": "markdown",
   "metadata": {
    "application/vnd.databricks.v1+cell": {
     "cellMetadata": {},
     "inputWidgets": {},
     "nuid": "af6029f5-faef-4f4c-a9ac-3526e9608e99",
     "showTitle": false,
     "title": ""
    }
   },
   "source": [
    "Thresholding is used in image segmentation this means extracting objects from an image. Image segmentation is used in many applications including extracting text, medical imaging, and industrial imaging.\n",
    "Thresholding an image takes a threshold; If a particular pixel (i,j) is greater than that threshold it will set that pixel to some value usually 1 or 255, otherwise, it will set it to another value, usually zero. We can write a Python function that will perform thresholding and output a new image given some input grayscale image:\n"
   ]
  },
  {
   "cell_type": "code",
   "execution_count": 0,
   "metadata": {
    "application/vnd.databricks.v1+cell": {
     "cellMetadata": {},
     "inputWidgets": {},
     "nuid": "9fd192dd-8ddf-4a69-a6ef-b2ff13da4ca5",
     "showTitle": false,
     "title": ""
    }
   },
   "outputs": [],
   "source": [
    "def thresholding(input_img,threshold,max_value=255, min_value=0):\n",
    "    N,M=input_img.shape\n",
    "    image_out=np.zeros((N,M),dtype=np.uint8)\n",
    "        \n",
    "    for i  in range(N):\n",
    "        for j in range(M):\n",
    "            if input_img[i,j]> threshold:\n",
    "                image_out[i,j]=max_value\n",
    "            else:\n",
    "                image_out[i,j]=min_value\n",
    "                \n",
    "    return image_out                             "
   ]
  },
  {
   "cell_type": "markdown",
   "metadata": {
    "application/vnd.databricks.v1+cell": {
     "cellMetadata": {},
     "inputWidgets": {},
     "nuid": "a32e450c-e2eb-4482-8540-f9540d978c3f",
     "showTitle": false,
     "title": ""
    }
   },
   "source": [
    "Consider the following toy image:\n"
   ]
  },
  {
   "cell_type": "code",
   "execution_count": 0,
   "metadata": {
    "application/vnd.databricks.v1+cell": {
     "cellMetadata": {},
     "inputWidgets": {},
     "nuid": "424d8872-0c7c-46be-8cf5-ae073f41726c",
     "showTitle": false,
     "title": ""
    }
   },
   "outputs": [],
   "source": [
    "toy_image"
   ]
  },
  {
   "cell_type": "markdown",
   "metadata": {
    "application/vnd.databricks.v1+cell": {
     "cellMetadata": {},
     "inputWidgets": {},
     "nuid": "eaeb4237-a993-4541-be63-b3b0cf78d066",
     "showTitle": false,
     "title": ""
    }
   },
   "source": [
    "We can apply thresholding, by setting all the values less than two to zero. \n"
   ]
  },
  {
   "cell_type": "code",
   "execution_count": 0,
   "metadata": {
    "application/vnd.databricks.v1+cell": {
     "cellMetadata": {},
     "inputWidgets": {},
     "nuid": "cf931a24-f87d-482c-b164-24e2f4daf31b",
     "showTitle": false,
     "title": ""
    }
   },
   "outputs": [],
   "source": [
    "threshold = 1\n",
    "max_value = 2\n",
    "min_value = 0\n",
    "thresholding_toy = thresholding(toy_image, threshold=threshold, max_value=max_value, min_value=min_value)\n",
    "thresholding_toy"
   ]
  },
  {
   "cell_type": "markdown",
   "metadata": {
    "application/vnd.databricks.v1+cell": {
     "cellMetadata": {},
     "inputWidgets": {},
     "nuid": "686c9d07-ca37-4a36-911c-73b46463424f",
     "showTitle": false,
     "title": ""
    }
   },
   "source": [
    "We can compare the two images. In the new image we see all the gray values are now black:\n"
   ]
  },
  {
   "cell_type": "code",
   "execution_count": 0,
   "metadata": {
    "application/vnd.databricks.v1+cell": {
     "cellMetadata": {},
     "inputWidgets": {},
     "nuid": "43906449-2472-40ee-8447-1e4ccd68d720",
     "showTitle": false,
     "title": ""
    }
   },
   "outputs": [],
   "source": [
    "plt.figure(figsize=(10, 10))\n",
    "plt.subplot(1, 2, 1)\n",
    "plt.imshow(toy_image, cmap=\"gray\")\n",
    "plt.title(\"Original Image\")\n",
    "plt.subplot(1, 2, 2)\n",
    "plt.imshow(thresholding_toy, cmap=\"gray\")\n",
    "plt.title(\"Image After Thresholding\")\n",
    "plt.show()"
   ]
  },
  {
   "cell_type": "markdown",
   "metadata": {
    "application/vnd.databricks.v1+cell": {
     "cellMetadata": {},
     "inputWidgets": {},
     "nuid": "124cb1a4-627e-46c7-8a38-e1bf0f4c85fe",
     "showTitle": false,
     "title": ""
    }
   },
   "source": [
    "Consider the cameraman image:\n"
   ]
  },
  {
   "cell_type": "code",
   "execution_count": 0,
   "metadata": {
    "application/vnd.databricks.v1+cell": {
     "cellMetadata": {},
     "inputWidgets": {},
     "nuid": "9a3d65c5-0d03-4d18-8ab8-a99cf0c95fe9",
     "showTitle": false,
     "title": ""
    }
   },
   "outputs": [],
   "source": [
    "image = cv2.imread(\"cameraman.jpeg\", cv2.IMREAD_GRAYSCALE)\n",
    "plt.figure(figsize=(10, 10))\n",
    "plt.imshow(image, cmap=\"gray\")\n",
    "plt.show()"
   ]
  },
  {
   "cell_type": "markdown",
   "metadata": {
    "application/vnd.databricks.v1+cell": {
     "cellMetadata": {},
     "inputWidgets": {},
     "nuid": "fdb1655e-34e5-493d-8129-0729f296c61d",
     "showTitle": false,
     "title": ""
    }
   },
   "source": [
    "We can see the histogram as two peeks, this means that there is a large proportion of pixels in those two ranges:\n"
   ]
  },
  {
   "cell_type": "code",
   "execution_count": 0,
   "metadata": {
    "application/vnd.databricks.v1+cell": {
     "cellMetadata": {},
     "inputWidgets": {},
     "nuid": "98c2adad-e8df-4c19-b3a2-90af9d180692",
     "showTitle": false,
     "title": ""
    }
   },
   "outputs": [],
   "source": [
    "hist = cv2.calcHist([goldhill], [0], None, [256], [0, 256])\n",
    "plt.bar(intensity_values, hist[:, 0], width=5)\n",
    "plt.title(\"Bar histogram\")\n",
    "plt.show()"
   ]
  },
  {
   "cell_type": "markdown",
   "metadata": {
    "application/vnd.databricks.v1+cell": {
     "cellMetadata": {},
     "inputWidgets": {},
     "nuid": "538169f5-82b0-469f-8879-0d7e173e7992",
     "showTitle": false,
     "title": ""
    }
   },
   "source": [
    "The cameraman corresponds to the darker pixels, therefore we can set the Threshold in such a way as to segment the cameraman. In this case, it looks to be slightly less than 90, let’s give it a try:\n"
   ]
  },
  {
   "cell_type": "code",
   "execution_count": 0,
   "metadata": {
    "application/vnd.databricks.v1+cell": {
     "cellMetadata": {},
     "inputWidgets": {},
     "nuid": "6d4bee10-13b3-41ef-b768-8c57078d0a8e",
     "showTitle": false,
     "title": ""
    }
   },
   "outputs": [],
   "source": [
    "threshold = 87\n",
    "max_value = 255\n",
    "min_value = 0\n",
    "new_image = thresholding(image, threshold=threshold, max_value=max_value, min_value=min_value)"
   ]
  },
  {
   "cell_type": "markdown",
   "metadata": {
    "application/vnd.databricks.v1+cell": {
     "cellMetadata": {},
     "inputWidgets": {},
     "nuid": "e7407ba3-a8c7-46f2-a0db-ef42b96993c4",
     "showTitle": false,
     "title": ""
    }
   },
   "source": [
    "We see the pixels corresponding to the cameraman are now zero and the rest are set to 255:\n"
   ]
  },
  {
   "cell_type": "code",
   "execution_count": 0,
   "metadata": {
    "application/vnd.databricks.v1+cell": {
     "cellMetadata": {},
     "inputWidgets": {},
     "nuid": "85f9d801-c757-42e5-96ad-5b70c9195c9d",
     "showTitle": false,
     "title": ""
    }
   },
   "outputs": [],
   "source": [
    "plot_image(image, new_image, \"Orignal\", \"Image After Thresholding\")"
   ]
  },
  {
   "cell_type": "code",
   "execution_count": 0,
   "metadata": {
    "application/vnd.databricks.v1+cell": {
     "cellMetadata": {},
     "inputWidgets": {},
     "nuid": "14339dad-060d-461c-baa8-c94fc74ec5a8",
     "showTitle": false,
     "title": ""
    }
   },
   "outputs": [],
   "source": [
    "plt.figure(figsize=(10,5))\n",
    "plot_hist(image, new_image, \"Orignal\", \"Image After Thresholding\")"
   ]
  },
  {
   "cell_type": "markdown",
   "metadata": {
    "application/vnd.databricks.v1+cell": {
     "cellMetadata": {},
     "inputWidgets": {},
     "nuid": "009f29dc-4ff0-46de-a489-3fb2ea33637b",
     "showTitle": false,
     "title": ""
    }
   },
   "source": [
    "The function <code>cv.threshold</code> Applies a threshold to the gray image, with the following parameters:\n"
   ]
  },
  {
   "cell_type": "markdown",
   "metadata": {
    "application/vnd.databricks.v1+cell": {
     "cellMetadata": {},
     "inputWidgets": {},
     "nuid": "0aa92193-5465-4b39-8107-d4dc3174728b",
     "showTitle": false,
     "title": ""
    }
   },
   "source": [
    "<code>cv.threshold(grayscale image, threshold value, maximum value to use, thresholding type )</code>\n"
   ]
  },
  {
   "cell_type": "markdown",
   "metadata": {
    "application/vnd.databricks.v1+cell": {
     "cellMetadata": {},
     "inputWidgets": {},
     "nuid": "d196a8b4-fb85-49fb-bcc9-cd6c2507fa91",
     "showTitle": false,
     "title": ""
    }
   },
   "source": [
    "The  parameter thresholding type is the type of thresholding we would like to perform. For example, we have basic thresholding: <code>cv2.THRESH_BINARY</code> this is the type we implemented in the function <code>thresholding</code>, it just a number:\n"
   ]
  },
  {
   "cell_type": "code",
   "execution_count": 0,
   "metadata": {
    "application/vnd.databricks.v1+cell": {
     "cellMetadata": {},
     "inputWidgets": {},
     "nuid": "9a094fd2-5e3d-40d2-bb48-1921eadcc43e",
     "showTitle": false,
     "title": ""
    }
   },
   "outputs": [],
   "source": [
    "cv2.THRESH_BINARY"
   ]
  },
  {
   "cell_type": "markdown",
   "metadata": {
    "application/vnd.databricks.v1+cell": {
     "cellMetadata": {},
     "inputWidgets": {},
     "nuid": "ee018a6f-666b-4e47-a902-f26bd11ec9ef",
     "showTitle": false,
     "title": ""
    }
   },
   "source": [
    "We can apply thresholding to the image as follows:\n"
   ]
  },
  {
   "cell_type": "code",
   "execution_count": 0,
   "metadata": {
    "application/vnd.databricks.v1+cell": {
     "cellMetadata": {},
     "inputWidgets": {},
     "nuid": "fe00c1aa-80cc-4e54-8597-222fe96119b5",
     "showTitle": false,
     "title": ""
    }
   },
   "outputs": [],
   "source": [
    "ret, new_image = cv2.threshold(image,threshold,max_value,cv2.THRESH_BINARY)\n",
    "plot_image(image,new_image,\"Orignal\",\"Image After Thresholding\")\n",
    "plot_hist(image, new_image,\"Orignal\",\"Image After Thresholding\")"
   ]
  },
  {
   "cell_type": "markdown",
   "metadata": {
    "application/vnd.databricks.v1+cell": {
     "cellMetadata": {},
     "inputWidgets": {},
     "nuid": "4fcf7f1f-d6ce-4c4c-b053-84b771826904",
     "showTitle": false,
     "title": ""
    }
   },
   "source": [
    "<code>ret</code> is the threshold value and <code>new_image</code> is the image after thresholding has been applied. There are different threshold types, for example, cv2.THRESH_TRUNC will not change the values if the pixels are less than the threshold value:\n"
   ]
  },
  {
   "cell_type": "code",
   "execution_count": 0,
   "metadata": {
    "application/vnd.databricks.v1+cell": {
     "cellMetadata": {},
     "inputWidgets": {},
     "nuid": "7d967b61-f84a-44c7-afb2-0acf581b5723",
     "showTitle": false,
     "title": ""
    }
   },
   "outputs": [],
   "source": [
    "ret, new_image = cv2.threshold(image,86,255,cv2.THRESH_TRUNC)\n",
    "plot_image(image,new_image,\"Orignal\",\"Image After Thresholding\")\n",
    "plot_hist(image, new_image,\"Orignal\",\"Image After Thresholding\")"
   ]
  },
  {
   "cell_type": "markdown",
   "metadata": {
    "application/vnd.databricks.v1+cell": {
     "cellMetadata": {},
     "inputWidgets": {},
     "nuid": "99dfff8f-16bc-4564-91c5-dc751535688a",
     "showTitle": false,
     "title": ""
    }
   },
   "source": [
    "We see that the darker elements have not changed and the lighter values are set to 255.\n"
   ]
  },
  {
   "cell_type": "markdown",
   "metadata": {
    "application/vnd.databricks.v1+cell": {
     "cellMetadata": {},
     "inputWidgets": {},
     "nuid": "dace43ab-23b3-49ae-9b29-ff3f0300eba5",
     "showTitle": false,
     "title": ""
    }
   },
   "source": [
    " Otsu's method <code>cv2.THRESH_OTSU</code> avoids having to choose a value and determines it automatically, using the histogram.\n"
   ]
  },
  {
   "cell_type": "code",
   "execution_count": 0,
   "metadata": {
    "application/vnd.databricks.v1+cell": {
     "cellMetadata": {},
     "inputWidgets": {},
     "nuid": "164571e8-b232-4a06-9439-e1206353a33a",
     "showTitle": false,
     "title": ""
    }
   },
   "outputs": [],
   "source": [
    "ret, otsu = cv2.threshold(image,0,255,cv2.THRESH_OTSU)\n",
    "plot_image(image,otsu,\"Orignal\",\"Otsu\")\n",
    "plot_hist(image, otsu,\"Orignal\",\" Otsu's method\")"
   ]
  },
  {
   "cell_type": "markdown",
   "metadata": {
    "application/vnd.databricks.v1+cell": {
     "cellMetadata": {},
     "inputWidgets": {},
     "nuid": "d460cfbc-08e6-4587-891f-0fc21e58bd1c",
     "showTitle": false,
     "title": ""
    }
   },
   "source": [
    "We assign the first row of pixels of the original array to the new array's last row. We repeat the process for every row, incrementing the row number for the original array and decreasing the new array's row index assigning the pixels accordingly.\n"
   ]
  },
  {
   "cell_type": "code",
   "execution_count": 0,
   "metadata": {
    "application/vnd.databricks.v1+cell": {
     "cellMetadata": {},
     "inputWidgets": {},
     "nuid": "f6d0c6f8-d39f-4fa1-8e08-3e8cbf27a5fc",
     "showTitle": false,
     "title": ""
    }
   },
   "outputs": [],
   "source": [
    "ret"
   ]
  },
  {
   "cell_type": "markdown",
   "metadata": {
    "application/vnd.databricks.v1+cell": {
     "cellMetadata": {},
     "inputWidgets": {},
     "nuid": "4b636f8e-fe3b-4ce1-91db-f6f662194262",
     "showTitle": false,
     "title": ""
    }
   },
   "source": [
    "<h2>Authors</h2>\n"
   ]
  },
  {
   "cell_type": "markdown",
   "metadata": {
    "application/vnd.databricks.v1+cell": {
     "cellMetadata": {},
     "inputWidgets": {},
     "nuid": "f19f7feb-5025-4a2b-aa3d-d258e4755248",
     "showTitle": false,
     "title": ""
    }
   },
   "source": [
    " [Joseph Santarcangelo]( https://www.linkedin.com/in/joseph-s-50398b136/) has a PhD in Electrical Engineering, his research focused on using machine learning, signal processing, and computer vision to determine how videos impact human cognition. Joseph has been working for IBM since he completed his PhD.\n"
   ]
  },
  {
   "cell_type": "markdown",
   "metadata": {
    "application/vnd.databricks.v1+cell": {
     "cellMetadata": {},
     "inputWidgets": {},
     "nuid": "8b7ab696-77a7-4cf2-be04-b42ee936e709",
     "showTitle": false,
     "title": ""
    }
   },
   "source": [
    "# References \n"
   ]
  },
  {
   "cell_type": "markdown",
   "metadata": {
    "application/vnd.databricks.v1+cell": {
     "cellMetadata": {},
     "inputWidgets": {},
     "nuid": "23793a2a-c737-4e3f-be01-8a59864111dc",
     "showTitle": false,
     "title": ""
    }
   },
   "source": [
    "[1]  Images were taken from: https://homepages.cae.wisc.edu/~ece533/images/\n",
    "    \n",
    "[2]  <a href='https://pillow.readthedocs.io/en/stable/index.html'>Pillow Docs</a>\n",
    "\n",
    "[3]  <a href='https://opencv.org/'>Open CV</a>\n",
    "\n",
    "[4] Gonzalez, Rafael C., and Richard E. Woods. \"Digital image processing.\" (2017).\n",
    "\n",
    "[5 ] Jian, Wushuai, Xueyan Sun, and Shuqian Luo. \"Computer-aided diagnosis of breast microcalcifications based on dual-tree complex wavelet transform.\" Biomedical engineering online 11.1 (2012): 1-12.\n"
   ]
  },
  {
   "cell_type": "markdown",
   "metadata": {
    "application/vnd.databricks.v1+cell": {
     "cellMetadata": {},
     "inputWidgets": {},
     "nuid": "79feeafd-19f0-4a44-9c25-cb297b3b5d79",
     "showTitle": false,
     "title": ""
    }
   },
   "source": [
    "<!--<h2>Change Log</h2>-->\n"
   ]
  },
  {
   "cell_type": "markdown",
   "metadata": {
    "application/vnd.databricks.v1+cell": {
     "cellMetadata": {},
     "inputWidgets": {},
     "nuid": "5fca897b-cd0e-49b1-871a-45c3b01d4140",
     "showTitle": false,
     "title": ""
    }
   },
   "source": [
    "<!--<table>\n",
    "    <tr>\n",
    "        <th>Date (YYYY-MM-DD)</th>\n",
    "        <th>Version</th>\n",
    "        <th>Changed By</th>\n",
    "        <th>Change Description</th>\n",
    "    </tr>\n",
    "    <tr>\n",
    "        <td>2020-07-20</td>\n",
    "        <td>0.2</td>\n",
    "        <td>Azim</td>\n",
    "        <td>Modified Multiple Areas</td>\n",
    "    </tr>\n",
    "    <tr>\n",
    "        <td>2020-07-17</td>\n",
    "        <td>0.1</td>\n",
    "        <td>Azim</td>\n",
    "        <td>Created Lab Template</td>\n",
    "    </tr>\n",
    "</table>\n",
    "-->\n"
   ]
  },
  {
   "cell_type": "markdown",
   "metadata": {
    "application/vnd.databricks.v1+cell": {
     "cellMetadata": {},
     "inputWidgets": {},
     "nuid": "27e04186-5a1a-4094-a8b0-7a4863ec5efd",
     "showTitle": false,
     "title": ""
    }
   },
   "source": [
    "\n",
    "<h3 align=\"center\"> &#169; IBM Corporation. All rights reserved. <h3/>\n"
   ]
  }
 ],
 "metadata": {
  "application/vnd.databricks.v1+notebook": {
   "dashboards": [],
   "environmentMetadata": null,
   "language": "python",
   "notebookMetadata": {
    "pythonIndentUnit": 4
   },
   "notebookName": "2.3.2_ Histograms and Intensity Transformations",
   "widgets": {}
  },
  "kernelspec": {
   "display_name": "Python",
   "language": "python",
   "name": "conda-env-python-py"
  },
  "language_info": {
   "codemirror_mode": {
    "name": "ipython",
    "version": 3
   },
   "file_extension": ".py",
   "mimetype": "text/x-python",
   "name": "python",
   "nbconvert_exporter": "python",
   "pygments_lexer": "ipython3",
   "version": "3.7.12"
  },
  "prev_pub_hash": "f11f8126f2dc787dbf57b38846bb600f6392a811d874d341c81104515ff895fd"
 },
 "nbformat": 4,
 "nbformat_minor": 0
}
